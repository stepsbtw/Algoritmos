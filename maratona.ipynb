{
  "nbformat": 4,
  "nbformat_minor": 0,
  "metadata": {
    "colab": {
      "provenance": [],
      "toc_visible": true,
      "authorship_tag": "ABX9TyOKbA9INnadpWm+muWnf2H0",
      "include_colab_link": true
    },
    "kernelspec": {
      "name": "python3",
      "display_name": "Python 3"
    },
    "language_info": {
      "name": "python"
    }
  },
  "cells": [
    {
      "cell_type": "markdown",
      "metadata": {
        "id": "view-in-github",
        "colab_type": "text"
      },
      "source": [
        "<a href=\"https://colab.research.google.com/github/stepsbtw/Algoritmos/blob/main/maratona.ipynb\" target=\"_parent\"><img src=\"https://colab.research.google.com/assets/colab-badge.svg\" alt=\"Open In Colab\"/></a>"
      ]
    },
    {
      "cell_type": "markdown",
      "source": [
        "##TWO POINTERS\n",
        "Problemas que envolvem subarrays, substrings, ou pares de elementos.\n",
        "\n",
        "Quando você quer evitar soluções quadráticas (O(n²)) e busca uma solução linear (O(n)) ou quase linear.\n",
        "\n",
        "Exemplos: encontrar soma em subarray, merge de dois arrays ordenados, substrings com propriedades específicas."
      ],
      "metadata": {
        "id": "uJKmcmeJ_rwo"
      }
    },
    {
      "cell_type": "code",
      "execution_count": 38,
      "metadata": {
        "id": "7CWzsRX2_pu0"
      },
      "outputs": [],
      "source": [
        "def two_sum(arr, x):\n",
        "    left, right = 0, len(arr) - 1\n",
        "    while left < right:\n",
        "        s = arr[left] + arr[right]\n",
        "        if s == x:\n",
        "            return True\n",
        "        elif s < x:\n",
        "            left += 1\n",
        "        else:\n",
        "            right -= 1\n",
        "    return False"
      ]
    },
    {
      "cell_type": "markdown",
      "source": [
        "### SLIDING WINDOW\n",
        "Usamos dois ponteiros, left e right, que definem uma janela na string.\n",
        "\n",
        "Expandimos o right para incluir mais caracteres até ultrapassar K distintos.\n",
        "\n",
        "Quando ultrapassar, movemos left para reduzir a janela até voltar a ter no máximo K caracteres distintos.\n",
        "\n",
        "Mantemos o tamanho máximo da janela válida."
      ],
      "metadata": {
        "id": "fQObny2E_7K_"
      }
    },
    {
      "cell_type": "code",
      "source": [
        "def longest_substring_k_distinct(s, k):\n",
        "    from collections import defaultdict\n",
        "\n",
        "    count = defaultdict(int)\n",
        "    left = 0\n",
        "    max_len = 0\n",
        "\n",
        "    for right in range(len(s)):\n",
        "        count[s[right]] += 1\n",
        "\n",
        "        while len(count) > k:\n",
        "            count[s[left]] -= 1\n",
        "            if count[s[left]] == 0:\n",
        "                del count[s[left]]\n",
        "            left += 1\n",
        "\n",
        "        max_len = max(max_len, right - left + 1)\n",
        "\n",
        "    return max_len"
      ],
      "metadata": {
        "id": "Wd7d5Q8e_3e3"
      },
      "execution_count": 39,
      "outputs": []
    },
    {
      "cell_type": "markdown",
      "source": [
        "## SEGMENT TREE\n",
        "É uma árvore binária onde cada nó representa um intervalo (segmento) do array original, armazenando uma informação agregada desse intervalo (ex: soma, mínimo, máximo).\n",
        "\n",
        "Para responder consultas de intervalo rapidamente (ex: soma do intervalo [l, r], mínimo, máximo).\n",
        "\n",
        "Para atualizar valores do array rapidamente e refletir nas consultas.\n",
        "\n",
        "Consultas e atualizações geralmente são feitas em O(log n), muito melhor que uma abordagem ingênua O(n).\n",
        "\n",
        "### COMO\n",
        "A raiz representa o intervalo inteiro [0, n-1].\n",
        "\n",
        "Cada nó divide o intervalo em duas metades e cria dois filhos.\n",
        "\n",
        "Nos nós folhas ficam os valores do array.\n",
        "\n",
        "Nós internos armazenam o resultado da função (ex: soma) aplicada aos seus filhos."
      ],
      "metadata": {
        "id": "Siegv6DFADlZ"
      }
    },
    {
      "cell_type": "code",
      "source": [
        "def build_tree(arr, tree, node, start, end):\n",
        "    if start == end:\n",
        "        tree[node] = arr[start]\n",
        "    else:\n",
        "        mid = (start + end) // 2\n",
        "        build_tree(arr, tree, 2*node+1, start, mid)\n",
        "        build_tree(arr, tree, 2*node+2, mid+1, end)\n",
        "        tree[node] = tree[2*node+1] + tree[2*node+2]\n",
        "\n",
        "def update_tree(tree, node, start, end, idx, val):\n",
        "    if start == end:\n",
        "        tree[node] = val\n",
        "    else:\n",
        "        mid = (start + end) // 2\n",
        "        if idx <= mid:\n",
        "            update_tree(tree, 2*node+1, start, mid, idx, val)\n",
        "        else:\n",
        "            update_tree(tree, 2*node+2, mid+1, end, idx, val)\n",
        "        tree[node] = tree[2*node+1] + tree[2*node+2]\n",
        "\n",
        "def query_tree(tree, node, start, end, l, r):\n",
        "    if r < start or end < l:\n",
        "        return 0\n",
        "    if l <= start and end <= r:\n",
        "        return tree[node]\n",
        "    mid = (start + end) // 2\n",
        "    left_sum = query_tree(tree, 2*node+1, start, mid, l, r)\n",
        "    right_sum = query_tree(tree, 2*node+2, mid+1, end, l, r)\n",
        "    return left_sum + right_sum"
      ],
      "metadata": {
        "id": "FAFIWambAN2b"
      },
      "execution_count": 40,
      "outputs": []
    },
    {
      "cell_type": "code",
      "source": [
        "# Exemplo de uso:\n",
        "arr = [1, 3, 5, 7, 9, 11]\n",
        "n = len(arr)\n",
        "tree = [0] * (4 * n)\n",
        "\n",
        "build_tree(arr, tree, 0, 0, n-1)\n",
        "print(query_tree(tree, 0, 0, n-1, 1, 3))  # soma de índices 1 a 3: 3+5+7=15\n",
        "\n",
        "update_tree(tree, 0, 0, n-1, 1, 10)  # atualiza índice 1 para 10\n",
        "print(query_tree(tree, 0, 0, n-1, 1, 3))  # agora soma: 10+5+7=22\n"
      ],
      "metadata": {
        "colab": {
          "base_uri": "https://localhost:8080/"
        },
        "id": "rnCxh447ATlA",
        "outputId": "750ebf2b-24b3-4ca5-c964-e276c49c1f7c"
      },
      "execution_count": 41,
      "outputs": [
        {
          "output_type": "stream",
          "name": "stdout",
          "text": [
            "15\n",
            "22\n"
          ]
        }
      ]
    },
    {
      "cell_type": "markdown",
      "source": [
        "### BITMASKS\n",
        "É um número inteiro usado para representar um conjunto de elementos onde cada bit representa se um elemento está presente (1) ou ausente (0).\n",
        "\n",
        "Exemplo:\n",
        "\n",
        "    O número binário 1010 (base 2) representa um conjunto onde o elemento 1 e 3 estão presentes (bits na posição 1 e 3 são 1).\n",
        "\n",
        "    Em decimal, 1010₂ = 10₁₀.\n",
        "\n",
        "### PORQUE?\n",
        "Para representar subconjuntos de forma eficiente.\n",
        "\n",
        "Operações rápidas usando operadores bit a bit (&, |, ^, ~, <<, >>).\n",
        "\n",
        "Reduz o uso de memória.\n",
        "\n",
        "Muito usada em programação competitiva para DP com estados (ex: TSP, problemas de cobertura)."
      ],
      "metadata": {
        "id": "VY_IpZFNAX6e"
      }
    },
    {
      "cell_type": "markdown",
      "source": [
        "![image.png](data:image/png;base64,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)"
      ],
      "metadata": {
        "id": "T40Xl4qKAnFD"
      }
    },
    {
      "cell_type": "code",
      "source": [
        "arr = [1, 2, 3]\n",
        "n = len(arr)\n",
        "\n",
        "for mask in range(1 << n):  # de 0 até 2^n - 1\n",
        "    subset = []\n",
        "    for i in range(n):\n",
        "        if mask & (1 << i):\n",
        "            subset.append(arr[i])\n",
        "    print(subset)\n"
      ],
      "metadata": {
        "colab": {
          "base_uri": "https://localhost:8080/"
        },
        "id": "Lkwy4LpvAjDT",
        "outputId": "07c8f157-3acf-4521-e34c-5f21caaa11f2"
      },
      "execution_count": 42,
      "outputs": [
        {
          "output_type": "stream",
          "name": "stdout",
          "text": [
            "[]\n",
            "[1]\n",
            "[2]\n",
            "[1, 2]\n",
            "[3]\n",
            "[1, 3]\n",
            "[2, 3]\n",
            "[1, 2, 3]\n"
          ]
        }
      ]
    },
    {
      "cell_type": "markdown",
      "source": [
        "### DINAMIC PROGRAMMING COM BITMASK  (TSP)\n",
        "Usamos uma máscara de bits (bitmask) para representar quais elementos (ex: cidades) já foram visitados.\n",
        "\n",
        "O DP vai guardar resultados para cada estado (bitmask) e posição atual.\n",
        "\n",
        "Geralmente o estado é algo tipo dp[mask][pos] = melhor custo ao estar na pos com conjunto mask de cidades já visitadas.\n"
      ],
      "metadata": {
        "id": "k-2YKYvdArYN"
      }
    },
    {
      "cell_type": "code",
      "source": [
        "INF = 10**9\n",
        "\n",
        "def tsp(dist):\n",
        "    n = len(dist)\n",
        "    dp = [[INF] * n for _ in range(1 << n)]\n",
        "    dp[1][0] = 0  # começamos na cidade 0, só cidade 0 visitada\n",
        "\n",
        "    for mask in range(1 << n):\n",
        "        for u in range(n):\n",
        "            if not (mask & (1 << u)):\n",
        "                continue\n",
        "            for v in range(n):\n",
        "                if mask & (1 << v):\n",
        "                    continue\n",
        "                next_mask = mask | (1 << v)\n",
        "                dp[next_mask][v] = min(dp[next_mask][v], dp[mask][u] + dist[u][v])\n",
        "\n",
        "    # Retorna custo mínimo de visitar todas e voltar para 0\n",
        "    full_mask = (1 << n) - 1\n",
        "    ans = min(dp[full_mask][u] + dist[u][0] for u in range(n))\n",
        "    return ans"
      ],
      "metadata": {
        "id": "55rC5ojAAyFH"
      },
      "execution_count": 43,
      "outputs": []
    },
    {
      "cell_type": "code",
      "source": [
        "# Exemplo de uso\n",
        "dist = [\n",
        "    [0, 10, 15, 20],\n",
        "    [10, 0, 35, 25],\n",
        "    [15, 35, 0, 30],\n",
        "    [20, 25, 30, 0]\n",
        "]\n",
        "\n",
        "print(tsp(dist))  # saída: 80\n"
      ],
      "metadata": {
        "colab": {
          "base_uri": "https://localhost:8080/"
        },
        "id": "xR_v5l4dA0HN",
        "outputId": "e74330fb-7bae-4a63-edd9-3428ff730041"
      },
      "execution_count": 44,
      "outputs": [
        {
          "output_type": "stream",
          "name": "stdout",
          "text": [
            "80\n"
          ]
        }
      ]
    },
    {
      "cell_type": "markdown",
      "source": [
        "### PREFIX SUM\n",
        "É um array auxiliar onde cada posição i armazena a soma dos elementos do array original desde o início até o índice i.\n",
        "\n",
        "Por que usar?\n",
        "\n",
        "    Para responder rapidamente perguntas do tipo: qual a soma dos elementos entre os índices l e r?\n",
        "\n",
        "    Com prefix sum, essa consulta fica em O(1), após O(n) de pré-processamento."
      ],
      "metadata": {
        "id": "ZYMkBYbzA5gO"
      }
    },
    {
      "cell_type": "code",
      "source": [
        "arr = [2, 4, 5, 7, 8]\n",
        "prefix = [0] * (len(arr) + 1)\n",
        "for i in range(len(arr)):\n",
        "    prefix[i+1] = prefix[i] + arr[i]\n",
        "\n",
        "# Soma de índice 1 até 3 (4 + 5 + 7)\n",
        "l, r = 1, 3\n",
        "print(prefix[r+1] - prefix[l])  # saída: 16\n"
      ],
      "metadata": {
        "colab": {
          "base_uri": "https://localhost:8080/"
        },
        "id": "Kys7-RfnBCxT",
        "outputId": "03fe74c1-4210-4f93-917e-36e6695367cb"
      },
      "execution_count": 45,
      "outputs": [
        {
          "output_type": "stream",
          "name": "stdout",
          "text": [
            "16\n"
          ]
        }
      ]
    },
    {
      "cell_type": "markdown",
      "source": [
        "### BUSCA TERNÁRIA\n",
        "A busca ternária é uma técnica para encontrar o máximo ou mínimo de uma função unimodal (que sobe e depois desce, ou desce e depois sobe) em um intervalo contínuo ou discreto.\n",
        "\n",
        "PORQUE?\n",
        "\n",
        "    Quando você tem uma função unimodal (apenas um pico ou vale) e quer achar o ponto ótimo (máximo ou mínimo).\n",
        "\n",
        "    Não funciona bem para funções com vários picos ou vales.\n",
        "\n",
        "    Pode ser usada para busca em valores reais ou inteiros.\n",
        "\n",
        "Como funciona?\n",
        "\n",
        "    Divide o intervalo em três partes, testando dois pontos internos m1 e m2.\n",
        "\n",
        "    Compara os valores da função nesses pontos:\n",
        "\n",
        "        Se f(m1) < f(m2) e queremos máximo, descartamos a parte antes de m1.\n",
        "\n",
        "        Se f(m1) > f(m2), descartamos a parte depois de m2.\n",
        "\n",
        "    Repete até o intervalo ficar pequeno."
      ],
      "metadata": {
        "id": "fAWINs8wBIlB"
      }
    },
    {
      "cell_type": "code",
      "source": [
        "def ternary_search(f, left, right, absolute_precision=1e-7):\n",
        "    while right - left > absolute_precision:\n",
        "        m1 = left + (right - left) / 3\n",
        "        m2 = right - (right - left) / 3\n",
        "\n",
        "        if f(m1) < f(m2):\n",
        "            left = m1\n",
        "        else:\n",
        "            right = m2\n",
        "\n",
        "    return (left + right) / 2\n"
      ],
      "metadata": {
        "id": "WIEQlzYeBVpC"
      },
      "execution_count": 46,
      "outputs": []
    },
    {
      "cell_type": "code",
      "source": [
        "def f(x):\n",
        "    return -(x-2)**2 + 3\n",
        "\n",
        "res = ternary_search(f, 0, 4)\n",
        "print(res)        # Aproximadamente 2.0 (o pico da parábola)\n",
        "print(f(res))     # Aproximadamente 3.0\n"
      ],
      "metadata": {
        "colab": {
          "base_uri": "https://localhost:8080/"
        },
        "id": "C9deBGzUBXOn",
        "outputId": "93e8ae99-5042-4424-e5da-4075007439b7"
      },
      "execution_count": 47,
      "outputs": [
        {
          "output_type": "stream",
          "name": "stdout",
          "text": [
            "1.9999999989197295\n",
            "3.0\n"
          ]
        }
      ]
    },
    {
      "cell_type": "markdown",
      "source": [
        "## FAST FOURIER TRANSFORM (FFT)\n",
        "Dividir para conquistar!\n",
        "\n",
        "    Separamos o vetor a em:\n",
        "\n",
        "        Termos de índices pares: a0,a2,a4,…a0​,a2​,a4​,…\n",
        "\n",
        "        Termos de índices ímpares: a1,a3,a5,…a1​,a3​,a5​,…\n",
        "\n",
        "Chamamos a FFT recursivamente nesses dois \"subvetores\" de tamanho n/2.\n",
        "Usamos a simetria das raízes da unidade para combinar os resultados."
      ],
      "metadata": {
        "id": "zft0sR7UEaUh"
      }
    },
    {
      "cell_type": "code",
      "source": [
        "import cmath\n",
        "\n",
        "def fft(a):\n",
        "    n = len(a)\n",
        "    if n == 1:\n",
        "        return a\n",
        "    w_n = cmath.exp(2j * cmath.pi / n)\n",
        "    w = 1\n",
        "    a_even = fft(a[0::2])\n",
        "    a_odd = fft(a[1::2])\n",
        "    y = [0] * n\n",
        "    for k in range(n // 2):\n",
        "        y[k] = a_even[k] + w * a_odd[k]\n",
        "        y[k + n // 2] = a_even[k] - w * a_odd[k]\n",
        "        w *= w_n\n",
        "    return y\n"
      ],
      "metadata": {
        "id": "XZ967bLpEfVo"
      },
      "execution_count": 48,
      "outputs": []
    },
    {
      "cell_type": "markdown",
      "source": [
        "### Multiplicação de Polinômios com FFT\n",
        "\n",
        "Se temos dois polinômios A(x) e B(x), podemos:\n",
        "\n",
        "    Transformar os coeficientes usando FFT.\n",
        "\n",
        "    Multiplicar ponto a ponto.\n",
        "\n",
        "    Fazer FFT inversa (iFFT) para voltar ao domínio dos coeficientes."
      ],
      "metadata": {
        "id": "kA67MvotEl7l"
      }
    },
    {
      "cell_type": "markdown",
      "source": [
        "Preenche com zeros até potência de 2 (para FFT funcionar).\n",
        "\n",
        "FFT dos dois polinômios → converte para o \"domínio da frequência\".\n",
        "\n",
        "Multiplica ponto a ponto (convolução).\n",
        "\n",
        "iFFT → volta ao domínio dos coeficientes.\n",
        "\n",
        "Arredonda para inteiros."
      ],
      "metadata": {
        "id": "4PTKKQh3E6HN"
      }
    },
    {
      "cell_type": "code",
      "source": [
        "def ifft(a):\n",
        "    n = len(a)\n",
        "    a_conj = [x.conjugate() for x in a]\n",
        "    y = fft(a_conj)\n",
        "    return [x.conjugate() / n for x in y]\n",
        "\n",
        "def multiply_poly(a, b):\n",
        "    n = 1\n",
        "    orig_len_a = len(a)\n",
        "    orig_len_b = len(b)\n",
        "    while n < orig_len_a + orig_len_b - 1:\n",
        "        n *= 2\n",
        "    a += [0] * (n - orig_len_a)\n",
        "    b += [0] * (n - orig_len_b)\n",
        "\n",
        "    A = fft(a)\n",
        "    B = fft(b)\n",
        "    C = [A[i] * B[i] for i in range(n)]\n",
        "    c = ifft(C)\n",
        "\n",
        "    tamanho_resultado = orig_len_a + orig_len_b - 1\n",
        "    return [round(c[i].real) for i in range(tamanho_resultado)]"
      ],
      "metadata": {
        "id": "yDf7qs7KEtbt"
      },
      "execution_count": 49,
      "outputs": []
    },
    {
      "cell_type": "code",
      "source": [
        "a = [1, 2, 3]  # 1 + 2x + 3x^2\n",
        "b = [4, 5, 6]  # 4 + 5x + 6x^2\n",
        "\n",
        "res = multiply_poly(a, b)\n",
        "print(\"Produto:\", res)"
      ],
      "metadata": {
        "colab": {
          "base_uri": "https://localhost:8080/"
        },
        "id": "jq_f4V_zEykD",
        "outputId": "7ee4c9ea-02d0-4def-9b9d-d95b624a1ec1"
      },
      "execution_count": 50,
      "outputs": [
        {
          "output_type": "stream",
          "name": "stdout",
          "text": [
            "Produto: [4, 13, 28, 27, 18]\n"
          ]
        }
      ]
    }
  ]
}