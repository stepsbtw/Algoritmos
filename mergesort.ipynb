{
  "nbformat": 4,
  "nbformat_minor": 0,
  "metadata": {
    "colab": {
      "provenance": [],
      "authorship_tag": "ABX9TyMDTxjIaSrdNs1pY3SiDJQD",
      "include_colab_link": true
    },
    "kernelspec": {
      "name": "python3",
      "display_name": "Python 3"
    },
    "language_info": {
      "name": "python"
    }
  },
  "cells": [
    {
      "cell_type": "markdown",
      "metadata": {
        "id": "view-in-github",
        "colab_type": "text"
      },
      "source": [
        "<a href=\"https://colab.research.google.com/github/stepsbtw/Algoritmos/blob/main/mergesort.ipynb\" target=\"_parent\"><img src=\"https://colab.research.google.com/assets/colab-badge.svg\" alt=\"Open In Colab\"/></a>"
      ]
    },
    {
      "cell_type": "markdown",
      "source": [
        "# Merge Sort\n",
        "Algoritmo de ordenação inventado por Von Neumann em 1945, utiliza o paradigma **dividir e conquistar**.\n",
        "\n",
        "## Algoritmo\n",
        "1) Dividir a lista desordenada em n sub-listas, cada uma contendo 1 único elemento.\n",
        "\n",
        "2) Repetidamente intercala (merge) as sublistas para produzir novas sublistas ordenadas até que só reste uma lista, ordenada.\n",
        "\n",
        "## Implementações\n",
        "### Top-Down\n",
        "Recursivamente divide a lista em sublistas até o tamanho da sublista ser 1, então intercala as sublistas até produzir a lista ordenada."
      ],
      "metadata": {
        "id": "zTpXdis5VXIt"
      }
    },
    {
      "cell_type": "code",
      "execution_count": 1,
      "metadata": {
        "id": "mw_SCC0dVUEz"
      },
      "outputs": [],
      "source": [
        "def topdown_mergesort(v, l, r):\n",
        "  if l == r:\n",
        "    return [v[l]]\n",
        "  m = (l+r)//2\n",
        "  vL = topdown_mergesort(v, l, m)\n",
        "  vR = topdown_mergesort(v, m+1, r)\n",
        "  return topdown_merge(vL, vR)\n",
        "\n",
        "def topdown_merge(vL, vR):\n",
        "  out = []\n",
        "  i = j = 0\n",
        "  while i < len(vL) and j < len(vR):\n",
        "    if vL[i] <= vR[j]:\n",
        "      out.append(vL[i])\n",
        "      i += 1\n",
        "    else:\n",
        "      out.append(vR[j])\n",
        "      j += 1\n",
        "  while i < len(vL):\n",
        "    out.append(vL[i])\n",
        "    i += 1\n",
        "  while j < len(vR):\n",
        "    out.append(vR[j])\n",
        "    j += 1\n",
        "  return out"
      ]
    },
    {
      "cell_type": "code",
      "source": [
        "def merge_iter(v, l1, r1, l2, r2):\n",
        "  out = []\n",
        "  i, j = l1, l2\n",
        "  while i <= r1 and j <= r2:\n",
        "    if v[i] <= v[j]:\n",
        "      out.append(v[i])\n",
        "      i += 1\n",
        "    else:\n",
        "      out.append(v[j])\n",
        "      j += 1\n",
        "\n",
        "  while i <= r1:\n",
        "    out.append(v[i])\n",
        "    i += 1\n",
        "  while j <= r2:\n",
        "    out.append(v[j])\n",
        "    j += 1\n",
        "  return out"
      ],
      "metadata": {
        "id": "H93dmEC5kA4M"
      },
      "execution_count": 2,
      "outputs": []
    },
    {
      "cell_type": "markdown",
      "source": [
        "Posso escrever de forma **iterativa** simulando a pilha de recursão.\n",
        "\n",
        "- (l, r, estado)\n",
        "- False : preciso dividir\n",
        "- True : ja dividi, agora intercalar."
      ],
      "metadata": {
        "id": "AV9mO28UfqEB"
      }
    },
    {
      "cell_type": "code",
      "source": [
        "def topdown_mergesort_iter(v):\n",
        "  n = len(v)\n",
        "  if n <= 1:\n",
        "    return v\n",
        "  stack = [(0, n-1, False)]\n",
        "  while stack:\n",
        "    l, r, divided = stack.pop()\n",
        "\n",
        "    if l < r:\n",
        "      m = (l + r) // 2\n",
        "      if not divided:\n",
        "        # dividir\n",
        "        stack.append((l, r, True)) # marcar como dividido\n",
        "        stack.append((m+1, r, 0)) # direita\n",
        "        stack.append((l, m, 0)) # esquerda\n",
        "      else:\n",
        "        # intercalar [l:m] e [m+1:r]\n",
        "        merge_iter(v, l, m, m+1, r)"
      ],
      "metadata": {
        "id": "pBOiZEv3fvhn"
      },
      "execution_count": 3,
      "outputs": []
    },
    {
      "cell_type": "markdown",
      "source": [
        "## Bottom-Up\n",
        "- Tratamos a lista como uma lista de n sublistas de tamanho 1\n",
        "- Cria sucessivamente sublistas ordenadas maiores de tamanhos m = 2, 4, 8, 16\n",
        "- Iterativamente intercala (merge) as sublistas."
      ],
      "metadata": {
        "id": "qg6kHi1gZECr"
      }
    },
    {
      "cell_type": "code",
      "source": [
        "\n",
        "\n",
        "def bottomup_mergesort(v):\n",
        "  n = len(v)\n",
        "  tam = 1 # tamanho das sublistas\n",
        "\n",
        "  while tam < n:\n",
        "    for i in range(0, n, 2*tam):\n",
        "      l1 = i\n",
        "      r1 = min(i + tam-1, n-1)\n",
        "      l2 = r1+1\n",
        "      r2 = min(i + 2*tam-1, n-1)\n",
        "\n",
        "      if l2 <= r2:\n",
        "        merge_iter(v, l1, r1, l2, r2)\n",
        "    tam *= 2\n",
        "\n",
        "  return v"
      ],
      "metadata": {
        "id": "RpeYnPKaZfnQ"
      },
      "execution_count": 5,
      "outputs": []
    }
  ]
}