{
  "cells": [
    {
      "cell_type": "markdown",
      "metadata": {
        "id": "view-in-github",
        "colab_type": "text"
      },
      "source": [
        "<a href=\"https://colab.research.google.com/github/stepsbtw/Algoritmos/blob/main/algorithms_assignment_1.ipynb\" target=\"_parent\"><img src=\"https://colab.research.google.com/assets/colab-badge.svg\" alt=\"Open In Colab\"/></a>"
      ]
    },
    {
      "cell_type": "markdown",
      "metadata": {
        "id": "Nqu_mSZW6j7A"
      },
      "source": [
        "##1. Leitura e Filtragem inicial dos dados\n",
        "Carregue os dados em sua linguagem de programação preferida (por exemplo, Python com pandas)."
      ]
    },
    {
      "cell_type": "code",
      "execution_count": 3,
      "metadata": {
        "collapsed": true,
        "id": "nnuegiwLf9DT"
      },
      "outputs": [],
      "source": [
        "import pandas as pd\n",
        "import requests\n",
        "from io import BytesIO\n",
        "\n",
        "r = requests.get(\"https://data.brasil.io/dataset/covid19/caso.csv.gz\")\n",
        "caso = pd.read_csv(BytesIO(r.content), compression=\"gzip\")\n",
        "\n",
        "r = requests.get(\"https://data.brasil.io/dataset/covid19/caso_full.csv.gz\")\n",
        "caso_full = pd.read_csv(BytesIO(r.content), compression=\"gzip\")"
      ]
    },
    {
      "cell_type": "code",
      "execution_count": 4,
      "metadata": {
        "id": "WpW8j04Avyyw",
        "colab": {
          "base_uri": "https://localhost:8080/"
        },
        "outputId": "f17fbb69-6e32-45eb-f795-31d4adea166c"
      },
      "outputs": [
        {
          "output_type": "stream",
          "name": "stdout",
          "text": [
            "<class 'pandas.core.frame.DataFrame'>\n",
            "RangeIndex: 2838003 entries, 0 to 2838002\n",
            "Data columns (total 13 columns):\n",
            " #   Column                          Dtype  \n",
            "---  ------                          -----  \n",
            " 0   date                            object \n",
            " 1   state                           object \n",
            " 2   city                            object \n",
            " 3   place_type                      object \n",
            " 4   confirmed                       int64  \n",
            " 5   deaths                          int64  \n",
            " 6   order_for_place                 int64  \n",
            " 7   is_last                         bool   \n",
            " 8   estimated_population_2019       float64\n",
            " 9   estimated_population            float64\n",
            " 10  city_ibge_code                  float64\n",
            " 11  confirmed_per_100k_inhabitants  float64\n",
            " 12  death_rate                      float64\n",
            "dtypes: bool(1), float64(5), int64(3), object(4)\n",
            "memory usage: 262.5+ MB\n"
          ]
        }
      ],
      "source": [
        "caso.info()"
      ]
    },
    {
      "cell_type": "code",
      "execution_count": 5,
      "metadata": {
        "id": "pnb-V83yv1lZ",
        "colab": {
          "base_uri": "https://localhost:8080/"
        },
        "outputId": "b5acfdb4-23b9-43ac-d668-3b8d881ee246"
      },
      "outputs": [
        {
          "output_type": "stream",
          "name": "stdout",
          "text": [
            "<class 'pandas.core.frame.DataFrame'>\n",
            "RangeIndex: 3853648 entries, 0 to 3853647\n",
            "Data columns (total 18 columns):\n",
            " #   Column                                         Dtype  \n",
            "---  ------                                         -----  \n",
            " 0   city                                           object \n",
            " 1   city_ibge_code                                 float64\n",
            " 2   date                                           object \n",
            " 3   epidemiological_week                           int64  \n",
            " 4   estimated_population                           float64\n",
            " 5   estimated_population_2019                      float64\n",
            " 6   is_last                                        bool   \n",
            " 7   is_repeated                                    bool   \n",
            " 8   last_available_confirmed                       int64  \n",
            " 9   last_available_confirmed_per_100k_inhabitants  float64\n",
            " 10  last_available_date                            object \n",
            " 11  last_available_death_rate                      float64\n",
            " 12  last_available_deaths                          int64  \n",
            " 13  order_for_place                                int64  \n",
            " 14  place_type                                     object \n",
            " 15  state                                          object \n",
            " 16  new_confirmed                                  int64  \n",
            " 17  new_deaths                                     int64  \n",
            "dtypes: bool(2), float64(5), int64(6), object(5)\n",
            "memory usage: 477.8+ MB\n"
          ]
        }
      ],
      "source": [
        "caso_full.info()"
      ]
    },
    {
      "cell_type": "markdown",
      "metadata": {
        "id": "qgDeUcOXzyWd"
      },
      "source": [
        "Descrição das colunas:\n",
        "\n",
        "- **city: nome do município (pode estar em branco quando o registro é referente ao estado, pode ser preenchido com Importados/Indefinidos também).**\n",
        "- city_ibge_code: código IBGE do local.\n",
        "- **date: data de coleta dos dados no formato YYYY-MM-DD.**\n",
        "- epidemiological_week: número da semana epidemiológica no formato YYYYWW.\n",
        "- estimated_population: população estimada para esse município/estado em 2020, segundo o IBGE. (acesse o script que faz o download e conversão dos dados de população).\n",
        "- estimated_population_2019: população estimada para esse município/estado em 2019, segundo o IBGE. ATENÇÃO: essa coluna possui valores desatualizados, prefira usar a coluna estimated_population.\n",
        "- is_last: campo pré-computado que diz se esse registro é o mais novo para esse local, pode ser True ou False (caso filtre por esse campo, use is_last=True ou is_last=False, não use o valor em minúsculas).\n",
        "- is_repeated: campo pré-computado que diz se as informações nesse registro foram publicadas pela Secretaria Estadual de Saúde no dia date ou se o dado é repetido do último dia em que o dado está disponível (igual ou anterior a date). Isso ocorre pois nem todas as secretarias publicam boletins todos os dias. Veja também o campo last_available_date.\n",
        "- **last_available_confirmed: número de casos confirmados do último dia disponível igual ou anterior à data date.**\n",
        "- **last_available_confirmed_per_100k_inhabitants: número de casos confirmados por 100.000 habitantes (baseado em estimated_population) do último dia disponível igual ou anterior à data date.**\n",
        "- last_available_date: data da qual o dado se refere.\n",
        "- **last_available_death_rate: taxa de mortalidade (mortes / confirmados) do último dia disponível igual ou anterior à data date.**\n",
        "- **last_available_deaths: número de mortes do último dia disponível igual ou anterior à data date.**\n",
        "- order_for_place: número que identifica a ordem do registro para este local. O registro referente ao primeiro boletim em que esse local aparecer será contabilizado como 1 e os demais boletins incrementarão esse valor.\n",
        "- place_type: tipo de local que esse registro descreve, pode ser city ou state.\n",
        "- **state: sigla da unidade federativa, exemplo: SP.**\n",
        "- new_confirmed: número de novos casos confirmados desde o último dia (note que caso is_repeated seja True, esse valor sempre será 0 e que esse valor pode ser negativo caso a SES remaneje os casos desse município para outro).\n",
        "- new_deaths: número de novos óbitos desde o último dia (note que caso is_repeated seja True, esse valor sempre será 0 e que esse valor pode ser negativo caso a SES remaneje os casos desse município para outro)."
      ]
    },
    {
      "cell_type": "markdown",
      "metadata": {
        "id": "YbqDW45-1pxs"
      },
      "source": [
        "Recomendadas para análise:\n",
        "- city\n",
        "- state\n",
        "- last_avaible_confirmed\n",
        "- last_available_deaths\n",
        "- estimated_population\n",
        "- last_available_confirmed_per_100k_inhabitants\n",
        "- last_available_death_rate\n",
        "- date"
      ]
    },
    {
      "cell_type": "markdown",
      "metadata": {
        "id": "62b5nLUiv9tM"
      },
      "source": [
        "Para análises estatísticas mais simples:"
      ]
    },
    {
      "cell_type": "code",
      "execution_count": 6,
      "metadata": {
        "id": "-bRXxeCSpzG6"
      },
      "outputs": [],
      "source": [
        "# Uma linha por município\n",
        "df = caso[(caso[\"is_last\"]==True) & (caso[\"place_type\"]==\"city\")]"
      ]
    },
    {
      "cell_type": "markdown",
      "metadata": {
        "id": "RHAh9j0qwi6Z"
      },
      "source": [
        "Para análise de desempenho de algoritmos com volumes maiores de dados (várias datas por município):"
      ]
    },
    {
      "cell_type": "code",
      "execution_count": 7,
      "metadata": {
        "id": "FgfqutkTwKWx"
      },
      "outputs": [],
      "source": [
        "# Séries temporais completas.\n",
        "df_full = caso_full[(caso_full[\"place_type\"]==\"city\") & (caso_full[\"is_repeated\"]==False)]"
      ]
    },
    {
      "cell_type": "markdown",
      "metadata": {
        "id": "FfAokI4ktCXN"
      },
      "source": [
        "Checar e tratar (remover linhas) colunas com valores nulos."
      ]
    },
    {
      "cell_type": "code",
      "execution_count": 8,
      "metadata": {
        "id": "WNx5SUqj3ztE",
        "colab": {
          "base_uri": "https://localhost:8080/",
          "height": 492
        },
        "outputId": "dc3280c2-c68f-4168-84d8-0c8533672f24"
      },
      "outputs": [
        {
          "output_type": "execute_result",
          "data": {
            "text/plain": [
              "date                              5589\n",
              "state                             5589\n",
              "city                              5589\n",
              "place_type                        5589\n",
              "confirmed                         5589\n",
              "deaths                            5589\n",
              "order_for_place                   5589\n",
              "is_last                           5589\n",
              "estimated_population_2019         5570\n",
              "estimated_population              5570\n",
              "city_ibge_code                    5570\n",
              "confirmed_per_100k_inhabitants    5570\n",
              "death_rate                        5589\n",
              "dtype: int64"
            ],
            "text/html": [
              "<div>\n",
              "<style scoped>\n",
              "    .dataframe tbody tr th:only-of-type {\n",
              "        vertical-align: middle;\n",
              "    }\n",
              "\n",
              "    .dataframe tbody tr th {\n",
              "        vertical-align: top;\n",
              "    }\n",
              "\n",
              "    .dataframe thead th {\n",
              "        text-align: right;\n",
              "    }\n",
              "</style>\n",
              "<table border=\"1\" class=\"dataframe\">\n",
              "  <thead>\n",
              "    <tr style=\"text-align: right;\">\n",
              "      <th></th>\n",
              "      <th>0</th>\n",
              "    </tr>\n",
              "  </thead>\n",
              "  <tbody>\n",
              "    <tr>\n",
              "      <th>date</th>\n",
              "      <td>5589</td>\n",
              "    </tr>\n",
              "    <tr>\n",
              "      <th>state</th>\n",
              "      <td>5589</td>\n",
              "    </tr>\n",
              "    <tr>\n",
              "      <th>city</th>\n",
              "      <td>5589</td>\n",
              "    </tr>\n",
              "    <tr>\n",
              "      <th>place_type</th>\n",
              "      <td>5589</td>\n",
              "    </tr>\n",
              "    <tr>\n",
              "      <th>confirmed</th>\n",
              "      <td>5589</td>\n",
              "    </tr>\n",
              "    <tr>\n",
              "      <th>deaths</th>\n",
              "      <td>5589</td>\n",
              "    </tr>\n",
              "    <tr>\n",
              "      <th>order_for_place</th>\n",
              "      <td>5589</td>\n",
              "    </tr>\n",
              "    <tr>\n",
              "      <th>is_last</th>\n",
              "      <td>5589</td>\n",
              "    </tr>\n",
              "    <tr>\n",
              "      <th>estimated_population_2019</th>\n",
              "      <td>5570</td>\n",
              "    </tr>\n",
              "    <tr>\n",
              "      <th>estimated_population</th>\n",
              "      <td>5570</td>\n",
              "    </tr>\n",
              "    <tr>\n",
              "      <th>city_ibge_code</th>\n",
              "      <td>5570</td>\n",
              "    </tr>\n",
              "    <tr>\n",
              "      <th>confirmed_per_100k_inhabitants</th>\n",
              "      <td>5570</td>\n",
              "    </tr>\n",
              "    <tr>\n",
              "      <th>death_rate</th>\n",
              "      <td>5589</td>\n",
              "    </tr>\n",
              "  </tbody>\n",
              "</table>\n",
              "</div><br><label><b>dtype:</b> int64</label>"
            ]
          },
          "metadata": {},
          "execution_count": 8
        }
      ],
      "source": [
        "df.count()"
      ]
    },
    {
      "cell_type": "code",
      "execution_count": 9,
      "metadata": {
        "id": "Ts3DW4eW3_CY",
        "colab": {
          "base_uri": "https://localhost:8080/",
          "height": 649
        },
        "outputId": "1a0eb3cd-daf9-420e-80ac-8fa3f4f06ca8"
      },
      "outputs": [
        {
          "output_type": "execute_result",
          "data": {
            "text/plain": [
              "city                                             2818241\n",
              "city_ibge_code                                   2807856\n",
              "date                                             2818241\n",
              "epidemiological_week                             2818241\n",
              "estimated_population                             2807856\n",
              "estimated_population_2019                        2807856\n",
              "is_last                                          2818241\n",
              "is_repeated                                      2818241\n",
              "last_available_confirmed                         2818241\n",
              "last_available_confirmed_per_100k_inhabitants    2793772\n",
              "last_available_date                              2818241\n",
              "last_available_death_rate                        2818241\n",
              "last_available_deaths                            2818241\n",
              "order_for_place                                  2818241\n",
              "place_type                                       2818241\n",
              "state                                            2818241\n",
              "new_confirmed                                    2818241\n",
              "new_deaths                                       2818241\n",
              "dtype: int64"
            ],
            "text/html": [
              "<div>\n",
              "<style scoped>\n",
              "    .dataframe tbody tr th:only-of-type {\n",
              "        vertical-align: middle;\n",
              "    }\n",
              "\n",
              "    .dataframe tbody tr th {\n",
              "        vertical-align: top;\n",
              "    }\n",
              "\n",
              "    .dataframe thead th {\n",
              "        text-align: right;\n",
              "    }\n",
              "</style>\n",
              "<table border=\"1\" class=\"dataframe\">\n",
              "  <thead>\n",
              "    <tr style=\"text-align: right;\">\n",
              "      <th></th>\n",
              "      <th>0</th>\n",
              "    </tr>\n",
              "  </thead>\n",
              "  <tbody>\n",
              "    <tr>\n",
              "      <th>city</th>\n",
              "      <td>2818241</td>\n",
              "    </tr>\n",
              "    <tr>\n",
              "      <th>city_ibge_code</th>\n",
              "      <td>2807856</td>\n",
              "    </tr>\n",
              "    <tr>\n",
              "      <th>date</th>\n",
              "      <td>2818241</td>\n",
              "    </tr>\n",
              "    <tr>\n",
              "      <th>epidemiological_week</th>\n",
              "      <td>2818241</td>\n",
              "    </tr>\n",
              "    <tr>\n",
              "      <th>estimated_population</th>\n",
              "      <td>2807856</td>\n",
              "    </tr>\n",
              "    <tr>\n",
              "      <th>estimated_population_2019</th>\n",
              "      <td>2807856</td>\n",
              "    </tr>\n",
              "    <tr>\n",
              "      <th>is_last</th>\n",
              "      <td>2818241</td>\n",
              "    </tr>\n",
              "    <tr>\n",
              "      <th>is_repeated</th>\n",
              "      <td>2818241</td>\n",
              "    </tr>\n",
              "    <tr>\n",
              "      <th>last_available_confirmed</th>\n",
              "      <td>2818241</td>\n",
              "    </tr>\n",
              "    <tr>\n",
              "      <th>last_available_confirmed_per_100k_inhabitants</th>\n",
              "      <td>2793772</td>\n",
              "    </tr>\n",
              "    <tr>\n",
              "      <th>last_available_date</th>\n",
              "      <td>2818241</td>\n",
              "    </tr>\n",
              "    <tr>\n",
              "      <th>last_available_death_rate</th>\n",
              "      <td>2818241</td>\n",
              "    </tr>\n",
              "    <tr>\n",
              "      <th>last_available_deaths</th>\n",
              "      <td>2818241</td>\n",
              "    </tr>\n",
              "    <tr>\n",
              "      <th>order_for_place</th>\n",
              "      <td>2818241</td>\n",
              "    </tr>\n",
              "    <tr>\n",
              "      <th>place_type</th>\n",
              "      <td>2818241</td>\n",
              "    </tr>\n",
              "    <tr>\n",
              "      <th>state</th>\n",
              "      <td>2818241</td>\n",
              "    </tr>\n",
              "    <tr>\n",
              "      <th>new_confirmed</th>\n",
              "      <td>2818241</td>\n",
              "    </tr>\n",
              "    <tr>\n",
              "      <th>new_deaths</th>\n",
              "      <td>2818241</td>\n",
              "    </tr>\n",
              "  </tbody>\n",
              "</table>\n",
              "</div><br><label><b>dtype:</b> int64</label>"
            ]
          },
          "metadata": {},
          "execution_count": 9
        }
      ],
      "source": [
        "df_clean = df.dropna(subset=[\"confirmed_per_100k_inhabitants\", \"estimated_population\"])\n",
        "df_full.count()"
      ]
    },
    {
      "cell_type": "code",
      "execution_count": 10,
      "metadata": {
        "id": "6bXWp6Qe5EjI"
      },
      "outputs": [],
      "source": [
        "df_full_clean = df_full.dropna(subset=[\"last_available_confirmed_per_100k_inhabitants\", \"estimated_population\"])"
      ]
    },
    {
      "cell_type": "markdown",
      "metadata": {
        "id": "QDLnCYw86fbp"
      },
      "source": [
        "## 2. Cálculo de Métricas\n",
        "Para cada município:\n",
        "- Taxa de casos por 100 mil habitantes:\n",
        "  - casos/habitantes * 100 000\n",
        "- Taxa de óbitos por 100 mil habitantes:\n",
        "  - obitos/habitantes * 100 000\n",
        "- Taxa de mortalidade:\n",
        "  - obitos/casos"
      ]
    },
    {
      "cell_type": "code",
      "execution_count": 11,
      "metadata": {
        "id": "MvPdptY8E2FS",
        "colab": {
          "base_uri": "https://localhost:8080/",
          "height": 490
        },
        "outputId": "584c0623-7cc6-4ac4-fddd-724567150134"
      },
      "outputs": [
        {
          "output_type": "execute_result",
          "data": {
            "text/plain": [
              "city\n",
              "São Domingos     5\n",
              "Bom Jesus        5\n",
              "Planalto         4\n",
              "São Francisco    4\n",
              "Vera Cruz        4\n",
              "                ..\n",
              "Petrolândia      2\n",
              "Tabatinga        2\n",
              "São Carlos       2\n",
              "Sobradinho       2\n",
              "Colinas          2\n",
              "Name: count, Length: 233, dtype: int64"
            ],
            "text/html": [
              "<div>\n",
              "<style scoped>\n",
              "    .dataframe tbody tr th:only-of-type {\n",
              "        vertical-align: middle;\n",
              "    }\n",
              "\n",
              "    .dataframe tbody tr th {\n",
              "        vertical-align: top;\n",
              "    }\n",
              "\n",
              "    .dataframe thead th {\n",
              "        text-align: right;\n",
              "    }\n",
              "</style>\n",
              "<table border=\"1\" class=\"dataframe\">\n",
              "  <thead>\n",
              "    <tr style=\"text-align: right;\">\n",
              "      <th></th>\n",
              "      <th>count</th>\n",
              "    </tr>\n",
              "    <tr>\n",
              "      <th>city</th>\n",
              "      <th></th>\n",
              "    </tr>\n",
              "  </thead>\n",
              "  <tbody>\n",
              "    <tr>\n",
              "      <th>São Domingos</th>\n",
              "      <td>5</td>\n",
              "    </tr>\n",
              "    <tr>\n",
              "      <th>Bom Jesus</th>\n",
              "      <td>5</td>\n",
              "    </tr>\n",
              "    <tr>\n",
              "      <th>Planalto</th>\n",
              "      <td>4</td>\n",
              "    </tr>\n",
              "    <tr>\n",
              "      <th>São Francisco</th>\n",
              "      <td>4</td>\n",
              "    </tr>\n",
              "    <tr>\n",
              "      <th>Vera Cruz</th>\n",
              "      <td>4</td>\n",
              "    </tr>\n",
              "    <tr>\n",
              "      <th>...</th>\n",
              "      <td>...</td>\n",
              "    </tr>\n",
              "    <tr>\n",
              "      <th>Petrolândia</th>\n",
              "      <td>2</td>\n",
              "    </tr>\n",
              "    <tr>\n",
              "      <th>Tabatinga</th>\n",
              "      <td>2</td>\n",
              "    </tr>\n",
              "    <tr>\n",
              "      <th>São Carlos</th>\n",
              "      <td>2</td>\n",
              "    </tr>\n",
              "    <tr>\n",
              "      <th>Sobradinho</th>\n",
              "      <td>2</td>\n",
              "    </tr>\n",
              "    <tr>\n",
              "      <th>Colinas</th>\n",
              "      <td>2</td>\n",
              "    </tr>\n",
              "  </tbody>\n",
              "</table>\n",
              "<p>233 rows × 1 columns</p>\n",
              "</div><br><label><b>dtype:</b> int64</label>"
            ]
          },
          "metadata": {},
          "execution_count": 11
        }
      ],
      "source": [
        "# Atenção! Existem muitos municípios com o mesmo nome em estados diferentes:\n",
        "counts = df_clean[\"city\"].value_counts()\n",
        "counts[counts>1]"
      ]
    },
    {
      "cell_type": "markdown",
      "metadata": {
        "id": "U0nZ8ZVFFyY4"
      },
      "source": [
        "Portanto vamos usar o indentificador único do ibge."
      ]
    },
    {
      "cell_type": "code",
      "execution_count": 12,
      "metadata": {
        "id": "r3hJHQQyF8jk",
        "colab": {
          "base_uri": "https://localhost:8080/",
          "height": 424
        },
        "outputId": "a3bd7422-8201-4971-e952-1014f5152576"
      },
      "outputs": [
        {
          "output_type": "execute_result",
          "data": {
            "text/plain": [
              "                       city state  city_ibge_code  taxa_casos_100k  \\\n",
              "734                   Amapá    AP       1600105.0     15500.163274   \n",
              "1320               Calçoene    AP       1600204.0     16380.682823   \n",
              "1901                 Cutias    AP       1600212.0     14325.520406   \n",
              "2478         Ferreira Gomes    AP       1600238.0     19656.081336   \n",
              "3058                Itaubal    AP       1600253.0      9791.703756   \n",
              "...                     ...   ...             ...              ...   \n",
              "2835558  Águas de São Pedro    SP       3500600.0     13092.871343   \n",
              "2836080    Álvares Florence    SP       3501202.0     17164.792981   \n",
              "2836553     Álvares Machado    SP       3501301.0     10028.802304   \n",
              "2837057  Álvaro de Carvalho    SP       3501400.0      5536.594615   \n",
              "2837551                Óleo    SP       3533809.0      6313.233509   \n",
              "\n",
              "         taxa_obitos_100k  taxa_mortalidade  \n",
              "734            141.504300          0.009129  \n",
              "1320           123.828056          0.007559  \n",
              "1901           114.735289          0.008009  \n",
              "2478            87.862433          0.004470  \n",
              "3058            53.409293          0.005455  \n",
              "...                   ...               ...  \n",
              "2835558        340.812269          0.026030  \n",
              "2836080        438.716753          0.025559  \n",
              "2836553        316.025282          0.031512  \n",
              "2837057        170.648464          0.030822  \n",
              "2837551        202.347228          0.032051  \n",
              "\n",
              "[5570 rows x 6 columns]"
            ],
            "text/html": [
              "\n",
              "  <div id=\"df-730c0584-b793-4e3b-a934-4ae7e5babb35\" class=\"colab-df-container\">\n",
              "    <div>\n",
              "<style scoped>\n",
              "    .dataframe tbody tr th:only-of-type {\n",
              "        vertical-align: middle;\n",
              "    }\n",
              "\n",
              "    .dataframe tbody tr th {\n",
              "        vertical-align: top;\n",
              "    }\n",
              "\n",
              "    .dataframe thead th {\n",
              "        text-align: right;\n",
              "    }\n",
              "</style>\n",
              "<table border=\"1\" class=\"dataframe\">\n",
              "  <thead>\n",
              "    <tr style=\"text-align: right;\">\n",
              "      <th></th>\n",
              "      <th>city</th>\n",
              "      <th>state</th>\n",
              "      <th>city_ibge_code</th>\n",
              "      <th>taxa_casos_100k</th>\n",
              "      <th>taxa_obitos_100k</th>\n",
              "      <th>taxa_mortalidade</th>\n",
              "    </tr>\n",
              "  </thead>\n",
              "  <tbody>\n",
              "    <tr>\n",
              "      <th>734</th>\n",
              "      <td>Amapá</td>\n",
              "      <td>AP</td>\n",
              "      <td>1600105.0</td>\n",
              "      <td>15500.163274</td>\n",
              "      <td>141.504300</td>\n",
              "      <td>0.009129</td>\n",
              "    </tr>\n",
              "    <tr>\n",
              "      <th>1320</th>\n",
              "      <td>Calçoene</td>\n",
              "      <td>AP</td>\n",
              "      <td>1600204.0</td>\n",
              "      <td>16380.682823</td>\n",
              "      <td>123.828056</td>\n",
              "      <td>0.007559</td>\n",
              "    </tr>\n",
              "    <tr>\n",
              "      <th>1901</th>\n",
              "      <td>Cutias</td>\n",
              "      <td>AP</td>\n",
              "      <td>1600212.0</td>\n",
              "      <td>14325.520406</td>\n",
              "      <td>114.735289</td>\n",
              "      <td>0.008009</td>\n",
              "    </tr>\n",
              "    <tr>\n",
              "      <th>2478</th>\n",
              "      <td>Ferreira Gomes</td>\n",
              "      <td>AP</td>\n",
              "      <td>1600238.0</td>\n",
              "      <td>19656.081336</td>\n",
              "      <td>87.862433</td>\n",
              "      <td>0.004470</td>\n",
              "    </tr>\n",
              "    <tr>\n",
              "      <th>3058</th>\n",
              "      <td>Itaubal</td>\n",
              "      <td>AP</td>\n",
              "      <td>1600253.0</td>\n",
              "      <td>9791.703756</td>\n",
              "      <td>53.409293</td>\n",
              "      <td>0.005455</td>\n",
              "    </tr>\n",
              "    <tr>\n",
              "      <th>...</th>\n",
              "      <td>...</td>\n",
              "      <td>...</td>\n",
              "      <td>...</td>\n",
              "      <td>...</td>\n",
              "      <td>...</td>\n",
              "      <td>...</td>\n",
              "    </tr>\n",
              "    <tr>\n",
              "      <th>2835558</th>\n",
              "      <td>Águas de São Pedro</td>\n",
              "      <td>SP</td>\n",
              "      <td>3500600.0</td>\n",
              "      <td>13092.871343</td>\n",
              "      <td>340.812269</td>\n",
              "      <td>0.026030</td>\n",
              "    </tr>\n",
              "    <tr>\n",
              "      <th>2836080</th>\n",
              "      <td>Álvares Florence</td>\n",
              "      <td>SP</td>\n",
              "      <td>3501202.0</td>\n",
              "      <td>17164.792981</td>\n",
              "      <td>438.716753</td>\n",
              "      <td>0.025559</td>\n",
              "    </tr>\n",
              "    <tr>\n",
              "      <th>2836553</th>\n",
              "      <td>Álvares Machado</td>\n",
              "      <td>SP</td>\n",
              "      <td>3501301.0</td>\n",
              "      <td>10028.802304</td>\n",
              "      <td>316.025282</td>\n",
              "      <td>0.031512</td>\n",
              "    </tr>\n",
              "    <tr>\n",
              "      <th>2837057</th>\n",
              "      <td>Álvaro de Carvalho</td>\n",
              "      <td>SP</td>\n",
              "      <td>3501400.0</td>\n",
              "      <td>5536.594615</td>\n",
              "      <td>170.648464</td>\n",
              "      <td>0.030822</td>\n",
              "    </tr>\n",
              "    <tr>\n",
              "      <th>2837551</th>\n",
              "      <td>Óleo</td>\n",
              "      <td>SP</td>\n",
              "      <td>3533809.0</td>\n",
              "      <td>6313.233509</td>\n",
              "      <td>202.347228</td>\n",
              "      <td>0.032051</td>\n",
              "    </tr>\n",
              "  </tbody>\n",
              "</table>\n",
              "<p>5570 rows × 6 columns</p>\n",
              "</div>\n",
              "    <div class=\"colab-df-buttons\">\n",
              "\n",
              "  <div class=\"colab-df-container\">\n",
              "    <button class=\"colab-df-convert\" onclick=\"convertToInteractive('df-730c0584-b793-4e3b-a934-4ae7e5babb35')\"\n",
              "            title=\"Convert this dataframe to an interactive table.\"\n",
              "            style=\"display:none;\">\n",
              "\n",
              "  <svg xmlns=\"http://www.w3.org/2000/svg\" height=\"24px\" viewBox=\"0 -960 960 960\">\n",
              "    <path d=\"M120-120v-720h720v720H120Zm60-500h600v-160H180v160Zm220 220h160v-160H400v160Zm0 220h160v-160H400v160ZM180-400h160v-160H180v160Zm440 0h160v-160H620v160ZM180-180h160v-160H180v160Zm440 0h160v-160H620v160Z\"/>\n",
              "  </svg>\n",
              "    </button>\n",
              "\n",
              "  <style>\n",
              "    .colab-df-container {\n",
              "      display:flex;\n",
              "      gap: 12px;\n",
              "    }\n",
              "\n",
              "    .colab-df-convert {\n",
              "      background-color: #E8F0FE;\n",
              "      border: none;\n",
              "      border-radius: 50%;\n",
              "      cursor: pointer;\n",
              "      display: none;\n",
              "      fill: #1967D2;\n",
              "      height: 32px;\n",
              "      padding: 0 0 0 0;\n",
              "      width: 32px;\n",
              "    }\n",
              "\n",
              "    .colab-df-convert:hover {\n",
              "      background-color: #E2EBFA;\n",
              "      box-shadow: 0px 1px 2px rgba(60, 64, 67, 0.3), 0px 1px 3px 1px rgba(60, 64, 67, 0.15);\n",
              "      fill: #174EA6;\n",
              "    }\n",
              "\n",
              "    .colab-df-buttons div {\n",
              "      margin-bottom: 4px;\n",
              "    }\n",
              "\n",
              "    [theme=dark] .colab-df-convert {\n",
              "      background-color: #3B4455;\n",
              "      fill: #D2E3FC;\n",
              "    }\n",
              "\n",
              "    [theme=dark] .colab-df-convert:hover {\n",
              "      background-color: #434B5C;\n",
              "      box-shadow: 0px 1px 3px 1px rgba(0, 0, 0, 0.15);\n",
              "      filter: drop-shadow(0px 1px 2px rgba(0, 0, 0, 0.3));\n",
              "      fill: #FFFFFF;\n",
              "    }\n",
              "  </style>\n",
              "\n",
              "    <script>\n",
              "      const buttonEl =\n",
              "        document.querySelector('#df-730c0584-b793-4e3b-a934-4ae7e5babb35 button.colab-df-convert');\n",
              "      buttonEl.style.display =\n",
              "        google.colab.kernel.accessAllowed ? 'block' : 'none';\n",
              "\n",
              "      async function convertToInteractive(key) {\n",
              "        const element = document.querySelector('#df-730c0584-b793-4e3b-a934-4ae7e5babb35');\n",
              "        const dataTable =\n",
              "          await google.colab.kernel.invokeFunction('convertToInteractive',\n",
              "                                                    [key], {});\n",
              "        if (!dataTable) return;\n",
              "\n",
              "        const docLinkHtml = 'Like what you see? Visit the ' +\n",
              "          '<a target=\"_blank\" href=https://colab.research.google.com/notebooks/data_table.ipynb>data table notebook</a>'\n",
              "          + ' to learn more about interactive tables.';\n",
              "        element.innerHTML = '';\n",
              "        dataTable['output_type'] = 'display_data';\n",
              "        await google.colab.output.renderOutput(dataTable, element);\n",
              "        const docLink = document.createElement('div');\n",
              "        docLink.innerHTML = docLinkHtml;\n",
              "        element.appendChild(docLink);\n",
              "      }\n",
              "    </script>\n",
              "  </div>\n",
              "\n",
              "\n",
              "    <div id=\"df-3a168a61-49bf-4999-85da-9e71b7c0334a\">\n",
              "      <button class=\"colab-df-quickchart\" onclick=\"quickchart('df-3a168a61-49bf-4999-85da-9e71b7c0334a')\"\n",
              "                title=\"Suggest charts\"\n",
              "                style=\"display:none;\">\n",
              "\n",
              "<svg xmlns=\"http://www.w3.org/2000/svg\" height=\"24px\"viewBox=\"0 0 24 24\"\n",
              "     width=\"24px\">\n",
              "    <g>\n",
              "        <path d=\"M19 3H5c-1.1 0-2 .9-2 2v14c0 1.1.9 2 2 2h14c1.1 0 2-.9 2-2V5c0-1.1-.9-2-2-2zM9 17H7v-7h2v7zm4 0h-2V7h2v10zm4 0h-2v-4h2v4z\"/>\n",
              "    </g>\n",
              "</svg>\n",
              "      </button>\n",
              "\n",
              "<style>\n",
              "  .colab-df-quickchart {\n",
              "      --bg-color: #E8F0FE;\n",
              "      --fill-color: #1967D2;\n",
              "      --hover-bg-color: #E2EBFA;\n",
              "      --hover-fill-color: #174EA6;\n",
              "      --disabled-fill-color: #AAA;\n",
              "      --disabled-bg-color: #DDD;\n",
              "  }\n",
              "\n",
              "  [theme=dark] .colab-df-quickchart {\n",
              "      --bg-color: #3B4455;\n",
              "      --fill-color: #D2E3FC;\n",
              "      --hover-bg-color: #434B5C;\n",
              "      --hover-fill-color: #FFFFFF;\n",
              "      --disabled-bg-color: #3B4455;\n",
              "      --disabled-fill-color: #666;\n",
              "  }\n",
              "\n",
              "  .colab-df-quickchart {\n",
              "    background-color: var(--bg-color);\n",
              "    border: none;\n",
              "    border-radius: 50%;\n",
              "    cursor: pointer;\n",
              "    display: none;\n",
              "    fill: var(--fill-color);\n",
              "    height: 32px;\n",
              "    padding: 0;\n",
              "    width: 32px;\n",
              "  }\n",
              "\n",
              "  .colab-df-quickchart:hover {\n",
              "    background-color: var(--hover-bg-color);\n",
              "    box-shadow: 0 1px 2px rgba(60, 64, 67, 0.3), 0 1px 3px 1px rgba(60, 64, 67, 0.15);\n",
              "    fill: var(--button-hover-fill-color);\n",
              "  }\n",
              "\n",
              "  .colab-df-quickchart-complete:disabled,\n",
              "  .colab-df-quickchart-complete:disabled:hover {\n",
              "    background-color: var(--disabled-bg-color);\n",
              "    fill: var(--disabled-fill-color);\n",
              "    box-shadow: none;\n",
              "  }\n",
              "\n",
              "  .colab-df-spinner {\n",
              "    border: 2px solid var(--fill-color);\n",
              "    border-color: transparent;\n",
              "    border-bottom-color: var(--fill-color);\n",
              "    animation:\n",
              "      spin 1s steps(1) infinite;\n",
              "  }\n",
              "\n",
              "  @keyframes spin {\n",
              "    0% {\n",
              "      border-color: transparent;\n",
              "      border-bottom-color: var(--fill-color);\n",
              "      border-left-color: var(--fill-color);\n",
              "    }\n",
              "    20% {\n",
              "      border-color: transparent;\n",
              "      border-left-color: var(--fill-color);\n",
              "      border-top-color: var(--fill-color);\n",
              "    }\n",
              "    30% {\n",
              "      border-color: transparent;\n",
              "      border-left-color: var(--fill-color);\n",
              "      border-top-color: var(--fill-color);\n",
              "      border-right-color: var(--fill-color);\n",
              "    }\n",
              "    40% {\n",
              "      border-color: transparent;\n",
              "      border-right-color: var(--fill-color);\n",
              "      border-top-color: var(--fill-color);\n",
              "    }\n",
              "    60% {\n",
              "      border-color: transparent;\n",
              "      border-right-color: var(--fill-color);\n",
              "    }\n",
              "    80% {\n",
              "      border-color: transparent;\n",
              "      border-right-color: var(--fill-color);\n",
              "      border-bottom-color: var(--fill-color);\n",
              "    }\n",
              "    90% {\n",
              "      border-color: transparent;\n",
              "      border-bottom-color: var(--fill-color);\n",
              "    }\n",
              "  }\n",
              "</style>\n",
              "\n",
              "      <script>\n",
              "        async function quickchart(key) {\n",
              "          const quickchartButtonEl =\n",
              "            document.querySelector('#' + key + ' button');\n",
              "          quickchartButtonEl.disabled = true;  // To prevent multiple clicks.\n",
              "          quickchartButtonEl.classList.add('colab-df-spinner');\n",
              "          try {\n",
              "            const charts = await google.colab.kernel.invokeFunction(\n",
              "                'suggestCharts', [key], {});\n",
              "          } catch (error) {\n",
              "            console.error('Error during call to suggestCharts:', error);\n",
              "          }\n",
              "          quickchartButtonEl.classList.remove('colab-df-spinner');\n",
              "          quickchartButtonEl.classList.add('colab-df-quickchart-complete');\n",
              "        }\n",
              "        (() => {\n",
              "          let quickchartButtonEl =\n",
              "            document.querySelector('#df-3a168a61-49bf-4999-85da-9e71b7c0334a button');\n",
              "          quickchartButtonEl.style.display =\n",
              "            google.colab.kernel.accessAllowed ? 'block' : 'none';\n",
              "        })();\n",
              "      </script>\n",
              "    </div>\n",
              "\n",
              "  <div id=\"id_2c2cb4dd-5609-47a5-9978-3f9a8955481a\">\n",
              "    <style>\n",
              "      .colab-df-generate {\n",
              "        background-color: #E8F0FE;\n",
              "        border: none;\n",
              "        border-radius: 50%;\n",
              "        cursor: pointer;\n",
              "        display: none;\n",
              "        fill: #1967D2;\n",
              "        height: 32px;\n",
              "        padding: 0 0 0 0;\n",
              "        width: 32px;\n",
              "      }\n",
              "\n",
              "      .colab-df-generate:hover {\n",
              "        background-color: #E2EBFA;\n",
              "        box-shadow: 0px 1px 2px rgba(60, 64, 67, 0.3), 0px 1px 3px 1px rgba(60, 64, 67, 0.15);\n",
              "        fill: #174EA6;\n",
              "      }\n",
              "\n",
              "      [theme=dark] .colab-df-generate {\n",
              "        background-color: #3B4455;\n",
              "        fill: #D2E3FC;\n",
              "      }\n",
              "\n",
              "      [theme=dark] .colab-df-generate:hover {\n",
              "        background-color: #434B5C;\n",
              "        box-shadow: 0px 1px 3px 1px rgba(0, 0, 0, 0.15);\n",
              "        filter: drop-shadow(0px 1px 2px rgba(0, 0, 0, 0.3));\n",
              "        fill: #FFFFFF;\n",
              "      }\n",
              "    </style>\n",
              "    <button class=\"colab-df-generate\" onclick=\"generateWithVariable('df_resposta')\"\n",
              "            title=\"Generate code using this dataframe.\"\n",
              "            style=\"display:none;\">\n",
              "\n",
              "  <svg xmlns=\"http://www.w3.org/2000/svg\" height=\"24px\"viewBox=\"0 0 24 24\"\n",
              "       width=\"24px\">\n",
              "    <path d=\"M7,19H8.4L18.45,9,17,7.55,7,17.6ZM5,21V16.75L18.45,3.32a2,2,0,0,1,2.83,0l1.4,1.43a1.91,1.91,0,0,1,.58,1.4,1.91,1.91,0,0,1-.58,1.4L9.25,21ZM18.45,9,17,7.55Zm-12,3A5.31,5.31,0,0,0,4.9,8.1,5.31,5.31,0,0,0,1,6.5,5.31,5.31,0,0,0,4.9,4.9,5.31,5.31,0,0,0,6.5,1,5.31,5.31,0,0,0,8.1,4.9,5.31,5.31,0,0,0,12,6.5,5.46,5.46,0,0,0,6.5,12Z\"/>\n",
              "  </svg>\n",
              "    </button>\n",
              "    <script>\n",
              "      (() => {\n",
              "      const buttonEl =\n",
              "        document.querySelector('#id_2c2cb4dd-5609-47a5-9978-3f9a8955481a button.colab-df-generate');\n",
              "      buttonEl.style.display =\n",
              "        google.colab.kernel.accessAllowed ? 'block' : 'none';\n",
              "\n",
              "      buttonEl.onclick = () => {\n",
              "        google.colab.notebook.generateWithVariable('df_resposta');\n",
              "      }\n",
              "      })();\n",
              "    </script>\n",
              "  </div>\n",
              "\n",
              "    </div>\n",
              "  </div>\n"
            ],
            "application/vnd.google.colaboratory.intrinsic+json": {
              "type": "dataframe",
              "variable_name": "df_resposta",
              "summary": "{\n  \"name\": \"df_resposta\",\n  \"rows\": 5570,\n  \"fields\": [\n    {\n      \"column\": \"city\",\n      \"properties\": {\n        \"dtype\": \"string\",\n        \"num_unique_values\": 5297,\n        \"samples\": [\n          \"Piquet Carneiro\",\n          \"Porto Rico do Maranh\\u00e3o\",\n          \"Santo Ant\\u00f4nio de Jesus\"\n        ],\n        \"semantic_type\": \"\",\n        \"description\": \"\"\n      }\n    },\n    {\n      \"column\": \"state\",\n      \"properties\": {\n        \"dtype\": \"category\",\n        \"num_unique_values\": 27,\n        \"samples\": [\n          \"MS\",\n          \"PE\",\n          \"MA\"\n        ],\n        \"semantic_type\": \"\",\n        \"description\": \"\"\n      }\n    },\n    {\n      \"column\": \"city_ibge_code\",\n      \"properties\": {\n        \"dtype\": \"number\",\n        \"std\": 984910.3394308067,\n        \"min\": 1100015.0,\n        \"max\": 5300108.0,\n        \"num_unique_values\": 5570,\n        \"samples\": [\n          2112456.0,\n          2924702.0,\n          2900207.0\n        ],\n        \"semantic_type\": \"\",\n        \"description\": \"\"\n      }\n    },\n    {\n      \"column\": \"taxa_casos_100k\",\n      \"properties\": {\n        \"dtype\": \"number\",\n        \"std\": 6275.323936528914,\n        \"min\": 178.9549033643522,\n        \"max\": 51915.70881226054,\n        \"num_unique_values\": 5564,\n        \"samples\": [\n          13941.70944767169,\n          23436.442856756246,\n          8069.402368493528\n        ],\n        \"semantic_type\": \"\",\n        \"description\": \"\"\n      }\n    },\n    {\n      \"column\": \"taxa_obitos_100k\",\n      \"properties\": {\n        \"dtype\": \"number\",\n        \"std\": 121.40273526349021,\n        \"min\": 0.0,\n        \"max\": 983.6065573770493,\n        \"num_unique_values\": 5407,\n        \"samples\": [\n          419.56868339347153,\n          190.095294524268,\n          116.0669872326314\n        ],\n        \"semantic_type\": \"\",\n        \"description\": \"\"\n      }\n    },\n    {\n      \"column\": \"taxa_mortalidade\",\n      \"properties\": {\n        \"dtype\": \"number\",\n        \"std\": 0.01480583650225964,\n        \"min\": 0.0,\n        \"max\": 0.26666666666666666,\n        \"num_unique_values\": 4651,\n        \"samples\": [\n          0.016243654822335026,\n          0.07635009310986965,\n          0.006903353057199211\n        ],\n        \"semantic_type\": \"\",\n        \"description\": \"\"\n      }\n    }\n  ]\n}"
            }
          },
          "metadata": {},
          "execution_count": 12
        }
      ],
      "source": [
        "df_resposta = df_clean[[\"city\", \"state\", \"city_ibge_code\"]].copy()\n",
        "\n",
        "df_resposta[\"taxa_casos_100k\"] = df_clean[\"confirmed\"] / df_clean[\"estimated_population\"] * 10**5\n",
        "df_resposta[\"taxa_obitos_100k\"] = df_clean[\"deaths\"] / df_clean[\"estimated_population\"] * 10**5\n",
        "df_resposta[\"taxa_mortalidade\"] = df_clean[\"deaths\"] / df_clean[\"confirmed\"]\n",
        "\n",
        "df_resposta"
      ]
    },
    {
      "cell_type": "markdown",
      "metadata": {
        "id": "vjLPSWmNnDPE"
      },
      "source": [
        "## 3. Ordenação:\n",
        "Implemente os algoritmos de ordenação abaixo e aplique-os para classificar os municípios por:\n",
        "- Maior taxa de casos por 100 mil hab.\n",
        "- Maior taxa de mortalidade.\n",
        "- Menor taxa de mortalidade.\n",
        "\n",
        "Compare:\n",
        "- Merge Sort\n",
        "- Quick Sort\n",
        "- Função nativa da linguagem (ex: sort() do Python)"
      ]
    },
    {
      "cell_type": "code",
      "execution_count": 13,
      "metadata": {
        "id": "EAWq298Sm8OL"
      },
      "outputs": [],
      "source": [
        "def merge(vL, vR, compare): # auxiliary O(n) space\n",
        "  out = []\n",
        "  i = j = 0\n",
        "  # inserting\n",
        "  while i < len(vL) and j < len(vR):\n",
        "    if compare(vL[i], vR[j]): # rev\n",
        "      out.append(vL[i])\n",
        "      i += 1\n",
        "    else:\n",
        "      out.append(vR[j])\n",
        "      j += 1\n",
        "  # extending\n",
        "  while i < len(vL):\n",
        "    out.append(vL[i])\n",
        "    i += 1\n",
        "  while j < len(vR):\n",
        "    out.append(vR[j])\n",
        "    j += 1\n",
        "\n",
        "  return out\n",
        "\n",
        "def mergesort(v, l=0, r=None, compare=lambda x,y : x<y):\n",
        "  if r == None:\n",
        "    r = len(v)-1\n",
        "  # base case\n",
        "  if l == r:\n",
        "    return [v[l]]\n",
        "  # divide T(n//2)\n",
        "  m = (l+r)//2\n",
        "  vL = mergesort(v, l, m, compare)\n",
        "  vR = mergesort(v, m+1, r, compare)\n",
        "  # conquer O(n)\n",
        "  return merge(vL, vR, compare)"
      ]
    },
    {
      "cell_type": "code",
      "execution_count": 14,
      "metadata": {
        "id": "3dmNyobp3See"
      },
      "outputs": [],
      "source": [
        "def partition(v, l, r, compare):\n",
        "  pivo = v[r] # random\n",
        "  i = l\n",
        "  for j in range(l,r):\n",
        "    if compare(v[j], pivo):\n",
        "      v[i], v[j] = v[j], v[i]\n",
        "      i+=1\n",
        "  v[i], v[r] = v[r], v[i]\n",
        "  return i\n",
        "\n",
        "def quicksort(v, l=0, r=None, compare=lambda x,y : x<y):  # inplace\n",
        "  if r == None:\n",
        "    r = len(v)-1\n",
        "  if l < r:\n",
        "    # divide (random)\n",
        "    pidx = partition(v, l, r, compare)\n",
        "    # conquer\n",
        "    quicksort(v, l, pidx-1, compare)\n",
        "    quicksort(v, pidx+1, r, compare)"
      ]
    },
    {
      "cell_type": "markdown",
      "source": [
        "Devido ao grande tamanho da base de dados, seria mais interessante implementar as versões iterativas dos algoritmos para evitar estourar a pilha de recursão."
      ],
      "metadata": {
        "id": "YG_zfUjpPtiD"
      }
    },
    {
      "cell_type": "code",
      "source": [
        "def merge(v, l1, r1, l2, r2, compare):\n",
        "  out = []\n",
        "  i, j = l1, l2\n",
        "  while i <= r1 and j <= r2:\n",
        "    if compare(v[i], v[j]):\n",
        "      out.append(v[i])\n",
        "      i += 1\n",
        "    else:\n",
        "      out.append(v[j])\n",
        "      j += 1\n",
        "\n",
        "  while i <= r1:\n",
        "    out.append(v[i])\n",
        "    i += 1\n",
        "  while j <= r2:\n",
        "    out.append(v[j])\n",
        "    j += 1\n",
        "  return out\n",
        "\n",
        "def mergesort(v, l=0, r=None, compare=lambda x,y : x<y):\n",
        "  if r == None:\n",
        "    r = len(v)-1\n",
        "  n = len(v)\n",
        "  if n <= 1:\n",
        "    return v\n",
        "  stack = [(0, n-1, False)]\n",
        "  while stack:\n",
        "    l, r, divided = stack.pop()\n",
        "    if l < r:\n",
        "      m = (l + r) // 2\n",
        "      if not divided:\n",
        "        # dividir\n",
        "        stack.append((l, r, True)) # marcar como dividido\n",
        "        stack.append((m+1, r, 0)) # direita\n",
        "        stack.append((l, m, 0)) # esquerda\n",
        "      else:\n",
        "        # intercalar [l:m] e [m+1:r]\n",
        "        merge(v, l, m, m+1, r, compare)"
      ],
      "metadata": {
        "id": "rCiL2umLZL5e"
      },
      "execution_count": 15,
      "outputs": []
    },
    {
      "cell_type": "code",
      "source": [
        "def partition(v, l, r, compare):\n",
        "  pivo = v[r] # random\n",
        "  i = l\n",
        "  for j in range(l,r):\n",
        "    if compare(v[j], pivo):\n",
        "      v[i], v[j] = v[j], v[i]\n",
        "      i+=1\n",
        "  v[i], v[r] = v[r], v[i]\n",
        "  return i\n",
        "\n",
        "def quicksort(v, l=0, r=None, compare=lambda x,y : x<y):\n",
        "  if r == None:\n",
        "    r = len(v)-1\n",
        "  stack = [(l,r)]\n",
        "  while stack:\n",
        "    l,r = stack.pop()\n",
        "    if l < r:\n",
        "      pidx = partition(v, l, r, compare)\n",
        "      stack.append((l,pidx-1))\n",
        "      stack.append((pidx+1,r))"
      ],
      "metadata": {
        "id": "QfD1WZ9sR2av"
      },
      "execution_count": 16,
      "outputs": []
    },
    {
      "cell_type": "code",
      "source": [
        "def merge(v, l1, r1, l2, r2, compare):\n",
        "  out = []\n",
        "  i, j = l1, l2\n",
        "\n",
        "  while i <= r1 and j <= r2:\n",
        "    if compare(v[i], v[j]):\n",
        "      out.append(v[i])\n",
        "      i += 1\n",
        "    else:\n",
        "      out.append(v[j])\n",
        "      j += 1\n",
        "\n",
        "  while i <= r1:\n",
        "    out.append(v[i])\n",
        "    i += 1\n",
        "  while j <= r2:\n",
        "    out.append(v[j])\n",
        "    j += 1\n",
        "\n",
        "  for k in range(len(out)):\n",
        "        v[l1 + k] = out[k]\n",
        "\n",
        "def mergesort(v, compare=lambda x,y : x<y):\n",
        "  n = len(v)\n",
        "  tam = 1 # tamanho das sublistas\n",
        "\n",
        "  while tam < n:\n",
        "    for i in range(0, n, 2*tam):\n",
        "      l1 = i\n",
        "      r1 = min(i + tam-1, n-1)\n",
        "      l2 = r1+1\n",
        "      r2 = min(i + 2*tam-1, n-1)\n",
        "\n",
        "      if l2 <= r2:\n",
        "        merge(v, l1, r1, l2, r2, compare)\n",
        "    tam *= 2\n",
        "\n",
        "  return v"
      ],
      "metadata": {
        "id": "UeqF8gWBs0C7"
      },
      "execution_count": 17,
      "outputs": []
    },
    {
      "cell_type": "markdown",
      "metadata": {
        "id": "6cfaGP-KGrmV"
      },
      "source": [
        "Aplicação:"
      ]
    },
    {
      "cell_type": "markdown",
      "source": [
        "import time\n",
        "Para ordenar os DataFrames apartir das colunas, precisaria salvar um array de índices ordenados."
      ],
      "metadata": {
        "id": "33UDjvfMi3aw"
      }
    },
    {
      "cell_type": "code",
      "source": [
        "import time\n",
        "\n",
        "def make_idx(v):\n",
        "  return list(range(len(v)))\n",
        "\n",
        "def sort_benchmark(df, column, sample_size, reverse=False):\n",
        "    data = df.sample(sample_size)[column].reset_index(drop=True)\n",
        "    idx_m, idx_q, idx_s = make_idx(data), make_idx(data), make_idx(data)\n",
        "\n",
        "    # Choose comparator based on sort direction\n",
        "    cmp = (lambda i, j: data[i] >= data[j]) if reverse else (lambda i, j: data[i] <= data[j])\n",
        "\n",
        "    # Mergesort\n",
        "    start = time.time()\n",
        "    mergesort(idx_m, compare=cmp)\n",
        "    end = time.time()\n",
        "    print(f\"Mergesort: {end - start} segundos\")\n",
        "\n",
        "    # Quicksort\n",
        "    start = time.time()\n",
        "    quicksort(idx_q, compare=cmp)\n",
        "    end = time.time()\n",
        "    print(f\"Quicksort: {end - start} segundos\")\n",
        "\n",
        "    # Timsort\n",
        "    start = time.time()\n",
        "    idx_s.sort(key=lambda i: data[i], reverse=reverse)\n",
        "    end = time.time()\n",
        "    print(f\"Timsort: {end - start} segundos\\n\")\n"
      ],
      "metadata": {
        "id": "tzuwcs-BkDXa"
      },
      "execution_count": 51,
      "outputs": []
    },
    {
      "cell_type": "code",
      "execution_count": 52,
      "metadata": {
        "id": "jHa9iDXTGx1k",
        "colab": {
          "base_uri": "https://localhost:8080/"
        },
        "outputId": "90c5e220-58eb-4de5-f353-aab4d9496bb4"
      },
      "outputs": [
        {
          "output_type": "stream",
          "name": "stdout",
          "text": [
            "Mergesort: 0.0022895336151123047 segundos\n",
            "Quicksort: 0.002428770065307617 segundos\n",
            "Timsort: 0.00022363662719726562 segundos\n",
            "\n",
            "Mergesort: 0.002249002456665039 segundos\n",
            "Quicksort: 0.0028743743896484375 segundos\n",
            "Timsort: 0.0002353191375732422 segundos\n",
            "\n",
            "Mergesort: 0.0022020339965820312 segundos\n",
            "Quicksort: 0.0024869441986083984 segundos\n",
            "Timsort: 0.0002014636993408203 segundos\n",
            "\n"
          ]
        }
      ],
      "source": [
        "sort_benchmark(df_full_clean, \"last_available_confirmed_per_100k_inhabitants\", 100, reverse=True)\n",
        "sort_benchmark(df_full_clean, \"last_available_death_rate\", 100, reverse=True)\n",
        "sort_benchmark(df_full_clean, \"last_available_death_rate\", 100)"
      ]
    },
    {
      "cell_type": "code",
      "source": [
        "sort_benchmark(df_full_clean, \"last_available_confirmed_per_100k_inhabitants\", 1000, reverse=True)\n",
        "sort_benchmark(df_full_clean, \"last_available_death_rate\", 1000, reverse=True)\n",
        "sort_benchmark(df_full_clean, \"last_available_death_rate\", 1000)"
      ],
      "metadata": {
        "colab": {
          "base_uri": "https://localhost:8080/"
        },
        "id": "QYggvp5htaaY",
        "outputId": "b22e7d4d-ab84-49b0-9978-13533bfba6c6"
      },
      "execution_count": 53,
      "outputs": [
        {
          "output_type": "stream",
          "name": "stdout",
          "text": [
            "Mergesort: 0.03561997413635254 segundos\n",
            "Quicksort: 0.04230785369873047 segundos\n",
            "Timsort: 0.0021295547485351562 segundos\n",
            "\n",
            "Mergesort: 0.03285551071166992 segundos\n",
            "Quicksort: 0.073944091796875 segundos\n",
            "Timsort: 0.002626180648803711 segundos\n",
            "\n",
            "Mergesort: 0.03384709358215332 segundos\n",
            "Quicksort: 0.07705998420715332 segundos\n",
            "Timsort: 0.0020835399627685547 segundos\n",
            "\n"
          ]
        }
      ]
    },
    {
      "cell_type": "code",
      "source": [
        "sort_benchmark(df_full_clean, \"last_available_confirmed_per_100k_inhabitants\", 10000, reverse=True)\n",
        "sort_benchmark(df_full_clean, \"last_available_death_rate\", 10000, reverse=True)\n",
        "sort_benchmark(df_full_clean, \"last_available_death_rate\", 10000)"
      ],
      "metadata": {
        "colab": {
          "base_uri": "https://localhost:8080/"
        },
        "id": "WAQUED_NtbHQ",
        "outputId": "8de5cd18-3bd0-4f6d-a623-39ef18469e43"
      },
      "execution_count": 54,
      "outputs": [
        {
          "output_type": "stream",
          "name": "stdout",
          "text": [
            "Mergesort: 0.7797179222106934 segundos\n",
            "Quicksort: 0.8382136821746826 segundos\n",
            "Timsort: 0.022511005401611328 segundos\n",
            "\n",
            "Mergesort: 0.8892745971679688 segundos\n",
            "Quicksort: 5.507475852966309 segundos\n",
            "Timsort: 0.03126025199890137 segundos\n",
            "\n",
            "Mergesort: 0.48665571212768555 segundos\n",
            "Quicksort: 4.786398649215698 segundos\n",
            "Timsort: 0.02177119255065918 segundos\n",
            "\n"
          ]
        }
      ]
    },
    {
      "cell_type": "code",
      "source": [
        "sort_benchmark(df_full_clean, \"last_available_confirmed_per_100k_inhabitants\", 100000, reverse=True)\n",
        "sort_benchmark(df_full_clean, \"last_available_death_rate\", 100000, reverse=True)\n",
        "sort_benchmark(df_full_clean, \"last_available_death_rate\", 100000)"
      ],
      "metadata": {
        "colab": {
          "base_uri": "https://localhost:8080/"
        },
        "id": "zlAVI9RpyMLv",
        "outputId": "88baeb8d-f9b4-4d8d-b7ad-1c00871e5295"
      },
      "execution_count": null,
      "outputs": [
        {
          "output_type": "stream",
          "name": "stdout",
          "text": [
            "Mergesort: 6.751708745956421 segundos\n",
            "Quicksort: 8.159952878952026 segundos\n",
            "Timsort: 0.23743104934692383 segundos\n",
            "\n",
            "Mergesort: 7.116086959838867 segundos\n"
          ]
        }
      ]
    },
    {
      "cell_type": "markdown",
      "source": [
        "Quicksort é um algoritmo de ordenação INSTÁVEL, altera a ordenação de elementos iguais, já o Timsort (python nativo) e o Mergesort são estáveis.\n",
        "\n",
        "O Quicksort também é INPLACE, altera o array original sem precisar de um espaço auxiliar. Já o Mergesort e o Timsort (python nativo) utilizam um espaço O(n) auxiliar."
      ],
      "metadata": {
        "id": "7k9Zi94i09vE"
      }
    },
    {
      "cell_type": "markdown",
      "source": [
        "Em complexidade de tempo, o Mergesort é O(nlogn) em todos os casos.\n",
        "\n",
        "O Quicksort é um algoritmo aleatório, onde a escolha do pivô influência diretamente na complexidade. Seu melhor caso é quando os pivôs escolhidos dividem a lista no meio sucessivamente, sendo O(nlogn). No pior caso, onde a lista diminui em apenas 1 elemento, é O(n^2). É provado que em média o Quicksort é O(nlogn)\n",
        "\n",
        "O Timsort é um método hibrido em que utiliza Mergesort e aproveita o Insertion sort para sublistas pequenas. O(nlogn) no pior e caso médio, O(n) no melhor (caso já esteja ordenado)."
      ],
      "metadata": {
        "id": "CEJCO0GjnUrJ"
      }
    },
    {
      "cell_type": "markdown",
      "source": [
        "# 4) Busca da Mediana - Quickselect\n",
        "\n",
        "- A mediana das taxas de mortalidade entre os municípios.\n",
        "- A mediana das taxas de casos por 100 mil habitantes.\n",
        "\n",
        "Compare o desempenho do Quickselect com a abordagem tradicional\n",
        "de ordenar e acessar o elemento central."
      ],
      "metadata": {
        "id": "YXlCLRa7e3yL"
      }
    },
    {
      "cell_type": "markdown",
      "source": [
        "# 5) Avaliação de desempenho\n",
        "- Meça o tempo de execução de cada algoritmo para diferentes tamanho de entrada (e.g., 100, 1000, 10000 linhas).\n",
        "- Compare os resultados com a complexidade esperada.\n"
      ],
      "metadata": {
        "id": "DCBvM7JLgb9a"
      }
    },
    {
      "cell_type": "markdown",
      "source": [
        "6) Relatório\n",
        "- Gráficos de desempenho (tempo vs tamanho).\n",
        "- Tabelas com os Top 10 municípios segundo cada critério.\n",
        "- Valor da mediana das taxas encontradas e sua interpretação\n",
        "- Análise crítica dos resultados (breve)"
      ],
      "metadata": {
        "id": "RXb9Dt7LgxdU"
      }
    }
  ],
  "metadata": {
    "colab": {
      "provenance": [],
      "authorship_tag": "ABX9TyPnbUoYbL/OO+oJHT3n9IEy",
      "include_colab_link": true
    },
    "kernelspec": {
      "display_name": "Python 3",
      "name": "python3"
    },
    "language_info": {
      "name": "python"
    }
  },
  "nbformat": 4,
  "nbformat_minor": 0
}