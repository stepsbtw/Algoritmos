{
  "nbformat": 4,
  "nbformat_minor": 0,
  "metadata": {
    "colab": {
      "provenance": [],
      "toc_visible": true,
      "authorship_tag": "ABX9TyOrno3qexUxhh2cPnGmrWEY",
      "include_colab_link": true
    },
    "kernelspec": {
      "name": "python3",
      "display_name": "Python 3"
    },
    "language_info": {
      "name": "python"
    }
  },
  "cells": [
    {
      "cell_type": "markdown",
      "metadata": {
        "id": "view-in-github",
        "colab_type": "text"
      },
      "source": [
        "<a href=\"https://colab.research.google.com/github/stepsbtw/Algoritmos/blob/main/grafos.ipynb\" target=\"_parent\"><img src=\"https://colab.research.google.com/assets/colab-badge.svg\" alt=\"Open In Colab\"/></a>"
      ]
    },
    {
      "cell_type": "markdown",
      "source": [
        "## REPRESENTAÇÃO DOS GRAFOS"
      ],
      "metadata": {
        "id": "xCX27s0Yartw"
      }
    },
    {
      "cell_type": "code",
      "source": [
        "def adj_list(edges, directed=True):\n",
        "    adj = {}\n",
        "    for u, v in edges:\n",
        "        if u not in adj:\n",
        "            adj[u] = []\n",
        "        if v not in adj:\n",
        "            adj[v] = []\n",
        "        adj[u].append(v)\n",
        "        if not directed:\n",
        "          adj[v].append(u)\n",
        "    return adj\n",
        "\n",
        "def node_list(edges):\n",
        "  nodes = []\n",
        "  for u, v in edges:\n",
        "    if u not in nodes:\n",
        "      nodes.append(u)\n",
        "    if v not in nodes:\n",
        "      nodes.append(v)\n",
        "  return nodes\n",
        "\n",
        "def adj_matrix(nodes, edges, directed=True):\n",
        "    adj = {node: [0] * len(nodes) for node in nodes}\n",
        "    for u, v in edges:\n",
        "        adj[u][v] = 1\n",
        "        if not directed:\n",
        "          adj[v][u] = 1\n",
        "    return adj\n",
        "\n",
        "class G:\n",
        "    def __init__(self, nodes, edges):\n",
        "       self.nodes = nodes\n",
        "       self.edges = edges\n",
        "       self.adj = adj_list(edges)\n",
        "       self.adj_m = adj_matrix(nodes, edges)\n",
        "       self.adj_un = adj_list(edges, directed=False)\n",
        "       self.adj_m_un = adj_matrix(nodes,edges, directed=False)"
      ],
      "metadata": {
        "id": "QB4ecHEtsjY8"
      },
      "execution_count": null,
      "outputs": []
    },
    {
      "cell_type": "code",
      "source": [
        "nodes = (0,1,2,3,4,5,6)\n",
        "\n",
        "edges = [\n",
        "(0,1),(0,2),(2,3),\n",
        "(1,4),(4,5),(3,5),\n",
        "(1,2),(2,1)\n",
        "]\n",
        "\n",
        "g = G(nodes, edges)\n",
        "print(g.nodes)\n",
        "print(g.edges)\n",
        "print(g.adj)\n",
        "print(g.adj_un)"
      ],
      "metadata": {
        "id": "XdUFKeopynYE",
        "colab": {
          "base_uri": "https://localhost:8080/"
        },
        "outputId": "8f9755fa-2e1e-4bc4-e648-03470f6b405c"
      },
      "execution_count": null,
      "outputs": [
        {
          "output_type": "stream",
          "name": "stdout",
          "text": [
            "(0, 1, 2, 3, 4, 5, 6)\n",
            "[(0, 1), (0, 2), (2, 3), (1, 4), (4, 5), (3, 5), (1, 2), (2, 1)]\n",
            "{0: [1, 2], 1: [4, 2], 2: [3, 1], 3: [5], 4: [5], 5: []}\n",
            "{0: [1, 2], 1: [0, 4, 2, 2], 2: [0, 3, 1, 1], 3: [2, 5], 4: [1, 5], 5: [4, 3]}\n"
          ]
        }
      ]
    },
    {
      "cell_type": "code",
      "source": [
        "g.adj_m, g.adj_m_un"
      ],
      "metadata": {
        "colab": {
          "base_uri": "https://localhost:8080/"
        },
        "id": "68UexjZZb_s_",
        "outputId": "0d0cecc2-57c8-4e7e-9262-067e7d2e8bfe"
      },
      "execution_count": null,
      "outputs": [
        {
          "output_type": "execute_result",
          "data": {
            "text/plain": [
              "({0: [0, 1, 1, 0, 0, 0, 0],\n",
              "  1: [0, 0, 1, 0, 1, 0, 0],\n",
              "  2: [0, 1, 0, 1, 0, 0, 0],\n",
              "  3: [0, 0, 0, 0, 0, 1, 0],\n",
              "  4: [0, 0, 0, 0, 0, 1, 0],\n",
              "  5: [0, 0, 0, 0, 0, 0, 0],\n",
              "  6: [0, 0, 0, 0, 0, 0, 0]},\n",
              " {0: [0, 1, 1, 0, 0, 0, 0],\n",
              "  1: [1, 0, 1, 0, 1, 0, 0],\n",
              "  2: [1, 1, 0, 1, 0, 0, 0],\n",
              "  3: [0, 0, 1, 0, 0, 1, 0],\n",
              "  4: [0, 1, 0, 0, 0, 1, 0],\n",
              "  5: [0, 0, 0, 1, 1, 0, 0],\n",
              "  6: [0, 0, 0, 0, 0, 0, 0]})"
            ]
          },
          "metadata": {},
          "execution_count": 7
        }
      ]
    },
    {
      "cell_type": "markdown",
      "source": [
        "## REVERTER O GRAFO"
      ],
      "metadata": {
        "id": "Io9B-Xg1h7Yt"
      }
    },
    {
      "cell_type": "code",
      "source": [
        "def transpose_matrix(adj):\n",
        "  adj_t = [[0]*len(adj) for node in adj]\n",
        "\n",
        "  for i in range(len(adj)):\n",
        "    for j in range(len(adj)):\n",
        "      adj_t[i][j] = adj[j][i]\n",
        "\n",
        "  return adj_t"
      ],
      "metadata": {
        "id": "oCeA_H_Ds0A3"
      },
      "execution_count": null,
      "outputs": []
    },
    {
      "cell_type": "code",
      "source": [
        "transpose_matrix(g.adj_m)"
      ],
      "metadata": {
        "colab": {
          "base_uri": "https://localhost:8080/"
        },
        "id": "bvMU9u27tXLR",
        "outputId": "0d7bf2a8-a305-4f60-bc5c-a17ccee30d26"
      },
      "execution_count": null,
      "outputs": [
        {
          "output_type": "execute_result",
          "data": {
            "text/plain": [
              "[[0, 0, 0, 0, 0, 0, 0],\n",
              " [1, 0, 1, 0, 0, 0, 0],\n",
              " [1, 1, 0, 0, 0, 0, 0],\n",
              " [0, 0, 1, 0, 0, 0, 0],\n",
              " [0, 1, 0, 0, 0, 0, 0],\n",
              " [0, 0, 0, 1, 1, 0, 0],\n",
              " [0, 0, 0, 0, 0, 0, 0]]"
            ]
          },
          "metadata": {},
          "execution_count": 9
        }
      ]
    },
    {
      "cell_type": "code",
      "source": [
        "def reverse_adj(adj):\n",
        "  adj_r = {node: [] for node in adj}\n",
        "  for u in adj:\n",
        "    for v in adj[u]:\n",
        "      adj_r[v].append(u)\n",
        "  return adj_r"
      ],
      "metadata": {
        "id": "sx-E_SZH73w1"
      },
      "execution_count": null,
      "outputs": []
    },
    {
      "cell_type": "code",
      "source": [
        "reverse_adj(g.adj)"
      ],
      "metadata": {
        "colab": {
          "base_uri": "https://localhost:8080/"
        },
        "id": "sKQzaO5C4k61",
        "outputId": "da4d3d5e-398a-4888-ccd2-578611f12de6"
      },
      "execution_count": null,
      "outputs": [
        {
          "output_type": "execute_result",
          "data": {
            "text/plain": [
              "{0: [], 1: [0, 2], 2: [0, 1], 3: [2], 4: [1], 5: [3, 4]}"
            ]
          },
          "metadata": {},
          "execution_count": 11
        }
      ]
    },
    {
      "cell_type": "markdown",
      "source": [
        "## BUSCA EM PROFUNDIDADE\n",
        "Em geral problemas sobre a estrutura GLOBAL do grafo.\n",
        "- **PILHA!** (RECURSÃO)\n",
        "\n",
        "- **CONECTIVIDADE**\n",
        "\n",
        "- **COMPONENTES CONEXAS**\n",
        "\n",
        "- **DETECTAR CICLOS**\n",
        "\n",
        "- **TOPOLOGICAL SORT EM DAGS**\n",
        "\n",
        "- **PONTES E ARTICULAÇÕES**\n",
        "\n",
        "- **BACKTRACKING**"
      ],
      "metadata": {
        "id": "T0fp3KNUh-3k"
      }
    },
    {
      "cell_type": "code",
      "source": [
        "def dfs(adj, s=0, visited=None, pre=None, post=None):\n",
        "  if pre is None:\n",
        "    pre = []\n",
        "  if post is None:\n",
        "    post = []\n",
        "  if visited is None:\n",
        "    visited = [False] * len(adj)\n",
        "\n",
        "  visited[s] = True\n",
        "  pre.append(s)\n",
        "\n",
        "  for v in adj[s]:\n",
        "    if not visited[v]:\n",
        "      dfs(adj, v, visited, pre, post)\n",
        "\n",
        "  post.append(s)\n",
        "  return pre, post"
      ],
      "metadata": {
        "id": "dii7ClSzsmrm"
      },
      "execution_count": null,
      "outputs": []
    },
    {
      "cell_type": "code",
      "source": [
        "def dfs_iter(adj, s=0, visited=None, pre=None, post=None):\n",
        "\n",
        "    if pre is None:\n",
        "      pre = []\n",
        "    if post is None:\n",
        "      post = []\n",
        "    if visited is None:\n",
        "      visited = [False] * len(adj)\n",
        "\n",
        "    stack = [(s, False)]\n",
        "    i=-1\n",
        "    j=-1\n",
        "\n",
        "    while stack:\n",
        "      u, explored = stack.pop()\n",
        "      if explored:\n",
        "        j+=1\n",
        "        post.append(u)\n",
        "\n",
        "      elif not visited[u]:\n",
        "        i+=1\n",
        "        visited[u] = True\n",
        "        pre.append(u)\n",
        "        stack.append((u, True))  # pós-visita (pós-ordem)\n",
        "\n",
        "        for v in reversed(adj[u]):\n",
        "          if not visited[v]:\n",
        "            stack.append((v, False))  # pré-visita\n",
        "\n",
        "    return pre, post"
      ],
      "metadata": {
        "id": "OTFu2joegQ9e"
      },
      "execution_count": null,
      "outputs": []
    },
    {
      "cell_type": "code",
      "source": [
        "pre, post = dfs_iter(g.adj)\n",
        "print(pre)\n",
        "print(post)"
      ],
      "metadata": {
        "colab": {
          "base_uri": "https://localhost:8080/"
        },
        "id": "NNosOpMDzDlS",
        "outputId": "1ec2343d-2b2e-49c3-9b47-2dd63b631e07"
      },
      "execution_count": null,
      "outputs": [
        {
          "output_type": "stream",
          "name": "stdout",
          "text": [
            "[0, 1, 4, 5, 2, 3]\n",
            "[5, 4, 3, 2, 1, 0]\n"
          ]
        }
      ]
    },
    {
      "cell_type": "markdown",
      "source": [
        "### TOPOLOGICAL SORT\n",
        "ordenar pelo post number de forma decrescente\n",
        "(só reverter a lista post order)"
      ],
      "metadata": {
        "id": "M65ftuLPiSQa"
      }
    },
    {
      "cell_type": "code",
      "source": [
        "def topological_sort(adj):\n",
        "  visited = [False]*len(adj)\n",
        "  post = []\n",
        "  for s in adj:\n",
        "    if not visited[s]:\n",
        "      _, post = dfs(adj,s,visited=visited,post=post)\n",
        "  return post[::-1]"
      ],
      "metadata": {
        "id": "eC5BwB5Eiajd"
      },
      "execution_count": null,
      "outputs": []
    },
    {
      "cell_type": "code",
      "source": [
        "topological_sort(g.adj)"
      ],
      "metadata": {
        "colab": {
          "base_uri": "https://localhost:8080/"
        },
        "id": "2N1HJzK6hXnZ",
        "outputId": "78dad549-f8c7-4cfc-a722-a5320726f151"
      },
      "execution_count": null,
      "outputs": [
        {
          "output_type": "execute_result",
          "data": {
            "text/plain": [
              "[0, 1, 2, 3, 4, 5]"
            ]
          },
          "metadata": {},
          "execution_count": 16
        }
      ]
    },
    {
      "cell_type": "markdown",
      "source": [
        "### DIÂMETRO DO GRAFO\n",
        "maior caminho simples! (quaisquer dois)\n",
        "\n",
        "- bfs começando de cada vértice\n",
        "- salvando o maior"
      ],
      "metadata": {
        "id": "mKobIynpHT0a"
      }
    },
    {
      "cell_type": "code",
      "source": [
        "def diametro(adj):\n",
        "  best_path = []\n",
        "  for s in adj:\n",
        "    _,prev = bfs(adj, s)\n",
        "    for t in adj:\n",
        "      u = t\n",
        "      path = []\n",
        "      while u is not None:\n",
        "        path.append(u)\n",
        "        u = prev[u]\n",
        "      if len(path) > len(best_path):\n",
        "        best_path = path[::-1]\n",
        "  return best_path"
      ],
      "metadata": {
        "id": "RAgAJZ1LHjY1"
      },
      "execution_count": null,
      "outputs": []
    },
    {
      "cell_type": "markdown",
      "source": [
        "## DIAMETRO DO DAG\n",
        "- topological sort\n",
        "- programacao dinamica, maior caminho cada vertice"
      ],
      "metadata": {
        "id": "WNRRQW2sl6PP"
      }
    },
    {
      "cell_type": "code",
      "source": [
        "def dag_diametro(adj):\n",
        "  path_to = [[u] for u in adj] # caminho inicial ele mesmo\n",
        "  topo = topological_sort(adj)\n",
        "  best_path = []\n",
        "  for s in topo:\n",
        "    for u in adj[s]:\n",
        "      if len(path_to[s]) + 1 > len(path_to[u]):\n",
        "        path_to[u] = path_to[s] + [u]\n",
        "  return max(path_to, key=len)"
      ],
      "metadata": {
        "id": "uKg71RcjdD2a"
      },
      "execution_count": null,
      "outputs": []
    },
    {
      "cell_type": "code",
      "source": [
        "adj = {\n",
        "0: [2],\n",
        "1: [3],\n",
        "2: [],\n",
        "3: [7],\n",
        "4: [],\n",
        "5: [],\n",
        "6: [8],\n",
        "7: [5],\n",
        "8: []\n",
        "}\n",
        "\n",
        "print(diametro(adj))\n",
        "print(dag_diametro(adj))"
      ],
      "metadata": {
        "colab": {
          "base_uri": "https://localhost:8080/"
        },
        "id": "9NsTK1rAOONS",
        "outputId": "8bd583e0-952e-46e8-c9ca-dd772694bf7e"
      },
      "execution_count": null,
      "outputs": [
        {
          "output_type": "stream",
          "name": "stdout",
          "text": [
            "[1, 3, 7, 5]\n",
            "[1, 3, 7, 5]\n"
          ]
        }
      ]
    },
    {
      "cell_type": "markdown",
      "source": [
        "## VERTICE DOMINADOR\n",
        "Receba um grafo G e verifique se existe um vértice s que é capaz de chegar em todos os outros vértices do grafo.\n",
        "\n",
        "- DFS"
      ],
      "metadata": {
        "id": "d2j4SjHZVtp4"
      }
    },
    {
      "cell_type": "code",
      "source": [
        "G = {\n",
        "    0: [3, 2],\n",
        "    1: [2, 3],\n",
        "    2: [3],\n",
        "    3: []\n",
        "}\n",
        "\n",
        "for u in G:\n",
        "  print(dfs(G,u))\n",
        "\n",
        "#componentes_conexas(G)"
      ],
      "metadata": {
        "colab": {
          "base_uri": "https://localhost:8080/"
        },
        "id": "BE23qaeCXUVc",
        "outputId": "92e69291-e113-4425-f4f9-53c8f8fe6f29"
      },
      "execution_count": null,
      "outputs": [
        {
          "output_type": "stream",
          "name": "stdout",
          "text": [
            "([0, 3, 2], [3, 2, 0])\n",
            "([1, 2, 3], [3, 2, 1])\n",
            "([2, 3], [3, 2])\n",
            "([3], [3])\n"
          ]
        }
      ]
    },
    {
      "cell_type": "code",
      "source": [
        "def vtx_dominador(adj):\n",
        "  dfs(adj)"
      ],
      "metadata": {
        "id": "lqmmOQQgZGE-"
      },
      "execution_count": null,
      "outputs": []
    },
    {
      "cell_type": "markdown",
      "source": [
        "### COMPONENTES CONEXAS\n",
        "Um grafo é conexo se existe **PELO MENOS UM** caminho entre todo par de vértices do GRAFO\n",
        "\n",
        "### FORTEMENTE CONEXO\n",
        "Um grafo é fortemente conexo quando ele é conexo **BIDIRECIONADO** (de u pra v e de v pra u)\n",
        "\n",
        "### COMPONENTES CONEXAS\n",
        "Subgrafo em que todos os nós são conexos."
      ],
      "metadata": {
        "id": "DlR_i8NPa9N0"
      }
    },
    {
      "cell_type": "code",
      "source": [
        "adj = [[1,2], [0,3], [0], [1], [5], [4], []]"
      ],
      "metadata": {
        "id": "2WEJMb6QdilI"
      },
      "execution_count": null,
      "outputs": []
    },
    {
      "cell_type": "code",
      "source": [
        "def componentes_conexas(adj):\n",
        "  V = len(adj)\n",
        "  visitado = [False] * V\n",
        "  componentes = []\n",
        "  for u in range(V):\n",
        "    if not visitado[u]: # dfs pra cada no NÃO visitado!\n",
        "      pre, post = dfs(adj,u,visitado)\n",
        "      componentes.append(pre)\n",
        "  return componentes"
      ],
      "metadata": {
        "id": "e2ZhMqqtbnv4"
      },
      "execution_count": null,
      "outputs": []
    },
    {
      "cell_type": "code",
      "source": [
        "componentes_conexas(adj)"
      ],
      "metadata": {
        "colab": {
          "base_uri": "https://localhost:8080/"
        },
        "id": "K1ptQBy_dhbP",
        "outputId": "fb762613-b74d-4f94-d6da-55c43f8961ab"
      },
      "execution_count": null,
      "outputs": [
        {
          "output_type": "execute_result",
          "data": {
            "text/plain": [
              "[[0, 1, 3, 2], [4, 5], [6]]"
            ]
          },
          "metadata": {},
          "execution_count": 86
        }
      ]
    },
    {
      "cell_type": "markdown",
      "source": [
        "### COMPONENTES FORTEMENTE CONEXAS\n",
        "\n",
        "KOSARAJU: passa duas vezes completas pelo grafo\n",
        "1. dfs em pos ordem\n",
        "2. dfs no reverso da pos ordem\n",
        "\n",
        "TARJAN: passa UMA UNICA VEZ -> **nao precisa do transposto**\n",
        "\n",
        "na pratica os dois sao O(V+E)"
      ],
      "metadata": {
        "id": "E_Ys7U-bqWcm"
      }
    },
    {
      "cell_type": "code",
      "source": [
        "def rev_adj(adj):\n",
        "  V = len(adj)\n",
        "  adj_r = [[] for _ in range(V)]\n",
        "  for u in range(V):\n",
        "    for v in adj[u]:\n",
        "      adj_r[v].append(u)\n",
        "  return adj_r\n",
        "\n",
        "def kosaraju(adj):\n",
        "    visitado = [False] * len(adj)\n",
        "    # Passo 1: Pós-ordem\n",
        "    pilha = []\n",
        "    for v in range(len(adj)):\n",
        "      if not visitado[v]:\n",
        "        dfs(adj, v, visitado, post=pilha)\n",
        "\n",
        "    # Passo 2: Transpor o grafo\n",
        "    adj_rev = rev_adj(adj)\n",
        "\n",
        "    # Passo 3: DFS no grafo transposto\n",
        "    visitado = [False] * len(adj)\n",
        "    sccs = []\n",
        "\n",
        "    while pilha:\n",
        "      v = pilha.pop()\n",
        "      if not visitado[v]:\n",
        "        componente = []\n",
        "        dfs(adj_rev, v, visitado, pre=componente)\n",
        "        sccs.append(componente)\n",
        "\n",
        "    return sccs"
      ],
      "metadata": {
        "id": "cDaeJfY5p_EG"
      },
      "execution_count": null,
      "outputs": []
    },
    {
      "cell_type": "code",
      "source": [
        "def kosaraju_iterativo(adj):\n",
        "    n = len(adj)\n",
        "    visitado = [False] * n\n",
        "    post = []\n",
        "\n",
        "    # Passo 1: DFS no grafo original para gerar a ordem de finalização (post-ordem)\n",
        "    for v in range(n):\n",
        "        if not visitado[v]:\n",
        "            dfs_iter(adj, v, visitado, post=post)\n",
        "\n",
        "    # Passo 2: Transpor o grafo\n",
        "    adj_rev = rev_adj(adj)\n",
        "\n",
        "    # Passo 3: DFS no grafo transposto, na ordem inversa do post\n",
        "    visitado = [False] * n\n",
        "    sccs = []\n",
        "\n",
        "    while post:\n",
        "        v = post.pop()\n",
        "        if not visitado[v]:\n",
        "            componente = []\n",
        "            dfs_iter(adj_rev, v, visitado, pre=componente)\n",
        "            sccs.append(componente)\n",
        "\n",
        "    return sccs"
      ],
      "metadata": {
        "id": "FawIFjFxyBue"
      },
      "execution_count": null,
      "outputs": []
    },
    {
      "cell_type": "code",
      "source": [
        "edges = [(1,0),(0,2),(2,1),(0,3),(3,4)]\n",
        "adj = adj_list(edges)\n",
        "print(kosaraju(adj))\n",
        "print(kosaraju_iterativo(adj))\n"
      ],
      "metadata": {
        "colab": {
          "base_uri": "https://localhost:8080/"
        },
        "id": "lYowAoE_uzW5",
        "outputId": "642c4163-e6a2-4dc8-d4dd-1cb709819a2b"
      },
      "execution_count": null,
      "outputs": [
        {
          "output_type": "stream",
          "name": "stdout",
          "text": [
            "[[0, 1, 2], [3], [4]]\n",
            "[[0, 1, 2], [3], [4]]\n"
          ]
        }
      ]
    },
    {
      "cell_type": "code",
      "source": [
        "adj2 = [\n",
        "    [1],\n",
        "    [2],\n",
        "    [0, 3],\n",
        "    [4],\n",
        "    [5],\n",
        "    [3]\n",
        "]\n",
        "\n",
        "print(kosaraju(adj2))\n",
        "print(kosaraju_iterativo(adj2))"
      ],
      "metadata": {
        "colab": {
          "base_uri": "https://localhost:8080/"
        },
        "id": "VdiwKYlHx6RU",
        "outputId": "2567cc1b-4de7-4b27-db16-06cab77fdf4d"
      },
      "execution_count": null,
      "outputs": [
        {
          "output_type": "stream",
          "name": "stdout",
          "text": [
            "[[0, 2, 1], [3, 5, 4]]\n",
            "[[0, 2, 1], [3, 5, 4]]\n"
          ]
        }
      ]
    },
    {
      "cell_type": "code",
      "source": [
        "def tarjan(adj):\n",
        "    n = len(adj)\n",
        "    ids = [-1] * n\n",
        "    low = [0] * n\n",
        "    on_stack = [False] * n\n",
        "    stack = []\n",
        "    id_counter = 0\n",
        "    sccs = []\n",
        "\n",
        "    def dfs(at):\n",
        "        nonlocal id_counter\n",
        "        stack.append(at)\n",
        "        on_stack[at] = True\n",
        "        ids[at] = id_counter\n",
        "        low[at] = id_counter\n",
        "        id_counter += 1\n",
        "\n",
        "        for to in adj[at]:\n",
        "            if ids[to] == -1:\n",
        "                dfs(to)\n",
        "                low[at] = min(low[at], low[to])\n",
        "            elif on_stack[to]:\n",
        "                low[at] = min(low[at], ids[to])\n",
        "\n",
        "        # Se `at` é raiz da SCC\n",
        "        if ids[at] == low[at]:\n",
        "            scc = []\n",
        "            while True:\n",
        "                node = stack.pop()\n",
        "                on_stack[node] = False\n",
        "                scc.append(node)\n",
        "                if node == at:\n",
        "                    break\n",
        "            sccs.append(scc)\n",
        "\n",
        "    for i in range(n):\n",
        "        if ids[i] == -1:\n",
        "            dfs(i)\n",
        "\n",
        "    return sccs\n"
      ],
      "metadata": {
        "id": "6f2z8psDycw-"
      },
      "execution_count": null,
      "outputs": []
    },
    {
      "cell_type": "code",
      "source": [
        "def tarjan_iterativo(adj):\n",
        "    n = len(adj)\n",
        "    ids = [-1] * n\n",
        "    low = [0] * n\n",
        "    on_stack = [False] * n\n",
        "    stack = []\n",
        "    sccs = []\n",
        "\n",
        "    id_counter = 0\n",
        "\n",
        "    # Pilha para simular chamadas DFS: cada frame = (node, index de próximo filho)\n",
        "    call_stack = []\n",
        "\n",
        "    for start in range(n):\n",
        "        if ids[start] != -1:\n",
        "            continue\n",
        "\n",
        "        call_stack.append((start, 0))\n",
        "        while call_stack:\n",
        "            node, nxt_idx = call_stack[-1]\n",
        "\n",
        "            if ids[node] == -1:\n",
        "                # Primeira vez visitando node\n",
        "                ids[node] = id_counter\n",
        "                low[node] = id_counter\n",
        "                id_counter += 1\n",
        "                stack.append(node)\n",
        "                on_stack[node] = True\n",
        "\n",
        "            neighbors = adj[node]\n",
        "\n",
        "            if nxt_idx < len(neighbors):\n",
        "                nbr = neighbors[nxt_idx]\n",
        "                call_stack[-1] = (node, nxt_idx + 1)\n",
        "\n",
        "                if ids[nbr] == -1:\n",
        "                    # Visit neighbor\n",
        "                    call_stack.append((nbr, 0))\n",
        "                elif on_stack[nbr]:\n",
        "                    # Atualiza low[node] com id do vizinho na pilha\n",
        "                    low[node] = min(low[node], ids[nbr])\n",
        "\n",
        "            else:\n",
        "                # Terminar o processamento de node\n",
        "                if ids[node] == low[node]:\n",
        "                    # raiz de SCC\n",
        "                    scc = []\n",
        "                    while True:\n",
        "                        w = stack.pop()\n",
        "                        on_stack[w] = False\n",
        "                        scc.append(w)\n",
        "                        if w == node:\n",
        "                            break\n",
        "                    sccs.append(scc)\n",
        "\n",
        "                call_stack.pop()\n",
        "                if call_stack:\n",
        "                    parent, parent_idx = call_stack[-1]\n",
        "                    low[parent] = min(low[parent], low[node])\n",
        "\n",
        "    return sccs\n"
      ],
      "metadata": {
        "id": "V2SJzLyYzX-p"
      },
      "execution_count": null,
      "outputs": []
    },
    {
      "cell_type": "code",
      "source": [
        "print(tarjan(adj))\n",
        "print(tarjan(adj2))\n",
        "print(tarjan_iterativo(adj))\n",
        "print(tarjan_iterativo(adj2))"
      ],
      "metadata": {
        "colab": {
          "base_uri": "https://localhost:8080/"
        },
        "id": "A5tq5LmxytCr",
        "outputId": "5c64dea3-52d8-4b20-aede-e7df48d2a246"
      },
      "execution_count": null,
      "outputs": [
        {
          "output_type": "stream",
          "name": "stdout",
          "text": [
            "[[4], [3], [1, 2, 0]]\n",
            "[[5, 4, 3], [2, 1, 0]]\n",
            "[[4], [3], [1, 2, 0]]\n",
            "[[5, 4, 3], [2, 1, 0]]\n"
          ]
        }
      ]
    },
    {
      "cell_type": "markdown",
      "source": [
        "### GRAFO BIPARTIDO"
      ],
      "metadata": {
        "id": "zrI-WIumh1cQ"
      }
    },
    {
      "cell_type": "code",
      "source": [
        "# checar se o grafo NAO DIRECIONADO é bipartido\n",
        "# checar se com a atual configuracao de arestas\n",
        "# tenho dois conjuntos disjuntos de nos\n",
        "g.adj_un"
      ],
      "metadata": {
        "colab": {
          "base_uri": "https://localhost:8080/"
        },
        "id": "5piI3Havqc3I",
        "outputId": "f2d603aa-7d74-4e08-c07d-53f9b656182a"
      },
      "execution_count": null,
      "outputs": [
        {
          "output_type": "execute_result",
          "data": {
            "text/plain": [
              "{0: [1, 2], 1: [0, 4, 2, 2], 2: [0, 3, 1, 1], 3: [2, 5], 4: [1, 5], 5: [4, 3]}"
            ]
          },
          "metadata": {},
          "execution_count": 94
        }
      ]
    },
    {
      "cell_type": "code",
      "source": [
        "# problema de coloração 2 cores\n",
        "# adjacentes precisam ter cores diferentes\n",
        "# se tem aresta, cor diferente\n",
        "\n",
        "def dfs_label(u, adj, l, labels):\n",
        "    labels[u] = l\n",
        "    for v in adj[u]:\n",
        "        if labels[v] == l:\n",
        "            return False\n",
        "        elif labels[v] == 0:\n",
        "            if not dfs_label(v, adj, -l, labels):\n",
        "                return False\n",
        "    return True\n",
        "\n",
        "def is_biparted(adj):\n",
        "    labels = [0] * len(adj)\n",
        "    for i in range(len(adj)):\n",
        "        if labels[i] == 0:\n",
        "            if not dfs_label(i, adj, 1, labels):\n",
        "                return False\n",
        "    return True"
      ],
      "metadata": {
        "id": "6yI2Y5HlrvDk"
      },
      "execution_count": null,
      "outputs": []
    },
    {
      "cell_type": "code",
      "source": [
        "print(is_biparted(g.adj))\n",
        "print(is_biparted(g.adj_un))\n",
        "print(is_biparted(reverse_adj(g.adj)))"
      ],
      "metadata": {
        "colab": {
          "base_uri": "https://localhost:8080/"
        },
        "id": "0hzYcdKwxl0b",
        "outputId": "01b80f61-5d8b-43a1-c78d-b2c2160e44ec"
      },
      "execution_count": null,
      "outputs": [
        {
          "output_type": "stream",
          "name": "stdout",
          "text": [
            "False\n",
            "False\n",
            "False\n"
          ]
        }
      ]
    },
    {
      "cell_type": "code",
      "source": [
        "g1 = {\n",
        "    0: [1, 2],\n",
        "    1: [0, 2],\n",
        "    2: [0, 1]\n",
        "}\n",
        "print(is_biparted(g1))\n",
        "g2 = {\n",
        "    0: [1, 3],\n",
        "    1: [0, 2],\n",
        "    2: [1, 3],\n",
        "    3: [0, 2]\n",
        "}\n",
        "print(is_biparted(g2))"
      ],
      "metadata": {
        "id": "CniKR-gB8pSh",
        "colab": {
          "base_uri": "https://localhost:8080/"
        },
        "outputId": "7986d8a0-3ea7-497f-e947-8d322e03ff26"
      },
      "execution_count": null,
      "outputs": [
        {
          "output_type": "stream",
          "name": "stdout",
          "text": [
            "False\n",
            "True\n"
          ]
        }
      ]
    },
    {
      "cell_type": "markdown",
      "source": [
        "### DETECTAR CICLOS"
      ],
      "metadata": {
        "id": "XNZ6UnHxm1xe"
      }
    },
    {
      "cell_type": "code",
      "source": [
        "def dfs_cycle(adj, u, visited, prev):\n",
        "    visited.add(u)\n",
        "    for v in adj[u]:\n",
        "      if v not in visited:\n",
        "        if dfs_cycle(adj, v, visited, u):\n",
        "            return True\n",
        "      elif v != prev:\n",
        "        return True\n",
        "    return False\n",
        "\n",
        "def has_cycle(adj):\n",
        "    visited = set()\n",
        "    for u in adj:\n",
        "      if u not in visited:\n",
        "        if dfs_cycle(adj, u, visited, None):\n",
        "          return True\n",
        "    return False"
      ],
      "metadata": {
        "id": "cEOgS7qQ9Sv8"
      },
      "execution_count": null,
      "outputs": []
    },
    {
      "cell_type": "code",
      "source": [
        "print(has_cycle(g.adj))"
      ],
      "metadata": {
        "id": "d9h0AAgZ-9NS",
        "colab": {
          "base_uri": "https://localhost:8080/"
        },
        "outputId": "e7986444-48de-430b-ccb0-07e19f7e5af6"
      },
      "execution_count": null,
      "outputs": [
        {
          "output_type": "stream",
          "name": "stdout",
          "text": [
            "True\n"
          ]
        }
      ]
    },
    {
      "cell_type": "markdown",
      "source": [
        "## RETORNAR CICLOS"
      ],
      "metadata": {
        "id": "toIu_sw5D4Yj"
      }
    },
    {
      "cell_type": "code",
      "source": [
        "def cycles(adj):\n",
        "  C = set() # conjunto de ciclos\n",
        "\n",
        "  def dfs(s, u, visited, arestas):\n",
        "    visited.add(u)\n",
        "\n",
        "    for v in adj[u]:\n",
        "      if v == s and len(visited) > 2: # se eu voltei pro inicio usando +1 aresta\n",
        "        c = arestas + [(u,v)]\n",
        "        c.append((u,v))\n",
        "        C.add(c)\n",
        "      elif v not in visited:\n",
        "        dfs(s, v, visited, arestas + [(u,v)])\n",
        "\n",
        "  for s in adj:\n",
        "    visited = set()\n",
        "    arestas = []\n",
        "    dfs(s, s, visited, arestas)\n",
        "\n",
        "  return C"
      ],
      "metadata": {
        "id": "3nETG4YLD6pr"
      },
      "execution_count": null,
      "outputs": []
    },
    {
      "cell_type": "markdown",
      "source": [
        "### ENCONTRAR PONTES e ARTICULACOES\n",
        "### PONTE\n",
        "Remover essa **aresta** aumenta o numero de componentes conexas do grafo!\n",
        "\n",
        "ex: (0-1-2-3) todas arestas sao pontes\n",
        "\n",
        "### ARTICULACAO (COTOVELO)\n",
        "Remover esse **vértice** aumenta o numero de componentes conexas do grafo\n",
        "\n",
        "ex: numa arvore, qualquer no que nao seja folha é uma **articulacao**"
      ],
      "metadata": {
        "id": "Nql_wa9w4Exj"
      }
    },
    {
      "cell_type": "markdown",
      "source": [
        "Para cada u\n",
        "calcular um LOW -> o menor pre number que pode ser alcancado a partir de u pegando **zero ou mais arestas** e no maximo **UMA back-edge**\n",
        "\n",
        "esse low[u] é o vertice MAIS ANTIGO que os descendentes podem voltar\n",
        "\n",
        "se low[u] for igual ao prenumber significa que nao existe back-edge, formam uma componente isolada"
      ],
      "metadata": {
        "id": "uE2NN9Mp60ZZ"
      }
    },
    {
      "cell_type": "code",
      "source": [
        "def pontes_articulacoes(adj):\n",
        "    V = len(adj)\n",
        "    pre = [None] * V\n",
        "    low = [None] * V\n",
        "    visitado = [False] * V\n",
        "    i = 0\n",
        "    pontes = []\n",
        "    articulacoes = set()\n",
        "\n",
        "    def dfs(u,prev=None,i=0):\n",
        "        visitado[u] = True\n",
        "        pre[u] = low[u] = i\n",
        "        i += 1\n",
        "        filhos = 0\n",
        "\n",
        "        for v in adj[u]:\n",
        "            if v == prev:\n",
        "                continue\n",
        "            if visitado[v]:\n",
        "                low[u] = min(low[u], pre[v]) # back edge\n",
        "            else:\n",
        "                dfs(v, u, i)\n",
        "                low[u] = min(low[u], low[v])\n",
        "                if low[v] > pre[u]:\n",
        "                    pontes.append((u, v))\n",
        "                if prev is not None and low[v] >= pre[u]:\n",
        "                    articulacoes.add(u)\n",
        "                filhos += 1\n",
        "\n",
        "        if prev is None and filhos > 1:\n",
        "            articulacoes.add(u)\n",
        "\n",
        "    for u in range(V):\n",
        "        if not visitado[u]:\n",
        "            dfs(u)\n",
        "\n",
        "    return pontes, articulacoes"
      ],
      "metadata": {
        "id": "8KXLNU6-46Uc"
      },
      "execution_count": null,
      "outputs": []
    },
    {
      "cell_type": "code",
      "source": [
        "adj = [\n",
        "    [1, 3],\n",
        "    [0, 2, 4],\n",
        "    [1],\n",
        "    [0, 4],\n",
        "    [1, 3]\n",
        "]\n",
        "pontes_articulacoes(adj)"
      ],
      "metadata": {
        "colab": {
          "base_uri": "https://localhost:8080/"
        },
        "id": "0IbUWXDD7TsL",
        "outputId": "495466ee-e9f9-45e2-a349-cb7e68fdf7df"
      },
      "execution_count": null,
      "outputs": [
        {
          "output_type": "execute_result",
          "data": {
            "text/plain": [
              "([(1, 2)], {1})"
            ]
          },
          "metadata": {},
          "execution_count": 101
        }
      ]
    },
    {
      "cell_type": "markdown",
      "source": [
        "##BUSCA EM LARGURA\n",
        "- **FILA**\n",
        "\n",
        "- **MENORES CAMINHOS** em grafos NÃO PONDERADOS (sem pesos, apenas numero de arestas)\n",
        "\n",
        "Explora os nós a 1 aresta de distancia, a 2, e assim em diante.\n",
        "\n",
        "- Verificar **CONECTIVIDADE** (tambem posso usar pra componentes conexas)\n",
        "\n",
        "- Problemas de **FLUXO MÁXIMO**"
      ],
      "metadata": {
        "id": "xhqrbD_6YQm8"
      }
    },
    {
      "cell_type": "markdown",
      "source": [
        "### COMPONENTES CONEXAS"
      ],
      "metadata": {
        "id": "h50yKdH13Csh"
      }
    },
    {
      "cell_type": "code",
      "source": [
        "from collections import deque\n",
        "\n",
        "def bfs(adj, s=0, visited=None, t=None):\n",
        "    if visited is None:\n",
        "      visited = [False] * len(adj)\n",
        "    prev = [None] * len(adj) # anterior para menores caminhos\n",
        "    visit_order = [] # \"pre ordem\"\n",
        "\n",
        "    fila = deque([s])\n",
        "    visited[s] = True\n",
        "\n",
        "    while fila:\n",
        "      u = fila.popleft()\n",
        "      visit_order.append(u)\n",
        "\n",
        "      if u == t:\n",
        "        break # achei o menor caminho ate t\n",
        "\n",
        "      for v in adj[u]:\n",
        "        if not visited[v]:\n",
        "          visited[v] = True\n",
        "          prev[v] = u\n",
        "          fila.append(v)\n",
        "\n",
        "    if t is not None:\n",
        "      path = []\n",
        "      u = t\n",
        "      while u is not None:\n",
        "        path.append(u)\n",
        "        u = prev[u]\n",
        "\n",
        "      return reversed(path)\n",
        "\n",
        "    return visit_order, prev"
      ],
      "metadata": {
        "id": "Ibm39R0N1e_1"
      },
      "execution_count": null,
      "outputs": []
    },
    {
      "cell_type": "code",
      "source": [
        "adj = [\n",
        "    [1],\n",
        "    [0, 2, 4],\n",
        "    [1, 3, 4, 9],\n",
        "    [2, 4],\n",
        "    [1, 2, 3, 5, 6, 7],\n",
        "    [4, 6],\n",
        "    [4, 5],\n",
        "    [4, 8, 9],\n",
        "    [7],\n",
        "    [2, 7]\n",
        "]\n",
        "\n",
        "visit, prev = bfs(adj)\n",
        "pre, post = dfs(adj)\n",
        "\n",
        "print(visit)\n",
        "print(prev)\n",
        "print(pre)\n",
        "print(post)"
      ],
      "metadata": {
        "colab": {
          "base_uri": "https://localhost:8080/"
        },
        "id": "LxW3QcNoxZzx",
        "outputId": "3c78e518-599c-46b8-90ee-6979901c09a8"
      },
      "execution_count": null,
      "outputs": [
        {
          "output_type": "stream",
          "name": "stdout",
          "text": [
            "[0, 1, 2, 4, 3, 9, 5, 6, 7, 8]\n",
            "[None, 0, 1, 2, 1, 4, 4, 4, 7, 2]\n",
            "[0, 1, 2, 3, 4, 5, 6, 7, 8, 9]\n",
            "[6, 5, 8, 9, 7, 4, 3, 2, 1, 0]\n"
          ]
        }
      ]
    },
    {
      "cell_type": "code",
      "source": [
        "def componentes_conexos_bfs(adj):\n",
        "    V = len(adj)\n",
        "    visitado = [False] * V\n",
        "    componentes = []\n",
        "    for u in range(V):\n",
        "        if not visitado[u]:\n",
        "            componente, _ = bfs(adj,u,visitado)\n",
        "            componentes.append(componente)\n",
        "    return componentes"
      ],
      "metadata": {
        "id": "qIXSjAfXxZOs"
      },
      "execution_count": null,
      "outputs": []
    },
    {
      "cell_type": "code",
      "source": [
        "adj = [[1,2], [0,3], [0], [1], [5], [4], []]\n",
        "print(componentes_conexos_bfs(adj))"
      ],
      "metadata": {
        "colab": {
          "base_uri": "https://localhost:8080/"
        },
        "id": "GnAn-uFG13D4",
        "outputId": "449d8685-49e5-4b0c-9795-5f99f020c94d"
      },
      "execution_count": null,
      "outputs": [
        {
          "output_type": "stream",
          "name": "stdout",
          "text": [
            "[[0, 1, 2, 3], [4, 5], [6]]\n"
          ]
        }
      ]
    },
    {
      "cell_type": "markdown",
      "source": [
        "### GRAFO BIPARTIDO\n",
        "1. Tente pintar os nós com cores alternadas (0 e 1).\n",
        "\n",
        "2. Se encontrar um vizinho com a mesma cor, o grafo não é bipartido.\n",
        "\n",
        "3. Repita para todos os componentes (caso o grafo seja desconexo)."
      ],
      "metadata": {
        "id": "K_UOFFss3Gx2"
      }
    },
    {
      "cell_type": "code",
      "source": [
        "def is_biparted(adj):\n",
        "    n = len(adj)\n",
        "    cor = [-1] * n  # -1 = não colorido, 0 ou 1 = cores\n",
        "    for u in range(n):\n",
        "      if cor[u] == -1:\n",
        "        fila = deque([u])\n",
        "        cor[u] = 0  # Começa com a cor 0\n",
        "        while fila:\n",
        "          atual = fila.popleft()\n",
        "          for vizinho in adj[atual]:\n",
        "            if cor[vizinho] == -1:\n",
        "              cor[vizinho] = 1 - cor[atual]  # Cor alternada\n",
        "              fila.append(vizinho)\n",
        "            elif cor[vizinho] == cor[atual]:\n",
        "              return False\n",
        "    return True"
      ],
      "metadata": {
        "id": "j5Kcmg1u3QT-"
      },
      "execution_count": null,
      "outputs": []
    },
    {
      "cell_type": "markdown",
      "source": [
        "O BFS serve pra checar BIPARTICAO (com a mesma complexidade)\n",
        "mas nao para checar CICLOS, PONTES, ARTICULACOES."
      ],
      "metadata": {
        "id": "2irZml6W3mmV"
      }
    },
    {
      "cell_type": "code",
      "source": [
        "def path_to_all(adj, prev):\n",
        "  paths = []\n",
        "  for t in adj:\n",
        "    u = t\n",
        "    path = []\n",
        "    while u is not None:\n",
        "      path.append(u)\n",
        "      u = prev[u]\n",
        "    path.reverse()\n",
        "    paths.append(path)\n",
        "  return paths"
      ],
      "metadata": {
        "id": "cGgEkvddrQSW"
      },
      "execution_count": null,
      "outputs": []
    },
    {
      "cell_type": "markdown",
      "source": [
        "## MENORES CAMINHOS COM PESOS"
      ],
      "metadata": {
        "id": "Znq62qAChqMt"
      }
    },
    {
      "cell_type": "code",
      "source": [
        "import heapq\n",
        "\n",
        "def dijkstra(adj, s=0, t=None):\n",
        "  prev = [None]*len(adj) # pra salvar o caminho depois\n",
        "  dist = [float('inf')]*len(adj)\n",
        "  visited = [False]*len(adj)\n",
        "  Q = [(s,0)]\n",
        "  dist[s] = 0\n",
        "  while Q:\n",
        "    u, d = heapq.heappop(Q)\n",
        "    visited[u] = True\n",
        "\n",
        "    if t is not None and u == t: # caso eu tenha um destino\n",
        "      return dist[t], prev[:t]\n",
        "\n",
        "    for v, w in adj[u]:\n",
        "      if dist[v] > d + w:\n",
        "        dist[v] = d + w\n",
        "        heapq.heappush(Q, (v, dist[v]))\n",
        "        prev[v] = u\n",
        "  return dist, prev"
      ],
      "metadata": {
        "id": "svjCrp7thPKc"
      },
      "execution_count": null,
      "outputs": []
    },
    {
      "cell_type": "code",
      "source": [
        "g0 = {\n",
        "    0:[(1,1), (2,3), (5,6)],\n",
        "    1:[(2,1)],\n",
        "    2:[(3,1)],\n",
        "    3:[(4,1)],\n",
        "    4:[(5,1)],\n",
        "    5:[]\n",
        "}\n",
        "dist, prev = dijkstra(g0)\n",
        "print(dist, prev)\n",
        "print(path_to_all(g0, prev))"
      ],
      "metadata": {
        "colab": {
          "base_uri": "https://localhost:8080/"
        },
        "id": "3PARrl9Ym_3k",
        "outputId": "6f42b565-93ca-45c9-cc8e-472547933ea5"
      },
      "execution_count": null,
      "outputs": [
        {
          "output_type": "stream",
          "name": "stdout",
          "text": [
            "[0, 1, 2, 3, 4, 5] [None, 0, 1, 2, 3, 4]\n",
            "[[0], [0, 1], [0, 1, 2], [0, 1, 2, 3], [0, 1, 2, 3, 4], [0, 1, 2, 3, 4, 5]]\n"
          ]
        }
      ]
    },
    {
      "cell_type": "markdown",
      "source": [
        "### PESOS E/OU CICLOS NEGATIVOS"
      ],
      "metadata": {
        "id": "26wpjDI4_16B"
      }
    },
    {
      "cell_type": "markdown",
      "source": [
        "Com lista de arestas:"
      ],
      "metadata": {
        "id": "KsXt8UZRiLri"
      }
    },
    {
      "cell_type": "code",
      "source": [
        "def bellman_ford(V, edges, s=0):\n",
        "  dist = [float('inf')] * V\n",
        "  prev = [None] * V\n",
        "  dist[s] = 0\n",
        "\n",
        "  for _ in range(V - 1):\n",
        "    updated = False\n",
        "    for u, v, w in edges:\n",
        "      if dist[v] > dist[u] + w :\n",
        "        dist[v] = dist[u] + w\n",
        "        prev[v] = u\n",
        "        updated = True\n",
        "    if not updated:\n",
        "      break\n",
        "\n",
        "  for u, v, w in edges:\n",
        "    if dist[v] > dist[u] + w :\n",
        "      return \"NEGATIVE CYCLE DETECTED\"\n",
        "\n",
        "  return dist, prev"
      ],
      "metadata": {
        "id": "pP-EgSXtxGGF"
      },
      "execution_count": null,
      "outputs": []
    },
    {
      "cell_type": "markdown",
      "source": [
        "Com lista de adjacência:"
      ],
      "metadata": {
        "id": "0c5cyKYaiOLo"
      }
    },
    {
      "cell_type": "code",
      "source": [
        "def bellman_ford(adj, s=0):\n",
        "  V = len(adj)\n",
        "  dist = [float('inf')] * V\n",
        "  prev = [None] * V\n",
        "  dist[s] = 0\n",
        "\n",
        "  for _ in range(V - 1): # todo caminho tem V-1 vtxs\n",
        "    updated = False\n",
        "    for u in adj:\n",
        "      for v, w in adj[u]:\n",
        "        if dist[u] + w < dist[v]:\n",
        "          dist[v] = dist[u] + w\n",
        "          prev[v] = u\n",
        "          updated = True\n",
        "    if not updated:\n",
        "      break  # Nenhuma atualização, pode parar\n",
        "\n",
        "  # Checa ciclos negativos\n",
        "  for u in adj:\n",
        "    for v, w in adj[u]:\n",
        "      if dist[u] + w < dist[v]:\n",
        "        return \"NEGATIVE CYCLE DETECTED\"\n",
        "\n",
        "  return dist, prev"
      ],
      "metadata": {
        "id": "D8wh1xOoiP99"
      },
      "execution_count": null,
      "outputs": []
    },
    {
      "cell_type": "code",
      "source": [
        "dist, prev = bellman_ford(g0)\n",
        "print(dist, prev)\n",
        "print(path_to_all(g0, prev))"
      ],
      "metadata": {
        "colab": {
          "base_uri": "https://localhost:8080/"
        },
        "id": "e59Hy3uA8VxV",
        "outputId": "5deafae0-c1bc-4efc-e70f-423813342869"
      },
      "execution_count": null,
      "outputs": [
        {
          "output_type": "stream",
          "name": "stdout",
          "text": [
            "[0, 1, 2, 3, 4, 5] [None, 0, 1, 2, 3, 4]\n",
            "[[0], [0, 1], [0, 1, 2], [0, 1, 2, 3], [0, 1, 2, 3, 4], [0, 1, 2, 3, 4, 5]]\n"
          ]
        }
      ]
    },
    {
      "cell_type": "markdown",
      "source": [
        "## MENORES CAMINHOS ENTRE TODO PAR DE VTX"
      ],
      "metadata": {
        "id": "IM6hlSdi_853"
      }
    },
    {
      "cell_type": "code",
      "source": [
        "def dijkstra_all(adj): # O(|V|log|V|*(|V|+|E|))\n",
        "  dists = []\n",
        "  for s in adj:\n",
        "    dist, _ = dijkstra(adj)\n",
        "    dists.append(dists)\n",
        "  return dists"
      ],
      "metadata": {
        "id": "JgiZl9KUUCHu"
      },
      "execution_count": null,
      "outputs": []
    },
    {
      "cell_type": "markdown",
      "source": [
        "### PESOS E/OU CICLOS NEGATIVOS"
      ],
      "metadata": {
        "id": "ksy834nXhT8l"
      }
    },
    {
      "cell_type": "markdown",
      "source": [
        "Com lista de adjacência:"
      ],
      "metadata": {
        "id": "IwuFn8H2hp7M"
      }
    },
    {
      "cell_type": "code",
      "source": [
        "# CHECA CICLOS NEGATIVOS, BOM PARA ESPARSOS!\n",
        "def johnson(adj): # O(|V|log|V|*(|V|+|E|) + VE)\n",
        "  V = len(adj)\n",
        "  # 1. adicionar no artificial conectado com todos e peso 0.\n",
        "  adj_temp = adj\n",
        "  for u in adj:\n",
        "    adj_temp[V+1].append((u,0))\n",
        "\n",
        "  # 2. encontrar distancia MAIS negativa com bellmanford\n",
        "  dist,_ = bellman_ford(adj)\n",
        "  j = min(dist) # vai ser 0 ou um numero negativo\n",
        "\n",
        "  # 3. atualizar pesos das arestas de acordo com essa distancia\n",
        "  if j < 0:\n",
        "    adj_new = []\n",
        "    for u in adj:\n",
        "      for v, w in adj[u]:\n",
        "        adj_new[u].append((v, w + j))\n",
        "\n",
        "  # 4. lista positiva, posso usar o DIJKSTRA!\n",
        "  dists = []\n",
        "  for s in adj:\n",
        "    dist, _ = dijkstra(adj_new, s)\n",
        "    dists.append(dist)\n",
        "\n",
        "  return dists"
      ],
      "metadata": {
        "id": "9lxyJ8mhegd6"
      },
      "execution_count": null,
      "outputs": []
    },
    {
      "cell_type": "markdown",
      "source": [
        "Com lista de arestas:"
      ],
      "metadata": {
        "id": "MSvWC3aohsz8"
      }
    },
    {
      "cell_type": "code",
      "source": [
        "# NAO CHECA CICLOS NEGATIVOS, BOM PARA DENSOS!\n",
        "def floyd_warshall(V, edges): # O(|V|³)\n",
        "  dists = [[float('inf')] * V for _ in range(V)]\n",
        "  for i in range(V):\n",
        "    dists[i][i] = 0\n",
        "  for u, v, w in edges:\n",
        "      dists[u][v] = w\n",
        "  for k in range(V):\n",
        "    for i in range(V):\n",
        "      for j in range(V):\n",
        "        if dists[i][k] + dists[k][j] < dists[i][j]:\n",
        "          dists[i][j] = dists[i][k] + dists[k][j]\n",
        "\n",
        "  return dists"
      ],
      "metadata": {
        "id": "NfvC04A_KkoX"
      },
      "execution_count": null,
      "outputs": []
    },
    {
      "cell_type": "code",
      "source": [],
      "metadata": {
        "id": "nOrgr1q6h8lx"
      },
      "execution_count": null,
      "outputs": []
    },
    {
      "cell_type": "markdown",
      "source": [
        "## DIAMETRO COM PESOS"
      ],
      "metadata": {
        "id": "KszVNBkQEGxI"
      }
    },
    {
      "cell_type": "code",
      "source": [
        "def diametro_pesos(adj):\n",
        "  diametro = 0\n",
        "  for s in adj:\n",
        "    dist, _ = dijkstra(adj,s)\n",
        "    diametro = max(diametro, max(dist))\n",
        "  return diametro"
      ],
      "metadata": {
        "id": "ugPa6kP_IEm3"
      },
      "execution_count": null,
      "outputs": []
    },
    {
      "cell_type": "markdown",
      "source": [
        "### DIAMETROS COM PESOS NEGATIVOS"
      ],
      "metadata": {
        "id": "scWA8dj-KK5t"
      }
    },
    {
      "cell_type": "code",
      "source": [
        "def diametro_pesos_negativos(V, edges): # sem deteccao de ciclos negativos\n",
        "  if V >= (edges**2)/2: # DENSO\n",
        "    dists = floyd_warshall(V, edges)\n",
        "  else: # ESPARSO\n",
        "    dists = johnson(V, edges)\n",
        "\n",
        "  diametro = 0\n",
        "  for u,v,_ in edges:\n",
        "    diametro = max(diametro, max(dists[u][v]))"
      ],
      "metadata": {
        "id": "ri_miE_tEKmU"
      },
      "execution_count": null,
      "outputs": []
    },
    {
      "cell_type": "markdown",
      "source": [
        "### MENORES CAMINHOS COM PESOS NAS ARESTAS E NOS VÉRTICES\n",
        "\n",
        "Além de W : E -> R, C : V -> R\n",
        "\n",
        "dist[v] = min { dist[v], dist[u] + w(u,v) + c(v) }"
      ],
      "metadata": {
        "id": "bIA7zlU7_Fdu"
      }
    },
    {
      "cell_type": "code",
      "source": [
        "def dijkstra(adj, c, s=0, t=None):\n",
        "  prev = [None]*len(adj) # pra salvar o caminho depois\n",
        "  dist = [float('inf')]*len(adj)\n",
        "  visited = [False]*len(adj)\n",
        "  Q = [(s,0)]\n",
        "  dist[s] = 0\n",
        "  while Q:\n",
        "    u, d = heapq.heappop(Q)\n",
        "    visited[u] = True\n",
        "\n",
        "    if t is not None and u == t: # caso eu tenha um destino\n",
        "      return dist[t], prev[:t]\n",
        "\n",
        "    for v, w in adj[u]:\n",
        "      if dist[v] > d + w:\n",
        "        dist[v] = d + w\n",
        "        heapq.heappush(Q, (v, dist[v]))\n",
        "        prev[v] = u\n",
        "  return dist, prev"
      ],
      "metadata": {
        "id": "3RNsH3Ph_0R2"
      },
      "execution_count": null,
      "outputs": []
    },
    {
      "cell_type": "markdown",
      "source": [
        "## ENCONTRAR CICLO EULERIANO\n",
        "\n",
        "Todas arestas do grafo usadas apenas uma vez, formando um ciclo. Todas arestas com grau par!\n",
        "\n",
        "Nunca tem pontes, toda aresta faz parte de um circulo, removeu uma ainda é conexo!\n",
        "\n",
        "- **Apenas descobrir se existe um ciclo euleriano?** -> TODO GRAU PAR.\n",
        "\n",
        "### Algoritmo de Hierholzer\n",
        "1. Escolha um vtx inicial v. Segue um caminho de arestas até voltar para v.\n",
        "  - Não é possível ficar preso em outro vértice pois os graus pares garantem que há entrada e saída.\n",
        "\n",
        "2. Enquanto existir vtx u pertencente ao tour atual, com arestas adjacentes foira do tour, comece outro caminho a partir de u, e conecte ao ciclo anterior.\n",
        "\n",
        "3. Como o grafo é conexo, repetir o passo anterior irá cobrir TODAS as arestas do grafo."
      ],
      "metadata": {
        "id": "lEAQrGwQW-tX"
      }
    },
    {
      "cell_type": "code",
      "source": [
        "def hierholzer(adj_orig):\n",
        "    # Clona o grafo para não alterar o original\n",
        "    adj = {}\n",
        "    for u in adj_orig:\n",
        "        adj[u] = adj_orig[u][:]\n",
        "\n",
        "    # Encontra um vértice com pelo menos uma aresta\n",
        "    s = None\n",
        "    for v in adj:\n",
        "        if len(adj[v]) > 0:\n",
        "            s = v\n",
        "            break\n",
        "\n",
        "    if inicio is None:\n",
        "        return []\n",
        "\n",
        "    path = []\n",
        "    pilha = [inicio]\n",
        "\n",
        "    while pilha:\n",
        "        u = pilha[-1]\n",
        "        if adj[u]:\n",
        "            v = adj[u].pop()\n",
        "            adj[v].remove(u)  # Remove a aresta dos dois lados\n",
        "            pilha.append(v)\n",
        "        else:\n",
        "            path.append(pilha.pop())\n",
        "\n",
        "    path.reverse()\n",
        "    return path"
      ],
      "metadata": {
        "id": "bqtc4p8XW-HX"
      },
      "execution_count": null,
      "outputs": []
    },
    {
      "cell_type": "markdown",
      "source": [
        "## ENCONTRAR CICLO HAMILTONIANO\n",
        "Programação Dinâmica! Held Karp."
      ],
      "metadata": {
        "id": "lOX7KzbBXIMb"
      }
    },
    {
      "cell_type": "code",
      "source": [
        "from itertools import combinations\n",
        "\n",
        "# using frozenset, immutable set\n",
        "\n",
        "def held_karp(dists):\n",
        "    n = len(dists)\n",
        "    C = {}\n",
        "\n",
        "    # Base cases\n",
        "    for k in range(1, n):\n",
        "        C[(frozenset([k]), k)] = (dists[0][k], [0, k])\n",
        "\n",
        "    # Fill the DP table\n",
        "    for s in range(2, n):\n",
        "        for subset in combinations(range(1, n), s):\n",
        "            S = frozenset(subset)\n",
        "            for j in S:\n",
        "                prev_set = S - {j}\n",
        "                C[(S, j)] = min(\n",
        "                    (C[(prev_set, k)][0] + dists[k][j], C[(prev_set, k)][1] + [j])\n",
        "                    for k in prev_set\n",
        "                )\n",
        "\n",
        "    # Final step: return to start\n",
        "    full_set = frozenset(range(1, n))\n",
        "    min_cost, min_path = min(\n",
        "        (C[(full_set, j)][0] + dists[j][0], C[(full_set, j)][1] + [0])\n",
        "        for j in range(1, n)\n",
        "    )\n",
        "\n",
        "    return min_cost, min_path"
      ],
      "metadata": {
        "id": "wY1xNssE5_qc"
      },
      "execution_count": null,
      "outputs": []
    },
    {
      "cell_type": "code",
      "source": [
        "def held_karp(dist):\n",
        "    n = len(dist)\n",
        "    dp = [[float('inf')] * n for _ in range(1 << n)]\n",
        "    parent = [[-1] * n for _ in range(1 << n)]\n",
        "\n",
        "    # Base case: start at node 0, cost is 0\n",
        "    dp[1][0] = 0\n",
        "\n",
        "    # Fill DP table\n",
        "    for mask in range(1 << n):\n",
        "        for u in range(n):\n",
        "            if not (mask & (1 << u)):\n",
        "                continue\n",
        "            for v in range(n):\n",
        "                if mask & (1 << v) or u == v:\n",
        "                    continue\n",
        "                new_mask = mask | (1 << v)\n",
        "                new_cost = dp[mask][u] + dist[u][v]\n",
        "                if new_cost < dp[new_mask][v]:\n",
        "                    dp[new_mask][v] = new_cost\n",
        "                    parent[new_mask][v] = u\n",
        "\n",
        "    # Find minimum cost to return to starting city\n",
        "    full_mask = (1 << n) - 1\n",
        "    min_cost = float('inf')\n",
        "    last = -1\n",
        "    for u in range(1, n):\n",
        "        cost = dp[full_mask][u] + dist[u][0]\n",
        "        if cost < min_cost:\n",
        "            min_cost = cost\n",
        "            last = u\n",
        "\n",
        "    # Reconstruct path\n",
        "    path = []\n",
        "    mask = full_mask\n",
        "    while last != -1:\n",
        "        path.append(last)\n",
        "        temp = parent[mask][last]\n",
        "        mask = mask ^ (1 << last)\n",
        "        last = temp\n",
        "    path.append(0)\n",
        "    path.reverse()\n",
        "\n",
        "    return min_cost, path"
      ],
      "metadata": {
        "id": "00XHqFEF56C-"
      },
      "execution_count": null,
      "outputs": []
    },
    {
      "cell_type": "markdown",
      "source": [
        "## ARVORE GERADORA MINIMA\n",
        "subárvore que conecta todos os vértices com o menor custo total possível (soma dos pesos das arestas)."
      ],
      "metadata": {
        "id": "ackrnHAKYL2h"
      }
    },
    {
      "cell_type": "markdown",
      "source": [
        "### KRUSKAL\n",
        "1. Ordena todas as arestas por peso crescente.\n",
        "\n",
        "2. Adiciona as arestas uma a uma, desde que não forme ciclo.\n",
        "\n",
        "3. Usa estrutura de dados Union-Find (Disjoint Set) para verificar ciclos.\n",
        "\n",
        "Complexidade: O(E log E), onde E é número de arestas."
      ],
      "metadata": {
        "id": "5KavcBm2BnQi"
      }
    },
    {
      "cell_type": "code",
      "source": [
        "def find(prev, x):\n",
        "    while prev[x] != x:\n",
        "        prev[x] = prev[prev[x]] # path compression (halving)\n",
        "        x = prev[x]\n",
        "    return x\n",
        "\n",
        "def union(prev, rank, x, y):\n",
        "    rx = find(prev, x)\n",
        "    ry = find(prev, y)\n",
        "    if rx == ry:\n",
        "        return False\n",
        "    if rank[rx] < rank[ry]:\n",
        "        prev[rx] = ry\n",
        "    elif rank[ry] < rank[rx]:\n",
        "        prev[ry] = rx\n",
        "    else:\n",
        "        prev[ry] = rx\n",
        "        rank[rx] += 1\n",
        "    return True\n",
        "\n",
        "def kruskal(V, E):\n",
        "    prev = list(range(V))\n",
        "    rank = [0] * V\n",
        "    E.sort(key=lambda x: x[2]) # ordenar pelo peso\n",
        "    total = 0\n",
        "    mst = []\n",
        "\n",
        "    for u, v, w in E:\n",
        "      if union(prev, rank, u, v):\n",
        "        total += w\n",
        "        mst.append((u, v, w))\n",
        "\n",
        "    return total, mst"
      ],
      "metadata": {
        "id": "cXGIAvxjBzoi"
      },
      "execution_count": null,
      "outputs": []
    },
    {
      "cell_type": "markdown",
      "source": [
        "### PRIM\n",
        "1. Começa com um vértice qualquer.\n",
        "\n",
        "2. Vai adicionando arestas de menor peso que conectem um vértice já na árvore a um vértice fora dela.\n",
        "\n",
        "3. Usa uma fila de prioridade (heap) para pegar a próxima aresta mínima.\n",
        "\n",
        "Complexidade: O(E log V), com V vértices."
      ],
      "metadata": {
        "id": "TGMmpHAjBuNm"
      }
    },
    {
      "cell_type": "code",
      "source": [
        "import heapq\n",
        "\n",
        "def prim(adj, start=0):\n",
        "    V = len(adj)\n",
        "    visited = [False] * V\n",
        "    min_heap = [(0, start)]  # peso, vtx\n",
        "    total = 0\n",
        "    mst = []\n",
        "\n",
        "    while min_heap and len(mst) < V - 1:\n",
        "        wu, u = heapq.heappop(min_heap)\n",
        "        if visited[u]:\n",
        "            continue\n",
        "        visited[u] = True\n",
        "        total += wu\n",
        "\n",
        "        for v, wv in adj[u]:\n",
        "            if not visited[v]:\n",
        "                heapq.heappush(min_heap, (wv, v))\n",
        "\n",
        "        # so pra nao adicionar a primeira\n",
        "        if wu != 0:\n",
        "            mst.append((u, wu))\n",
        "\n",
        "    return total, mst"
      ],
      "metadata": {
        "id": "lVFRBK9QCA1b"
      },
      "execution_count": null,
      "outputs": []
    },
    {
      "cell_type": "markdown",
      "source": [
        "RESUMO:\n",
        "\n",
        "Kruskal O(E log E) bom pra esparsos\n",
        "- Quando o grafo não é necessariamente conectado — Kruskal ainda encontra a árvore geradora mínima para cada componente (floresta mínima).\n",
        "- Quando as arestas já estão dadas como entrada e você precisa de uma estrutura mais simples (Union-Find).\n",
        "\n",
        "PRIM O(V log E) bom pra densos\n",
        "- Quando o grafo está representado como lista de adjacência e você quer eficiência.\n",
        "- Quando importa o ponto de partida (começa em um vértice específico).\n"
      ],
      "metadata": {
        "id": "LqU-1K_RCMVx"
      }
    },
    {
      "cell_type": "markdown",
      "source": [
        "## FLUXO\n",
        "Resolvem problemas onde queremos transportar algo de um ponto a outro em um grafo com restrições de capacidade (peso).\n",
        "\n",
        "- FORD FULKERSON (ideia principal)\n",
        "  - Enquanto existir **caminho aumentante** de s pra t no **grafo residual**, aumenta o fluxo pelo **gargalo**.\n",
        "  - T(n) = O(|V|*maxflow)\n",
        "- EDMONDS KARP (implementacao com BFS)\n",
        "  - Encontra os caminhos aumentantes mínimos, pode otimizar! Esses caminhos costumam aumentar o fluxo em + de 1 unidade.\n",
        "  - T(n) = O(|V||E|²)"
      ],
      "metadata": {
        "id": "airsIZP1ldlk"
      }
    },
    {
      "cell_type": "code",
      "source": [
        "def dfs(adj, cap, u, t, visited, path):\n",
        "    if u == t:\n",
        "        return True\n",
        "    visited[u] = True\n",
        "    for v in adj[u]:\n",
        "        if not visited[v] and cap[u][v] > 0:\n",
        "            path.append((u, v))\n",
        "            if dfs(adj, cap, v, t, visited, path):\n",
        "                return True\n",
        "            path.pop()  # backtrack\n",
        "    return False\n",
        "\n",
        "def ford_fulkerson(adj, cap, s, t):\n",
        "    V = len(cap)\n",
        "    max_flow = 0\n",
        "\n",
        "    while True:\n",
        "        visited = [False] * V\n",
        "        path = []\n",
        "        if not dfs(adj, cap, s, t, visited, path):\n",
        "            break\n",
        "\n",
        "        # Gargalo: capacidade mínima nas arestas do caminho\n",
        "        flow = min(cap[u][v] for u, v in path)\n",
        "\n",
        "        # Atualiza capacidades residuais\n",
        "        for u, v in path:\n",
        "            cap[u][v] -= flow\n",
        "            cap[v][u] += flow\n",
        "\n",
        "        max_flow += flow\n",
        "\n",
        "    return max_flow"
      ],
      "metadata": {
        "id": "GShOn9ccU9eI"
      },
      "execution_count": null,
      "outputs": []
    },
    {
      "cell_type": "code",
      "source": [
        "from collections import deque\n",
        "\n",
        "def bfs(adj, cap, s, t):\n",
        "    n = len(cap)\n",
        "    visited = [False] * n\n",
        "    parent = [-1] * n\n",
        "    q = deque()\n",
        "    q.append(s)\n",
        "    visited[s] = True\n",
        "\n",
        "    while q:\n",
        "        u = q.popleft()\n",
        "        for v in adj[u]:\n",
        "            if not visited[v] and cap[u][v] > 0:\n",
        "                visited[v] = True\n",
        "                parent[v] = u\n",
        "                if v == t:\n",
        "                    # reconstruir caminho como lista de arestas\n",
        "                    path = []\n",
        "                    cur = t\n",
        "                    while cur != s:\n",
        "                        path.append((parent[cur], cur))\n",
        "                        cur = parent[cur]\n",
        "                    path.reverse()\n",
        "                    return path\n",
        "                q.append(v)\n",
        "    return None\n",
        "\n",
        "def edmonds_karp(adj, cap, s, t):\n",
        "    max_flow = 0\n",
        "    while True:\n",
        "        path = bfs(adj, cap, s, t)\n",
        "        if not path:\n",
        "            break\n",
        "        flow = min(cap[u][v] for u, v in path)\n",
        "        for u, v in path:\n",
        "            cap[u][v] -= flow\n",
        "            cap[v][u] += flow\n",
        "        max_flow += flow\n",
        "    return max_flow"
      ],
      "metadata": {
        "id": "5EtEty-Is2Pc"
      },
      "execution_count": null,
      "outputs": []
    },
    {
      "cell_type": "markdown",
      "source": [
        "## MATCHING\n",
        "Um matching em um grafo é um conjunto de arestas sem vértices em comum.\n",
        "\n",
        "Ou seja, são pares \"não sobrepostos\".\n",
        "\n",
        "Exemplo: em um grafo bipartido, matching corresponde a “casar” elementos do lado esquerdo com do lado direito, sem repetir vértices.\n",
        "\n",
        "- Maximum Matching (Matching Máximo): maior conjunto de arestas possíveis.\n",
        "\n",
        "- Maximum Cardinality Bipartite Matching: maior matching em grafos bipartidos.\n",
        "\n",
        "- Maximum Weighted Matching: matching com soma máxima de pesos (em grafos ponderados)."
      ],
      "metadata": {
        "id": "0iyL8pZdFy2n"
      }
    },
    {
      "cell_type": "markdown",
      "source": [
        "### EMPARELHAR PERFEITAMENTE UMA ÁRVORE\n",
        "\n",
        "Toda árvore é um Grafo Bipartido. Se tiver quantidade par de vértices, pode ser emparelhada perfeitamente. Em tempo Linear!"
      ],
      "metadata": {
        "id": "WKxcSdBuQieG"
      }
    },
    {
      "cell_type": "code",
      "source": [
        "def tree_perfect_matching(tree_adj):\n",
        "    V = len(tree_adj)\n",
        "    if V % 2 != 0:\n",
        "      return None # qt impar de vtx\n",
        "\n",
        "    visited = [False] * V\n",
        "    M = [] # matching\n",
        "\n",
        "    def dfs(u, prev):\n",
        "        visited[u] = True\n",
        "        leaf_childs = 0\n",
        "        for v in tree_adj[u]:\n",
        "          if not visited[v]:\n",
        "            dfs(v, u)\n",
        "            if len(tree_adj[v]) == 1: # verifica se é folha\n",
        "              leaf_childs += 1\n",
        "            else:\n",
        "              M.append((u, v))\n",
        "\n",
        "        if child_leaves > 1: # se tiver mais de uma folha como filho\n",
        "          return None\n",
        "\n",
        "    dfs(0,None)\n",
        "    if len(M) == V // 2:\n",
        "      return M\n",
        "\n",
        "    return None"
      ],
      "metadata": {
        "id": "lYGc7rvOQza7"
      },
      "execution_count": null,
      "outputs": []
    },
    {
      "cell_type": "markdown",
      "source": [
        "### EMPARELHAR PERFEITAMENTE GRAFO BIPARTIDO\n",
        "\n",
        "Nem todo Grafo Bipartido com número par de vértices tem Emparelhamento Perfeito.\n",
        "\n",
        "É Preciso seguir o Teorema de Hall."
      ],
      "metadata": {
        "id": "yo7P7e1Kr-S9"
      }
    },
    {
      "cell_type": "markdown",
      "source": [
        "### EMPARELHAMENTO MÁXIMO BIPARTIDO\n",
        "\n",
        "- Posso fazer via FORD FULKERSON:\n",
        "  - Adicionar s (super source) e t (super sink). Ligar s a todos vtx em S, e t a todos vtx em T. Todas as ligações com capacidade 1. O fluxo máximo será meu emparelhamento.\n",
        "\n",
        "- Posso fazer via HOPCROFT KARP:\n",
        "  - Busca vários caminhos aumentantes ao mesmo tempo."
      ],
      "metadata": {
        "id": "XRMrJCbIuCDt"
      }
    },
    {
      "cell_type": "code",
      "source": [
        "def bipartite_flow_graph(L, R, edges):\n",
        "    V = len(L) + len(R) + 2  # vértices U + V + fonte + sorvedouro\n",
        "    s = V - 2\n",
        "    t = V - 1\n",
        "\n",
        "    adj = [[] for _ in range(V)]\n",
        "    cap = [[0] * V for _ in range(V)]\n",
        "\n",
        "    # s -> L\n",
        "    for i, u in enumerate(L):\n",
        "        ui = i\n",
        "        adj[s].append(ui)\n",
        "        adj[ui].append(s)\n",
        "        cap[s][ui] = 1\n",
        "\n",
        "    # R -> t\n",
        "    for j, v in enumerate(R):\n",
        "        vj = len(L) + j\n",
        "        adj[vj].append(t)\n",
        "        adj[t].append(vj)\n",
        "        cap[vj][t] = 1\n",
        "\n",
        "    # U <-> V (arestas do grafo bipartido)\n",
        "    for (u_idx, v_idx) in edges:\n",
        "        ui = u_idx\n",
        "        vj = len(L) + v_idx\n",
        "        adj[ui].append(vj)\n",
        "        adj[vj].append(ui)\n",
        "        cap[ui][vj] = 1  # cap. 1 entre vértices do bipartido\n",
        "\n",
        "    return adj, cap, s, t"
      ],
      "metadata": {
        "id": "hr8xyt0_t_oc"
      },
      "execution_count": null,
      "outputs": []
    },
    {
      "cell_type": "code",
      "source": [
        "def edmonds_karp_matching(adj, cap, s, t, L, R):\n",
        "    V = len(cap)\n",
        "    max_flow = 0\n",
        "    matching = []\n",
        "\n",
        "    while True:\n",
        "        path = bfs(adj, cap, s, t)\n",
        "        if not path:\n",
        "            break\n",
        "        flow = min(cap[u][v] for u, v in path)\n",
        "        for u, v in path:\n",
        "            cap[u][v] -= flow\n",
        "            cap[v][u] += flow\n",
        "        max_flow += flow\n",
        "\n",
        "    # Extrair os pares do matching\n",
        "    for u in range(num_U):  # só vértices em U\n",
        "        for v in adj[u]:\n",
        "            if L <= v < L + R and cap[v][u] == 1:\n",
        "                matching.append((u, v - L))  # v - L → índice relativo de V\n",
        "\n",
        "    return max_flow, matching"
      ],
      "metadata": {
        "id": "6iARTQ6wwsEZ"
      },
      "execution_count": null,
      "outputs": []
    },
    {
      "cell_type": "code",
      "source": [
        "from collections import deque\n",
        "\n",
        "def hopcroft_karp(L, R, edges):\n",
        "    l, r = len(L), len(R)\n",
        "    adj = [[] for _ in range(l)]\n",
        "\n",
        "    for u, v in edges:\n",
        "        adj[u].append(v)\n",
        "\n",
        "    pair_u = [None] * l  # u → v\n",
        "    pair_v = [None] * r  # v → u\n",
        "    dist = [0] * l\n",
        "\n",
        "    def bfs():\n",
        "        queue = deque()\n",
        "        for u in range(n):\n",
        "            if pair_u[u] == None:\n",
        "                dist[u] = 0\n",
        "                queue.append(u)\n",
        "            else:\n",
        "                dist[u] = float('inf')\n",
        "\n",
        "        found = False\n",
        "        while queue:\n",
        "            u = queue.popleft()\n",
        "            for v in adj[u]:\n",
        "                pu = pair_v[v]\n",
        "                if pu != None and dist[pu] == float('inf'):\n",
        "                    dist[pu] = dist[u] + 1\n",
        "                    queue.append(pu)\n",
        "                elif pu == None:\n",
        "                    found = True\n",
        "        return found\n",
        "\n",
        "    def dfs(u):\n",
        "        for v in adj[u]:\n",
        "            pu = pair_v[v]\n",
        "            if pu == None or (dist[pu] == dist[u] + 1 and dfs(pu)):\n",
        "                pair_u[u] = v\n",
        "                pair_v[v] = u\n",
        "                return True\n",
        "        dist[u] = float('inf')\n",
        "        return False\n",
        "\n",
        "    matching = 0\n",
        "    while bfs():\n",
        "        for u in range(l):\n",
        "            if pair_u[u] == None and dfs(u):\n",
        "                matching += 1\n",
        "\n",
        "    match_pairs = [(u, pair_u[u]) for u in range(n) if pair_u[u] != -1]\n",
        "    return matching, match_pairs"
      ],
      "metadata": {
        "id": "G9gUFqMMxMkx"
      },
      "execution_count": null,
      "outputs": []
    },
    {
      "cell_type": "markdown",
      "source": [
        "### EMPARELHAMENTO MÁXIMO COM PESOS BIPARTIDO\n",
        "Problema da designação ! (Reduzir o Custo)"
      ],
      "metadata": {
        "id": "uy1i0c5lyybL"
      }
    },
    {
      "cell_type": "code",
      "source": [
        "\n",
        "def hungarian_algorithm(cost_matrix):\n",
        "    n = len(cost_matrix)\n",
        "    u_labels = [0] * (n + 1)        # Potenciais das linhas\n",
        "    v_labels = [0] * (n + 1)        # Potenciais das colunas\n",
        "    match_col = [0] * (n + 1)       # match_col[j] = linha atribuída à coluna j\n",
        "    prev_col = [0] * (n + 1)        # caminho anterior para reconstrução\n",
        "\n",
        "    for current_row in range(1, n + 1):\n",
        "        match_col[0] = current_row\n",
        "        min_slack = [float('inf')] * (n + 1)\n",
        "        visited = [False] * (n + 1)\n",
        "        parent = [0] * (n + 1)\n",
        "        col = 0\n",
        "\n",
        "        while True:\n",
        "            visited[col] = True\n",
        "            row = match_col[col]\n",
        "            delta = float('inf')\n",
        "            next_col = -1\n",
        "\n",
        "            for j in range(1, n + 1):\n",
        "                if not visited[j]:\n",
        "                    slack = cost_matrix[row - 1][j - 1] - u_labels[row] - v_labels[j]\n",
        "                    if slack < min_slack[j]:\n",
        "                        min_slack[j] = slack\n",
        "                        parent[j] = col\n",
        "                    if min_slack[j] < delta:\n",
        "                        delta = min_slack[j]\n",
        "                        next_col = j\n",
        "\n",
        "            for j in range(n + 1):\n",
        "                if visited[j]:\n",
        "                    u_labels[match_col[j]] += delta\n",
        "                    v_labels[j] -= delta\n",
        "                else:\n",
        "                    min_slack[j] -= delta\n",
        "\n",
        "            col = next_col\n",
        "            if match_col[col] == 0:\n",
        "                break\n",
        "\n",
        "        # Reconstrói o caminho aumentante\n",
        "        while True:\n",
        "            prev = parent[col]\n",
        "            match_col[col] = match_col[prev]\n",
        "            col = prev\n",
        "            if col == 0:\n",
        "                break\n",
        "\n",
        "    # Construção do resultado final\n",
        "    assignment = [-1] * n  # assignment[i] = j significa linha i → coluna j\n",
        "    for j in range(1, n + 1):\n",
        "        if match_col[j] != 0:\n",
        "            assignment[match_col[j] - 1] = j - 1\n",
        "\n",
        "    total_cost = -v_labels[0]\n",
        "    return total_cost, assignment"
      ],
      "metadata": {
        "id": "yGySqij7y9of"
      },
      "execution_count": null,
      "outputs": []
    }
  ]
}