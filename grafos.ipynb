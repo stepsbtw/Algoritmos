{
  "nbformat": 4,
  "nbformat_minor": 0,
  "metadata": {
    "colab": {
      "provenance": [],
      "authorship_tag": "ABX9TyOGGgpMy0ht61wF7/tS16JX",
      "include_colab_link": true
    },
    "kernelspec": {
      "name": "python3",
      "display_name": "Python 3"
    },
    "language_info": {
      "name": "python"
    }
  },
  "cells": [
    {
      "cell_type": "markdown",
      "metadata": {
        "id": "view-in-github",
        "colab_type": "text"
      },
      "source": [
        "<a href=\"https://colab.research.google.com/github/stepsbtw/Algoritmos/blob/main/grafos.ipynb\" target=\"_parent\"><img src=\"https://colab.research.google.com/assets/colab-badge.svg\" alt=\"Open In Colab\"/></a>"
      ]
    },
    {
      "cell_type": "code",
      "source": [
        "def adj_list(edges, directed=True):\n",
        "    adj = {}\n",
        "    for u, v in edges:\n",
        "        if u not in adj:\n",
        "            adj[u] = []\n",
        "        if v not in adj:\n",
        "            adj[v] = []\n",
        "        adj[u].append(v)\n",
        "        if not directed:\n",
        "          adj[v].append(u)\n",
        "    return adj\n",
        "\n",
        "def node_list(edges):\n",
        "  nodes = []\n",
        "  for u, v in edges:\n",
        "    if u not in nodes:\n",
        "      nodes.append(u)\n",
        "    if v not in nodes:\n",
        "      nodes.append(v)\n",
        "  return nodes\n",
        "\n",
        "def adj_matrix(nodes, edges, directed=True):\n",
        "    node_index = {node: i for i, node in enumerate(nodes)}\n",
        "    adj = {node: [0] * len(nodes) for node in nodes}\n",
        "    for u, v in edges:\n",
        "        adj[u][node_index[v]] = 1\n",
        "        if not directed:\n",
        "          adj[node_index[v]][u] = 1\n",
        "    return adj\n",
        "\n",
        "class G:\n",
        "    def __init__(self, nodes, edges):\n",
        "       self.nodes = nodes\n",
        "       self.edges = edges\n",
        "       self.adj = adj_list(edges)\n",
        "       self.adj_m = adj_matrix(nodes,edges)\n",
        "       self.adj_un = adj_list(edges, directed=False)\n",
        "       self.adj_m_un = adj_matrix(nodes,edges, directed=False)"
      ],
      "metadata": {
        "id": "QB4ecHEtsjY8"
      },
      "execution_count": null,
      "outputs": []
    },
    {
      "cell_type": "code",
      "source": [
        "nodes = (\"s\",\"a\",\"b\",\"c\",\"d\",\"t\")\n",
        "edges = [\n",
        "(\"s\",\"a\"),(\"s\",\"b\"),(\"b\",\"c\"),\n",
        "(\"a\",\"d\"),(\"d\",\"t\"),(\"c\",\"t\"),\n",
        "(\"a\",\"b\"),(\"b\",\"a\")\n",
        "]\n",
        "\n",
        "g1 = G(nodes,edges)\n",
        "\n",
        "nodes = range(6)\n",
        "\n",
        "edges = [\n",
        "(0,1),(0,2),(2,3),\n",
        "(1,4),(4,5),(3,5),\n",
        "(1,2),(2,1)\n",
        "]\n",
        "\n",
        "g2 = G(nodes, edges)"
      ],
      "metadata": {
        "id": "XdUFKeopynYE"
      },
      "execution_count": null,
      "outputs": []
    },
    {
      "cell_type": "markdown",
      "source": [
        "## CONECTIVIDADE, PRE E POST"
      ],
      "metadata": {
        "id": "T0fp3KNUh-3k"
      }
    },
    {
      "cell_type": "code",
      "source": [
        "def dfs(adj, s=0, visited={}, pre=[],post=[]):\n",
        "    visited.add(s)\n",
        "    pre.append(s)\n",
        "\n",
        "    for v in adj[s]:\n",
        "      if v not in visited:\n",
        "        dfs(adj, v, visited, pre, post)\n",
        "\n",
        "    post.append(s)\n",
        "    return pre, post\n",
        "\n",
        "def dfs_iter(adj, s=0):\n",
        "    visited = set()\n",
        "    stack = [(s, False)]\n",
        "    pre, post = [], []\n",
        "    pre_n, post_n = {}, {}\n",
        "    i=-1\n",
        "    j=-1\n",
        "\n",
        "    while stack:\n",
        "      u, explored = stack.pop()\n",
        "      if explored:\n",
        "        j+=1\n",
        "        post.append(u)\n",
        "        post_n[u] = j\n",
        "\n",
        "      elif u not in visited:\n",
        "        i+=1\n",
        "        visited.add(u)\n",
        "        pre.append(u)\n",
        "        pre_n[u] = i\n",
        "        stack.append((u, True))  # pós-visita (pós-ordem)\n",
        "\n",
        "        for v in reversed(adj[u]):\n",
        "          if v not in visited:\n",
        "            stack.append((v, False))  # pré-visita\n",
        "\n",
        "    return pre, post, pre_n, post_n"
      ],
      "metadata": {
        "id": "dii7ClSzsmrm"
      },
      "execution_count": null,
      "outputs": []
    },
    {
      "cell_type": "code",
      "source": [
        "pre, post, pre_n, post_n = dfs_iter(g2.adj, 0)\n",
        "print(pre)\n",
        "print(post)\n",
        "print(pre_n)\n",
        "print(post_n)\n",
        "\n",
        "pre, post, pre_n, post_n = dfs_iter(g1.adj, \"s\")\n",
        "print(pre)\n",
        "print(post)\n",
        "print(pre_n)\n",
        "print(post_n)"
      ],
      "metadata": {
        "colab": {
          "base_uri": "https://localhost:8080/"
        },
        "id": "NNosOpMDzDlS",
        "outputId": "73312d69-1bc5-4427-cebf-8f5d831f4326"
      },
      "execution_count": null,
      "outputs": [
        {
          "output_type": "stream",
          "name": "stdout",
          "text": [
            "[0, 1, 4, 5, 2, 3]\n",
            "[5, 4, 3, 2, 1, 0]\n",
            "{0: 0, 1: 1, 4: 2, 5: 3, 2: 4, 3: 5}\n",
            "{5: 0, 4: 1, 3: 2, 2: 3, 1: 4, 0: 5}\n",
            "['s', 'a', 'd', 't', 'b', 'c']\n",
            "['t', 'd', 'c', 'b', 'a', 's']\n",
            "{'s': 0, 'a': 1, 'd': 2, 't': 3, 'b': 4, 'c': 5}\n",
            "{'t': 0, 'd': 1, 'c': 2, 'b': 3, 'a': 4, 's': 5}\n"
          ]
        }
      ]
    },
    {
      "cell_type": "markdown",
      "source": [
        "## TOPOLOGICAL SORT:\n",
        "ordenar pelo post number de forma decrescente\n",
        "(só reverter a lista post order)"
      ],
      "metadata": {
        "id": "M65ftuLPiSQa"
      }
    },
    {
      "cell_type": "code",
      "source": [
        "def topological_sort(adj):\n",
        "  pre, post, pre_n, post_n = dfs(adj)\n",
        "  return reversed(post)"
      ],
      "metadata": {
        "id": "eC5BwB5Eiajd"
      },
      "execution_count": null,
      "outputs": []
    },
    {
      "cell_type": "markdown",
      "source": [
        "## REVERTER O GRAFO"
      ],
      "metadata": {
        "id": "Io9B-Xg1h7Yt"
      }
    },
    {
      "cell_type": "code",
      "source": [
        "def transpose_matrix(adj):\n",
        "  adj_t = {node: [0]*len(adj) for node in adj}\n",
        "\n",
        "  for i in range(len(adj)):\n",
        "    for j in range(len(adj)):\n",
        "      adj_t[i][j] = adj[j][i]\n",
        "\n",
        "  return adj_t\n",
        "\n",
        "def transpose_matrix(adj, nodes): # if string nodes\n",
        "    #nodes = list(adj.keys())\n",
        "    n = len(nodes)\n",
        "    adj_t = {node: [0] * n for node in nodes}\n",
        "\n",
        "    for i, u in enumerate(nodes):\n",
        "        for j, v in enumerate(nodes):\n",
        "            adj_t[v][i] = adj[u][j]\n",
        "\n",
        "    return adj_t"
      ],
      "metadata": {
        "id": "oCeA_H_Ds0A3"
      },
      "execution_count": 17,
      "outputs": []
    },
    {
      "cell_type": "code",
      "source": [
        "g2.adj_m, g1.adj_m"
      ],
      "metadata": {
        "colab": {
          "base_uri": "https://localhost:8080/"
        },
        "id": "m_1_Wvx-1o_y",
        "outputId": "4a3e9a9b-214f-4358-9fc9-4f568094e810"
      },
      "execution_count": null,
      "outputs": [
        {
          "output_type": "execute_result",
          "data": {
            "text/plain": [
              "({0: [0, 1, 1, 0, 0, 0],\n",
              "  1: [0, 0, 1, 0, 1, 0],\n",
              "  2: [0, 1, 0, 1, 0, 0],\n",
              "  3: [0, 0, 0, 0, 0, 1],\n",
              "  4: [0, 0, 0, 0, 0, 1],\n",
              "  5: [0, 0, 0, 0, 0, 0]},\n",
              " {'s': [0, 1, 1, 0, 0, 0],\n",
              "  'a': [0, 0, 1, 0, 1, 0],\n",
              "  'b': [0, 1, 0, 1, 0, 0],\n",
              "  'c': [0, 0, 0, 0, 0, 1],\n",
              "  'd': [0, 0, 0, 0, 0, 1],\n",
              "  't': [0, 0, 0, 0, 0, 0]})"
            ]
          },
          "metadata": {},
          "execution_count": 12
        }
      ]
    },
    {
      "cell_type": "code",
      "source": [
        "transpose_matrix(g2.adj_m), transpose_matrix(g1.adj_m)"
      ],
      "metadata": {
        "colab": {
          "base_uri": "https://localhost:8080/"
        },
        "id": "bvMU9u27tXLR",
        "outputId": "364f497c-d4ec-451a-b5ca-60f618714aa7"
      },
      "execution_count": null,
      "outputs": [
        {
          "output_type": "execute_result",
          "data": {
            "text/plain": [
              "({0: [0, 0, 0, 0, 0, 0],\n",
              "  1: [1, 0, 1, 0, 0, 0],\n",
              "  2: [1, 1, 0, 0, 0, 0],\n",
              "  3: [0, 0, 1, 0, 0, 0],\n",
              "  4: [0, 1, 0, 0, 0, 0],\n",
              "  5: [0, 0, 0, 1, 1, 0]},\n",
              " {'s': [0, 0, 0, 0, 0, 0],\n",
              "  'a': [1, 0, 1, 0, 0, 0],\n",
              "  'b': [1, 1, 0, 0, 0, 0],\n",
              "  'c': [0, 0, 1, 0, 0, 0],\n",
              "  'd': [0, 1, 0, 0, 0, 0],\n",
              "  't': [0, 0, 0, 1, 1, 0]})"
            ]
          },
          "metadata": {},
          "execution_count": 14
        }
      ]
    },
    {
      "cell_type": "code",
      "source": [
        "g2.adj, g1.adj"
      ],
      "metadata": {
        "colab": {
          "base_uri": "https://localhost:8080/"
        },
        "id": "z6z2nAXGtJl7",
        "outputId": "30ba38fa-04e5-4be3-8394-51c4bb0e4808"
      },
      "execution_count": null,
      "outputs": [
        {
          "output_type": "execute_result",
          "data": {
            "text/plain": [
              "({0: [1, 2], 1: [4, 2], 2: [3, 1], 3: [5], 4: [5], 5: []},\n",
              " {'s': ['a', 'b'],\n",
              "  'a': ['d', 'b'],\n",
              "  'b': ['c', 'a'],\n",
              "  'c': ['t'],\n",
              "  'd': ['t'],\n",
              "  't': []})"
            ]
          },
          "metadata": {},
          "execution_count": 15
        }
      ]
    },
    {
      "cell_type": "code",
      "source": [
        "def reverse(adj):\n",
        "  adj_r = {node: [] for node in adj}\n",
        "  for u in adj:\n",
        "    for v in adj[u]:\n",
        "      adj_r[v].append(u)\n",
        "  return adj_r"
      ],
      "metadata": {
        "id": "sx-E_SZH73w1"
      },
      "execution_count": null,
      "outputs": []
    },
    {
      "cell_type": "code",
      "source": [
        "reverse(g2.adj)"
      ],
      "metadata": {
        "colab": {
          "base_uri": "https://localhost:8080/"
        },
        "id": "sKQzaO5C4k61",
        "outputId": "0711260a-4703-49fc-c49e-577cc2181e8c"
      },
      "execution_count": null,
      "outputs": [
        {
          "output_type": "execute_result",
          "data": {
            "text/plain": [
              "{0: [], 1: [0, 2], 2: [0, 1], 3: [2], 4: [1], 5: [3, 4]}"
            ]
          },
          "metadata": {},
          "execution_count": 17
        }
      ]
    },
    {
      "cell_type": "markdown",
      "source": [
        "### GRAFO BIPARTIDO"
      ],
      "metadata": {
        "id": "zrI-WIumh1cQ"
      }
    },
    {
      "cell_type": "code",
      "source": [
        "# checar se o grafo NAO DIRECIONADO é bipartido\n",
        "# checar se com a atual configuracao de arestas\n",
        "# tenho dois conjuntos disjuntos de nos\n",
        "g2.adj_un"
      ],
      "metadata": {
        "colab": {
          "base_uri": "https://localhost:8080/"
        },
        "id": "5piI3Havqc3I",
        "outputId": "c8057425-cb6d-437b-a055-724611b863c8"
      },
      "execution_count": null,
      "outputs": [
        {
          "output_type": "execute_result",
          "data": {
            "text/plain": [
              "{0: [1, 2], 1: [0, 4, 2, 2], 2: [0, 3, 1, 1], 3: [2, 5], 4: [1, 5], 5: [4, 3]}"
            ]
          },
          "metadata": {},
          "execution_count": 18
        }
      ]
    },
    {
      "cell_type": "code",
      "source": [
        "# problema de coloração 2 cores\n",
        "# adjacentes precisam ter cores diferentes\n",
        "# se tem aresta, cor diferente\n",
        "\n",
        "def dfs_label(u,adj,l,labels):\n",
        "    labels[u] = l\n",
        "    for v in adj[u]:\n",
        "      if labels[v] == l:\n",
        "        return False\n",
        "\n",
        "      elif labels[v] == 0:\n",
        "        if not dfs_label(v,adj,-l,labels):\n",
        "          return False\n",
        "    return True\n",
        "\n",
        "def is_biparted(adj):\n",
        "  labels = [0]*len(adj)\n",
        "\n",
        "  for i in range(len(adj)):\n",
        "    if labels[i] == 0:\n",
        "      if not dfs_label(i,adj,1,labels):\n",
        "         return False\n",
        "\n",
        "  return True\n",
        "\n",
        "def is_biparted_(adj): # if strings, dict\n",
        "  labels = {}\n",
        "  for u in adj:\n",
        "    if u not in labels:\n",
        "      if not dfs_label(u,adj,1,labels):\n",
        "        return False\n",
        "  return True"
      ],
      "metadata": {
        "id": "6yI2Y5HlrvDk"
      },
      "execution_count": null,
      "outputs": []
    },
    {
      "cell_type": "code",
      "source": [
        "print(is_biparted(g2.adj))\n",
        "print(is_biparted(g2.adj_un))\n",
        "print(is_biparted(reverse(g2.adj)))\n",
        "\n",
        "print(is_biparted_(g1.adj))\n",
        "print(is_biparted_(g1.adj_un))\n",
        "print(is_biparted_(reverse(g1.adj)))"
      ],
      "metadata": {
        "colab": {
          "base_uri": "https://localhost:8080/"
        },
        "id": "0hzYcdKwxl0b",
        "outputId": "cf91cd17-76c2-4058-c967-4fce5c2af3e0"
      },
      "execution_count": null,
      "outputs": [
        {
          "output_type": "stream",
          "name": "stdout",
          "text": [
            "False\n",
            "False\n",
            "False\n",
            "False\n",
            "False\n",
            "False\n"
          ]
        }
      ]
    },
    {
      "cell_type": "code",
      "source": [
        "g3 = {\n",
        "    0: [1, 2],\n",
        "    1: [0, 2],\n",
        "    2: [0, 1]\n",
        "}\n",
        "print(is_biparted(g3))\n",
        "g4 = {\n",
        "    0: [1, 3],\n",
        "    1: [0, 2],\n",
        "    2: [1, 3],\n",
        "    3: [0, 2]\n",
        "}\n",
        "print(is_biparted(g4))"
      ],
      "metadata": {
        "colab": {
          "base_uri": "https://localhost:8080/"
        },
        "id": "CniKR-gB8pSh",
        "outputId": "0bea27d6-4ecc-4b93-aee8-1bc9d442fec6"
      },
      "execution_count": null,
      "outputs": [
        {
          "output_type": "stream",
          "name": "stdout",
          "text": [
            "False\n",
            "True\n"
          ]
        }
      ]
    },
    {
      "cell_type": "code",
      "source": [
        "def dfs_cycle(adj, u, visited=set()):\n",
        "  visited.add(u)\n",
        "\n",
        "  for v in adj[u]:\n",
        "    if v not in visited:\n",
        "      dfs_cycle(adj,v,visited)\n",
        "    else:\n",
        "      return True\n",
        "\n",
        "  return False"
      ],
      "metadata": {
        "id": "cEOgS7qQ9Sv8"
      },
      "execution_count": null,
      "outputs": []
    },
    {
      "cell_type": "code",
      "source": [
        "print(dfs_cycle(g2.adj,0))\n",
        "print(dfs_cycle(g1.adj,\"s\"))"
      ],
      "metadata": {
        "colab": {
          "base_uri": "https://localhost:8080/"
        },
        "id": "d9h0AAgZ-9NS",
        "outputId": "577df1b7-cbcd-4ce5-fcd5-e95e0300aa2e"
      },
      "execution_count": null,
      "outputs": [
        {
          "output_type": "stream",
          "name": "stdout",
          "text": [
            "True\n",
            "True\n"
          ]
        }
      ]
    },
    {
      "cell_type": "markdown",
      "source": [
        "## MENORES CAMINHOS"
      ],
      "metadata": {
        "id": "Znq62qAChqMt"
      }
    },
    {
      "cell_type": "code",
      "source": [
        "def path_to_t(t, dists, prev):\n",
        "  path = []\n",
        "  if dists[t] < float('inf'):\n",
        "    curr = t\n",
        "    while curr is not None:\n",
        "      path.append(curr)\n",
        "      curr = prev[curr]\n",
        "    path.reverse()\n",
        "  return dists[t], path"
      ],
      "metadata": {
        "id": "GSJXBz2JkUz9"
      },
      "execution_count": 19,
      "outputs": []
    },
    {
      "cell_type": "code",
      "source": [
        "# adj_w = adj[u] => (v,w)\n",
        "# edges_w = edges_w[0] => (u,v,w)\n",
        "import heapq\n",
        "\n",
        "def dijkstra(adj, s, t=None): # O( (|V|+|E|)*log|V| )\n",
        "  dists = [float('inf')] * len(adj)\n",
        "  prev = [None] * len(adj) # pra salvar o caminho no final\n",
        "  dists[s] = 0\n",
        "  Q = [(0, s)]\n",
        "  visited = [False] * len(adj)\n",
        "\n",
        "  while Q:\n",
        "    d, u = heapq.heappop(Q)\n",
        "    if visited[u]:\n",
        "      continue\n",
        "    visited[u] = True\n",
        "\n",
        "    if u == t:\n",
        "      break\n",
        "\n",
        "    for v, w in adj[u]:\n",
        "      if dists[v] > d + w:\n",
        "        dists[v] = d + w\n",
        "        prev[v] = u\n",
        "        heapq.heappush(Q, (dists[v], v))\n",
        "\n",
        "  if t is not None:\n",
        "    return path_to_t(t, dists, prev)\n",
        "\n",
        "  return dists, prev\n",
        "\n",
        "def bellman_ford(adj, s, t=None): # O(|V|*|E|) # itera sempre |V|-1 vezes\n",
        "  dists = [float('inf') for u in adj]\n",
        "  dists[s] = 0\n",
        "  prev = [None] * len(adj)\n",
        "  for _ in range(len(adj)-1): # para checar arestas negativas\n",
        "    for u in adj:\n",
        "      for v, w in adj[u]:\n",
        "        if dists[v] > dists[u] + w:\n",
        "          dists[v] = dists[u] + w\n",
        "          prev[v] = u\n",
        "\n",
        "  if t is not None:\n",
        "    return path_to_t(t,dists,prev)\n",
        "\n",
        "  for u in adj: # mais que |V|-1 vezes\n",
        "    for v, w in adj[u]:\n",
        "      if dists[v] > dists[u] + w:\n",
        "        print(\"CICLO NEGATIVO DETECTADO\")\n",
        "\n",
        "  return dists\n",
        "\n",
        "# bellman ford é mais interessante direto com a lista de edges\n",
        "def bellman_ford(V, edges, s, t=None):\n",
        "  dists = [float('inf') for _ in range(V)]\n",
        "  dists[s] = 0\n",
        "  prev = [None] * V\n",
        "  for _ in range(V-1):\n",
        "    for u,v,w in edges:\n",
        "      if dists[v] > dists[u] + w:\n",
        "        dists[v] = dists[u] + w\n",
        "\n",
        "  if t is not None:\n",
        "    return path_to_t(t,dists,prev)\n",
        "\n",
        "  for u, v, w in edges:\n",
        "    if dists[v] > dists[u] + w:\n",
        "      print(\"CICLO NEGATIVO DETECTADO\") # rodou |V| vezes e continou diminuindo\n",
        "\n",
        "  return dists"
      ],
      "metadata": {
        "id": "BGd4Akr9DFqC"
      },
      "execution_count": 20,
      "outputs": []
    },
    {
      "cell_type": "code",
      "source": [
        "def dijkstra_all(adj_w, t=None): # O(|V|log|V|*(|V|+|E|))\n",
        "  dists = []\n",
        "  for s in adj_w:\n",
        "    dists.append(dijkstra(adj_w, s, t))\n",
        "  return dists\n",
        "\n",
        "# all mas checa CICLO negativo\n",
        "def bellman_ford_all(V, edges, t=None):\n",
        "  dists = []\n",
        "  for s in range(V):\n",
        "    dists.append(bellman_ford(V, edges, s, t))\n",
        "\n",
        "def bellman_ford_all(adj_w, t=None):\n",
        "  dists = []\n",
        "  for s in adj_w:\n",
        "    dists.append(bellman_ford(adj_w, s, t))"
      ],
      "metadata": {
        "id": "JgiZl9KUUCHu"
      },
      "execution_count": 15,
      "outputs": []
    },
    {
      "cell_type": "code",
      "source": [
        "# all mas checa negativo (densos, nao checa ciclo neg)\n",
        "def floyd_warshall(V, edges): # O(|V|^3)\n",
        "  dists = [[float('inf')] * V for _ in range(V)]\n",
        "  for i in range(V):\n",
        "    dists[i][i] = 0\n",
        "  for u, v, w in edges:\n",
        "      dists[u][v] = w\n",
        "  for k in range(V):\n",
        "    for i in range(V):\n",
        "      for j in range(V):\n",
        "        if dists[i][k] + dists[k][j] < dists[i][j]:\n",
        "          dists[i][j] = dists[i][k] + dists[k][j]\n",
        "\n",
        "  return dists\n",
        "\n",
        "# all mas checa negativo (esparsos, nao checa ciclo neg)\n",
        "def johnson(V, edges, t=None): # O(log|V|*|V|^2) -> roda bellmanford 1 vez e dps djkstra\n",
        "    # 1. Adiciona vértice fictício x com arestas de peso 0 para todos\n",
        "    x = V\n",
        "    edges_x = edges + [(x, u, 0) for u in range(V)]\n",
        "\n",
        "    # 2. Bellman-Ford a partir de x\n",
        "    h = bellman_ford(edges_x, V + 1, x)  # levanta erro se houver ciclo negativo\n",
        "\n",
        "    # 3. Atualiza todos os pesos (remove negativos)\n",
        "    adj = [[] for _ in range(V)]\n",
        "    for u, v, w in edges:\n",
        "      w_new = w + h[u] - h[v]\n",
        "      adj[u].append((v, w_new))\n",
        "\n",
        "    # 4. Executa Dijkstra de cada vértice\n",
        "    if t is not None:\n",
        "      dists = [float('inf')] * V\n",
        "      for u in range(V):\n",
        "        dist_u_t = dijkstra(adj, V, u, t)\n",
        "        if dist_u_t < float('inf'):\n",
        "          dists[u] = dist_u_t - h[u] + h[t]\n",
        "      return dists\n",
        "\n",
        "    # 4. Sem destino, matriz completa\n",
        "    dists = [[float('inf')] * V for _ in range(V)]\n",
        "    for u in range(V):\n",
        "      dist_u = dijkstra(adj, V, u)\n",
        "      for v in range(V):\n",
        "        if dist_u[v] < float('inf'):\n",
        "          dists[u][v] = dist_u[v] - h[u] + h[v]\n",
        "    return dists"
      ],
      "metadata": {
        "id": "vZ5QAHoTe1Ue"
      },
      "execution_count": 16,
      "outputs": []
    },
    {
      "cell_type": "markdown",
      "source": [
        "## FLUXO"
      ],
      "metadata": {
        "id": "airsIZP1ldlk"
      }
    }
  ]
}