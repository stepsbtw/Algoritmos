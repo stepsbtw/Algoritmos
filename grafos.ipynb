{
  "nbformat": 4,
  "nbformat_minor": 0,
  "metadata": {
    "colab": {
      "provenance": [],
      "toc_visible": true,
      "authorship_tag": "ABX9TyM7V7MHKvcHoN9MXz4CWkB3",
      "include_colab_link": true
    },
    "kernelspec": {
      "name": "python3",
      "display_name": "Python 3"
    },
    "language_info": {
      "name": "python"
    }
  },
  "cells": [
    {
      "cell_type": "markdown",
      "metadata": {
        "id": "view-in-github",
        "colab_type": "text"
      },
      "source": [
        "<a href=\"https://colab.research.google.com/github/stepsbtw/Algoritmos/blob/main/grafos.ipynb\" target=\"_parent\"><img src=\"https://colab.research.google.com/assets/colab-badge.svg\" alt=\"Open In Colab\"/></a>"
      ]
    },
    {
      "cell_type": "markdown",
      "source": [
        "## REPRESENTAÇÃO DOS GRAFOS"
      ],
      "metadata": {
        "id": "xCX27s0Yartw"
      }
    },
    {
      "cell_type": "code",
      "source": [
        "def adj_list(edges, directed=True):\n",
        "    adj = {}\n",
        "    for u, v in edges:\n",
        "        if u not in adj:\n",
        "            adj[u] = []\n",
        "        if v not in adj:\n",
        "            adj[v] = []\n",
        "        adj[u].append(v)\n",
        "        if not directed:\n",
        "          adj[v].append(u)\n",
        "    return adj\n",
        "\n",
        "def node_list(edges):\n",
        "  nodes = []\n",
        "  for u, v in edges:\n",
        "    if u not in nodes:\n",
        "      nodes.append(u)\n",
        "    if v not in nodes:\n",
        "      nodes.append(v)\n",
        "  return nodes\n",
        "\n",
        "def adj_matrix(nodes, edges, directed=True):\n",
        "    node_index = {node: i for i, node in enumerate(nodes)}\n",
        "    adj = {node: [0] * len(nodes) for node in nodes}\n",
        "    for u, v in edges:\n",
        "        adj[u][node_index[v]] = 1\n",
        "        if not directed:\n",
        "          adj[v][node_index[u]] = 1\n",
        "    return adj\n",
        "\n",
        "class G:\n",
        "    def __init__(self, nodes, edges):\n",
        "       self.nodes = nodes\n",
        "       self.edges = edges\n",
        "       self.adj = adj_list(edges)\n",
        "       self.adj_m = adj_matrix(nodes,edges)\n",
        "       self.adj_un = adj_list(edges, directed=False)\n",
        "       self.adj_m_un = adj_matrix(nodes,edges, directed=False)"
      ],
      "metadata": {
        "id": "QB4ecHEtsjY8"
      },
      "execution_count": 499,
      "outputs": []
    },
    {
      "cell_type": "code",
      "source": [
        "nodes = (\"s\",\"a\",\"b\",\"c\",\"d\",\"t\")\n",
        "edges = [\n",
        "(\"s\",\"a\"),(\"s\",\"b\"),(\"b\",\"c\"),\n",
        "(\"a\",\"d\"),(\"d\",\"t\"),(\"c\",\"t\"),\n",
        "(\"a\",\"b\"),(\"b\",\"a\")\n",
        "]\n",
        "\n",
        "g1 = G(nodes,edges)\n",
        "\n",
        "nodes = range(6)\n",
        "\n",
        "edges = [\n",
        "(0,1),(0,2),(2,3),\n",
        "(1,4),(4,5),(3,5),\n",
        "(1,2),(2,1)\n",
        "]\n",
        "\n",
        "g2 = G(nodes, edges)"
      ],
      "metadata": {
        "id": "XdUFKeopynYE"
      },
      "execution_count": 500,
      "outputs": []
    },
    {
      "cell_type": "markdown",
      "source": [
        "## REVERTER O GRAFO"
      ],
      "metadata": {
        "id": "Io9B-Xg1h7Yt"
      }
    },
    {
      "cell_type": "code",
      "source": [
        "def transpose_matrix(adj):\n",
        "  adj_t = {node: [0]*len(adj) for node in adj}\n",
        "\n",
        "  for i in range(len(adj)):\n",
        "    for j in range(len(adj)):\n",
        "      adj_t[i][j] = adj[j][i]\n",
        "\n",
        "  return adj_t\n",
        "\n",
        "def transpose_matrix(adj, nodes=None): # if string nodes\n",
        "    if nodes == None:\n",
        "      nodes = list(adj.keys())\n",
        "    n = len(nodes)\n",
        "    adj_t = {node: [0] * n for node in nodes}\n",
        "\n",
        "    for i, u in enumerate(nodes):\n",
        "        for j, v in enumerate(nodes):\n",
        "            adj_t[v][i] = adj[u][j]\n",
        "\n",
        "    return adj_t"
      ],
      "metadata": {
        "id": "oCeA_H_Ds0A3"
      },
      "execution_count": 501,
      "outputs": []
    },
    {
      "cell_type": "code",
      "source": [
        "g2.adj_m, g1.adj_m"
      ],
      "metadata": {
        "colab": {
          "base_uri": "https://localhost:8080/"
        },
        "id": "m_1_Wvx-1o_y",
        "outputId": "17a9ded4-e3ef-425d-a24a-ca91abd71b7b"
      },
      "execution_count": 502,
      "outputs": [
        {
          "output_type": "execute_result",
          "data": {
            "text/plain": [
              "({0: [0, 1, 1, 0, 0, 0],\n",
              "  1: [0, 0, 1, 0, 1, 0],\n",
              "  2: [0, 1, 0, 1, 0, 0],\n",
              "  3: [0, 0, 0, 0, 0, 1],\n",
              "  4: [0, 0, 0, 0, 0, 1],\n",
              "  5: [0, 0, 0, 0, 0, 0]},\n",
              " {'s': [0, 1, 1, 0, 0, 0],\n",
              "  'a': [0, 0, 1, 0, 1, 0],\n",
              "  'b': [0, 1, 0, 1, 0, 0],\n",
              "  'c': [0, 0, 0, 0, 0, 1],\n",
              "  'd': [0, 0, 0, 0, 0, 1],\n",
              "  't': [0, 0, 0, 0, 0, 0]})"
            ]
          },
          "metadata": {},
          "execution_count": 502
        }
      ]
    },
    {
      "cell_type": "code",
      "source": [
        "transpose_matrix(g2.adj_m), transpose_matrix(g1.adj_m)"
      ],
      "metadata": {
        "colab": {
          "base_uri": "https://localhost:8080/"
        },
        "id": "bvMU9u27tXLR",
        "outputId": "4aa15b6b-2a73-4855-9d8f-82b24f6fe705"
      },
      "execution_count": 503,
      "outputs": [
        {
          "output_type": "execute_result",
          "data": {
            "text/plain": [
              "({0: [0, 0, 0, 0, 0, 0],\n",
              "  1: [1, 0, 1, 0, 0, 0],\n",
              "  2: [1, 1, 0, 0, 0, 0],\n",
              "  3: [0, 0, 1, 0, 0, 0],\n",
              "  4: [0, 1, 0, 0, 0, 0],\n",
              "  5: [0, 0, 0, 1, 1, 0]},\n",
              " {'s': [0, 0, 0, 0, 0, 0],\n",
              "  'a': [1, 0, 1, 0, 0, 0],\n",
              "  'b': [1, 1, 0, 0, 0, 0],\n",
              "  'c': [0, 0, 1, 0, 0, 0],\n",
              "  'd': [0, 1, 0, 0, 0, 0],\n",
              "  't': [0, 0, 0, 1, 1, 0]})"
            ]
          },
          "metadata": {},
          "execution_count": 503
        }
      ]
    },
    {
      "cell_type": "code",
      "source": [
        "g2.adj, g1.adj"
      ],
      "metadata": {
        "colab": {
          "base_uri": "https://localhost:8080/"
        },
        "id": "z6z2nAXGtJl7",
        "outputId": "44dbebe1-1e7e-48e8-af86-4f5f57c72dc0"
      },
      "execution_count": 504,
      "outputs": [
        {
          "output_type": "execute_result",
          "data": {
            "text/plain": [
              "({0: [1, 2], 1: [4, 2], 2: [3, 1], 3: [5], 4: [5], 5: []},\n",
              " {'s': ['a', 'b'],\n",
              "  'a': ['d', 'b'],\n",
              "  'b': ['c', 'a'],\n",
              "  'c': ['t'],\n",
              "  'd': ['t'],\n",
              "  't': []})"
            ]
          },
          "metadata": {},
          "execution_count": 504
        }
      ]
    },
    {
      "cell_type": "code",
      "source": [
        "def reverse_adj(adj):\n",
        "  adj_r = {node: [] for node in adj}\n",
        "  for u in adj:\n",
        "    for v in adj[u]:\n",
        "      adj_r[v].append(u)\n",
        "  return adj_r"
      ],
      "metadata": {
        "id": "sx-E_SZH73w1"
      },
      "execution_count": 505,
      "outputs": []
    },
    {
      "cell_type": "code",
      "source": [
        "reverse_adj(g2.adj)"
      ],
      "metadata": {
        "colab": {
          "base_uri": "https://localhost:8080/"
        },
        "id": "sKQzaO5C4k61",
        "outputId": "82f54363-b3e4-4fae-f76b-ebf92a9a1938"
      },
      "execution_count": 506,
      "outputs": [
        {
          "output_type": "execute_result",
          "data": {
            "text/plain": [
              "{0: [], 1: [0, 2], 2: [0, 1], 3: [2], 4: [1], 5: [3, 4]}"
            ]
          },
          "metadata": {},
          "execution_count": 506
        }
      ]
    },
    {
      "cell_type": "markdown",
      "source": [
        "## BUSCA EM PROFUNDIDADE\n",
        "Em geral problemas sobre a estrutura GLOBAL do grafo.\n",
        "- **PILHA!** (RECURSÃO)\n",
        "\n",
        "- **CONECTIVIDADE**\n",
        "\n",
        "- **COMPONENTES CONEXAS**\n",
        "\n",
        "- **DETECTAR CICLOS**\n",
        "\n",
        "- **TOPOLOGICAL SORT EM DAGS**\n",
        "\n",
        "- **PONTES E ARTICULAÇÕES**\n",
        "\n",
        "- **BACKTRACKING**"
      ],
      "metadata": {
        "id": "T0fp3KNUh-3k"
      }
    },
    {
      "cell_type": "code",
      "source": [
        "def dfs(adj, s=0, visited=None, pre=None, post=None):\n",
        "  if pre is None:\n",
        "    pre = []\n",
        "  if post is None:\n",
        "    post = []\n",
        "  if visited is None:\n",
        "    visited = [False] * len(adj)\n",
        "\n",
        "  visited[s] = True\n",
        "  pre.append(s)\n",
        "\n",
        "  for v in adj[s]:\n",
        "    if not visited[v]:\n",
        "      dfs(adj, v, visited, pre, post)\n",
        "\n",
        "  post.append(s)\n",
        "  return pre, post\n",
        "\n",
        "def dfs_(adj, s=\"s\", visited=None, pre=None,post=None): #string nodes\n",
        "    if pre is None:\n",
        "      pre = []\n",
        "    if post is None:\n",
        "      post = []\n",
        "    if visited is None:\n",
        "      visited = set()\n",
        "\n",
        "    visited.add(s)\n",
        "    pre.append(s)\n",
        "\n",
        "    for v in adj[s]:\n",
        "      if v not in visited:\n",
        "        dfs_(adj, v, visited, pre, post)\n",
        "\n",
        "    post.append(s)\n",
        "    return pre, post\n"
      ],
      "metadata": {
        "id": "dii7ClSzsmrm"
      },
      "execution_count": 507,
      "outputs": []
    },
    {
      "cell_type": "code",
      "source": [
        "def dfs_iter(adj, s=0):\n",
        "    visited = [False]*len(adj)\n",
        "    stack = [(s, False)]\n",
        "    pre, post = [], []\n",
        "    pre_n, post_n = {}, {}\n",
        "    i=-1\n",
        "    j=-1\n",
        "\n",
        "    while stack:\n",
        "      u, explored = stack.pop()\n",
        "      if explored:\n",
        "        j+=1\n",
        "        post.append(u)\n",
        "        post_n[u] = j\n",
        "\n",
        "      elif not visited[u]:\n",
        "        i+=1\n",
        "        visited[u] = True\n",
        "        pre.append(u)\n",
        "        pre_n[u] = i\n",
        "        stack.append((u, True))  # pós-visita (pós-ordem)\n",
        "\n",
        "        for v in reversed(adj[u]):\n",
        "          if not visited[v]:\n",
        "            stack.append((v, False))  # pré-visita\n",
        "\n",
        "    return pre, post, pre_n, post_n\n",
        "\n",
        "def dfs_iter_(adj, s=\"s\"): # string nodes\n",
        "    visited = set()\n",
        "    stack = [(s, False)]\n",
        "    pre, post = [], []\n",
        "    pre_n, post_n = {}, {}\n",
        "    i=-1\n",
        "    j=-1\n",
        "\n",
        "    while stack:\n",
        "      u, explored = stack.pop()\n",
        "      if explored:\n",
        "        j+=1\n",
        "        post.append(u)\n",
        "        post_n[u] = j\n",
        "\n",
        "      elif u not in visited:\n",
        "        i+=1\n",
        "        visited.add(u)\n",
        "        pre.append(u)\n",
        "        pre_n[u] = i\n",
        "        stack.append((u, True))  # pós-visita (pós-ordem)\n",
        "\n",
        "        for v in reversed(adj[u]):\n",
        "          if v not in visited:\n",
        "            stack.append((v, False))  # pré-visita\n",
        "\n",
        "    return pre, post, pre_n, post_n"
      ],
      "metadata": {
        "id": "OTFu2joegQ9e"
      },
      "execution_count": 508,
      "outputs": []
    },
    {
      "cell_type": "code",
      "source": [
        "pre, post, pre_n, post_n = dfs_iter(g2.adj, 0)\n",
        "print(pre)\n",
        "print(post)\n",
        "print(pre_n)\n",
        "print(post_n)\n",
        "\n",
        "pre, post, pre_n, post_n = dfs_iter_(g1.adj, \"s\")\n",
        "print(pre)\n",
        "print(post)\n",
        "print(pre_n)\n",
        "print(post_n)"
      ],
      "metadata": {
        "colab": {
          "base_uri": "https://localhost:8080/"
        },
        "id": "NNosOpMDzDlS",
        "outputId": "bf9840ec-663b-47f4-fbb9-b6da99ee801a"
      },
      "execution_count": 509,
      "outputs": [
        {
          "output_type": "stream",
          "name": "stdout",
          "text": [
            "[0, 1, 4, 5, 2, 3]\n",
            "[5, 4, 3, 2, 1, 0]\n",
            "{0: 0, 1: 1, 4: 2, 5: 3, 2: 4, 3: 5}\n",
            "{5: 0, 4: 1, 3: 2, 2: 3, 1: 4, 0: 5}\n",
            "['s', 'a', 'd', 't', 'b', 'c']\n",
            "['t', 'd', 'c', 'b', 'a', 's']\n",
            "{'s': 0, 'a': 1, 'd': 2, 't': 3, 'b': 4, 'c': 5}\n",
            "{'t': 0, 'd': 1, 'c': 2, 'b': 3, 'a': 4, 's': 5}\n"
          ]
        }
      ]
    },
    {
      "cell_type": "markdown",
      "source": [
        "### TOPOLOGICAL SORT\n",
        "ordenar pelo post number de forma decrescente\n",
        "(só reverter a lista post order)"
      ],
      "metadata": {
        "id": "M65ftuLPiSQa"
      }
    },
    {
      "cell_type": "code",
      "source": [
        "def topological_sort(adj, s=0):\n",
        "  pre, post = dfs(adj, s)\n",
        "  return post[::-1]\n",
        "\n",
        "def topological_sort_(adj, s=0): # string nodes\n",
        "  pre, post = dfs_(adj, s)\n",
        "  return post[::-1]"
      ],
      "metadata": {
        "id": "eC5BwB5Eiajd"
      },
      "execution_count": 510,
      "outputs": []
    },
    {
      "cell_type": "code",
      "source": [
        "topological_sort_(g1.adj, \"s\")"
      ],
      "metadata": {
        "colab": {
          "base_uri": "https://localhost:8080/"
        },
        "id": "911dn9DUeq-v",
        "outputId": "ca03f5f2-e10a-4865-8804-aab52058de24"
      },
      "execution_count": 511,
      "outputs": [
        {
          "output_type": "execute_result",
          "data": {
            "text/plain": [
              "['s', 'a', 'b', 'c', 'd', 't']"
            ]
          },
          "metadata": {},
          "execution_count": 511
        }
      ]
    },
    {
      "cell_type": "code",
      "source": [
        "topological_sort(g2.adj)"
      ],
      "metadata": {
        "colab": {
          "base_uri": "https://localhost:8080/"
        },
        "id": "2N1HJzK6hXnZ",
        "outputId": "837e5bc4-62cd-48d0-814d-3f6b626324be"
      },
      "execution_count": 512,
      "outputs": [
        {
          "output_type": "execute_result",
          "data": {
            "text/plain": [
              "[0, 1, 2, 3, 4, 5]"
            ]
          },
          "metadata": {},
          "execution_count": 512
        }
      ]
    },
    {
      "cell_type": "markdown",
      "source": [
        "### COMPONENTES CONEXAS\n",
        "Um grafo é conexo se existe **PELO MENOS UM** caminho entre todo par de vértices do GRAFO\n",
        "\n",
        "### FORTEMENTE CONEXO\n",
        "Um grafo é fortemente conexo quando ele é conexo **BIDIRECIONADO** (de u pra v e de v pra u)\n",
        "\n",
        "### COMPONENTES CONEXAS\n",
        "Subgrafo em que todos os nós são conexos."
      ],
      "metadata": {
        "id": "DlR_i8NPa9N0"
      }
    },
    {
      "cell_type": "code",
      "source": [
        "adj = [[1,2], [0,3], [0], [1], [5], [4], []] # 3 ccs\n",
        "#adj2 = [[\"a\",\"b\"],[\"s\",\"c\"],[\"s\"],[\"a\"],[\"e\"],[\"d\"],[]]\n",
        "adj2 = {\n",
        "    \"s\": [\"a\",\"b\"],\n",
        "    \"a\": [\"s\",\"c\"],\n",
        "    \"b\": [\"s\"],\n",
        "    \"c\": [\"a\"],\n",
        "    \"d\": [\"e\"],\n",
        "    \"e\": [\"d\"],\n",
        "    \"f\": []\n",
        "}"
      ],
      "metadata": {
        "id": "2WEJMb6QdilI"
      },
      "execution_count": 513,
      "outputs": []
    },
    {
      "cell_type": "code",
      "source": [
        "def componentes_conexas(adj):\n",
        "  V = len(adj)\n",
        "  visitado = [False] * V\n",
        "  componentes = []\n",
        "  for u in range(V):\n",
        "    if not visitado[u]: # dfs pra cada no NÃO visitado!\n",
        "      pre, post = dfs(adj,u,visitado)\n",
        "      componentes.append(pre)\n",
        "  return componentes\n",
        "\n",
        "def componentes_conexas_(adj):\n",
        "  visitado = set()\n",
        "  componentes = []\n",
        "  for u in adj:\n",
        "    if u not in visitado: # dfs pra cada no NÃO visitado!\n",
        "      pre, post = dfs_(adj,u,visitado)\n",
        "      componentes.append(pre)\n",
        "  return componentes"
      ],
      "metadata": {
        "id": "e2ZhMqqtbnv4"
      },
      "execution_count": 514,
      "outputs": []
    },
    {
      "cell_type": "code",
      "source": [
        "componentes_conexas(adj)"
      ],
      "metadata": {
        "colab": {
          "base_uri": "https://localhost:8080/"
        },
        "id": "K1ptQBy_dhbP",
        "outputId": "b24515bf-0ae7-4b45-bc97-5c7d7aaf1949"
      },
      "execution_count": 515,
      "outputs": [
        {
          "output_type": "execute_result",
          "data": {
            "text/plain": [
              "[[0, 1, 3, 2], [4, 5], [6]]"
            ]
          },
          "metadata": {},
          "execution_count": 515
        }
      ]
    },
    {
      "cell_type": "code",
      "source": [
        "componentes_conexas_(adj2)"
      ],
      "metadata": {
        "colab": {
          "base_uri": "https://localhost:8080/"
        },
        "id": "h6pcizNeigtu",
        "outputId": "70e37d27-a725-4128-bf4f-4772d5e74005"
      },
      "execution_count": 516,
      "outputs": [
        {
          "output_type": "execute_result",
          "data": {
            "text/plain": [
              "[['s', 'a', 'c', 'b'], ['d', 'e'], ['f']]"
            ]
          },
          "metadata": {},
          "execution_count": 516
        }
      ]
    },
    {
      "cell_type": "markdown",
      "source": [
        "### COMPONENTES FORTEMENTE CONEXAS\n",
        "\n",
        "KOSARAJU: passa duas vezes completas pelo grafo\n",
        "1. dfs em pos ordem\n",
        "2. dfs no reverso da pos ordem\n",
        "\n",
        "TARJAN: passa UMA UNICA VEZ -> **nao precisa do transposto**\n",
        "\n",
        "na pratica os dois sao O(V+E)"
      ],
      "metadata": {
        "id": "E_Ys7U-bqWcm"
      }
    },
    {
      "cell_type": "code",
      "source": [
        "def dfs(adj, s=0, visited=None, pre=None, post=None):\n",
        "  if pre is None:\n",
        "    pre = []\n",
        "  if post is None:\n",
        "    post = []\n",
        "  if visited is None:\n",
        "    visited = [False] * len(adj)\n",
        "\n",
        "  visited[s] = True\n",
        "  pre.append(s)\n",
        "\n",
        "  for v in adj[s]:\n",
        "    if not visited[v]:\n",
        "      dfs(adj, v, visited, pre, post)\n",
        "\n",
        "  post.append(s)\n",
        "  return pre, post\n",
        "\n",
        "def rev_adj(adj):\n",
        "  V = len(adj)\n",
        "  adj_r = [[] for _ in range(V)]\n",
        "  for u in range(V):\n",
        "    for v in adj[u]:\n",
        "      adj_r[v].append(u)\n",
        "  return adj_r\n",
        "\n",
        "def kosaraju(adj):\n",
        "    visitado = [False] * len(adj)\n",
        "    # Passo 1: Pós-ordem\n",
        "    pilha = []\n",
        "    for v in range(len(adj)):\n",
        "      if not visitado[v]:\n",
        "        dfs(adj, v, visitado, post=pilha)\n",
        "\n",
        "    # Passo 2: Transpor o grafo\n",
        "    adj_rev = rev_adj(adj)\n",
        "\n",
        "    # Passo 3: DFS no grafo transposto\n",
        "    visitado = [False] * len(adj)\n",
        "    sccs = []\n",
        "\n",
        "    while pilha:\n",
        "      v = pilha.pop()\n",
        "      if not visitado[v]:\n",
        "        componente = []\n",
        "        dfs(adj_rev, v, visitado, pre=componente)\n",
        "        sccs.append(componente)\n",
        "\n",
        "    return sccs"
      ],
      "metadata": {
        "id": "cDaeJfY5p_EG"
      },
      "execution_count": 517,
      "outputs": []
    },
    {
      "cell_type": "code",
      "source": [
        "def dfs_iterativo(adj, s, visitado, pre=None, post=None):\n",
        "    stack = [(s, 0)]  # (nó, estágio 0=antes de visitar vizinhos, 1=depois)\n",
        "    while stack:\n",
        "        v, stage = stack.pop()\n",
        "        if stage == 0:\n",
        "            if visitado[v]:\n",
        "                continue\n",
        "            visitado[v] = True\n",
        "            if pre is not None:\n",
        "                pre.append(v)\n",
        "            stack.append((v, 1))  # Marcar que vamos fazer o post depois\n",
        "            for u in reversed(adj[v]):  # Reverso para manter ordem consistente\n",
        "                if not visitado[u]:\n",
        "                    stack.append((u, 0))\n",
        "        else:\n",
        "            if post is not None:\n",
        "                post.append(v)\n",
        "\n",
        "def kosaraju_iterativo(adj):\n",
        "    n = len(adj)\n",
        "    visitado = [False] * n\n",
        "    post = []\n",
        "\n",
        "    # Passo 1: DFS no grafo original para gerar a ordem de finalização (post-ordem)\n",
        "    for v in range(n):\n",
        "        if not visitado[v]:\n",
        "            dfs_iterativo(adj, v, visitado, post=post)\n",
        "\n",
        "    # Passo 2: Transpor o grafo\n",
        "    adj_rev = rev_adj(adj)\n",
        "\n",
        "    # Passo 3: DFS no grafo transposto, na ordem inversa do post\n",
        "    visitado = [False] * n\n",
        "    sccs = []\n",
        "\n",
        "    while post:\n",
        "        v = post.pop()\n",
        "        if not visitado[v]:\n",
        "            componente = []\n",
        "            dfs_iterativo(adj_rev, v, visitado, pre=componente)\n",
        "            sccs.append(componente)\n",
        "\n",
        "    return sccs\n"
      ],
      "metadata": {
        "id": "FawIFjFxyBue"
      },
      "execution_count": 518,
      "outputs": []
    },
    {
      "cell_type": "code",
      "source": [
        "edges = [(1,0),(0,2),(2,1),(0,3),(3,4)]\n",
        "adj = adj_list(edges)\n",
        "print(kosaraju(adj))\n",
        "print(kosaraju_iterativo(adj))\n"
      ],
      "metadata": {
        "colab": {
          "base_uri": "https://localhost:8080/"
        },
        "id": "lYowAoE_uzW5",
        "outputId": "f9e9ae2d-b3b6-4e56-c873-0deb6715d947"
      },
      "execution_count": 519,
      "outputs": [
        {
          "output_type": "stream",
          "name": "stdout",
          "text": [
            "[[0, 1, 2], [3], [4]]\n",
            "[[0, 1, 2], [3], [4]]\n"
          ]
        }
      ]
    },
    {
      "cell_type": "code",
      "source": [
        "adj2 = [\n",
        "    [1],\n",
        "    [2],\n",
        "    [0, 3],\n",
        "    [4],\n",
        "    [5],\n",
        "    [3]\n",
        "]\n",
        "\n",
        "print(kosaraju(adj2))\n",
        "print(kosaraju_iterativo(adj2))"
      ],
      "metadata": {
        "colab": {
          "base_uri": "https://localhost:8080/"
        },
        "id": "VdiwKYlHx6RU",
        "outputId": "c6248b9c-db7c-42b9-dd85-029566d4da25"
      },
      "execution_count": 520,
      "outputs": [
        {
          "output_type": "stream",
          "name": "stdout",
          "text": [
            "[[0, 2, 1], [3, 5, 4]]\n",
            "[[0, 2, 1], [3, 5, 4]]\n"
          ]
        }
      ]
    },
    {
      "cell_type": "code",
      "source": [
        "def tarjan(adj):\n",
        "    n = len(adj)\n",
        "    ids = [-1] * n\n",
        "    low = [0] * n\n",
        "    on_stack = [False] * n\n",
        "    stack = []\n",
        "    id_counter = 0\n",
        "    sccs = []\n",
        "\n",
        "    def dfs(at):\n",
        "        nonlocal id_counter\n",
        "        stack.append(at)\n",
        "        on_stack[at] = True\n",
        "        ids[at] = id_counter\n",
        "        low[at] = id_counter\n",
        "        id_counter += 1\n",
        "\n",
        "        for to in adj[at]:\n",
        "            if ids[to] == -1:\n",
        "                dfs(to)\n",
        "                low[at] = min(low[at], low[to])\n",
        "            elif on_stack[to]:\n",
        "                low[at] = min(low[at], ids[to])\n",
        "\n",
        "        # Se `at` é raiz da SCC\n",
        "        if ids[at] == low[at]:\n",
        "            scc = []\n",
        "            while True:\n",
        "                node = stack.pop()\n",
        "                on_stack[node] = False\n",
        "                scc.append(node)\n",
        "                if node == at:\n",
        "                    break\n",
        "            sccs.append(scc)\n",
        "\n",
        "    for i in range(n):\n",
        "        if ids[i] == -1:\n",
        "            dfs(i)\n",
        "\n",
        "    return sccs\n"
      ],
      "metadata": {
        "id": "6f2z8psDycw-"
      },
      "execution_count": 521,
      "outputs": []
    },
    {
      "cell_type": "code",
      "source": [
        "def tarjan_iterativo(adj):\n",
        "    n = len(adj)\n",
        "    ids = [-1] * n\n",
        "    low = [0] * n\n",
        "    on_stack = [False] * n\n",
        "    stack = []\n",
        "    sccs = []\n",
        "\n",
        "    id_counter = 0\n",
        "\n",
        "    # Pilha para simular chamadas DFS: cada frame = (node, index de próximo filho)\n",
        "    call_stack = []\n",
        "\n",
        "    for start in range(n):\n",
        "        if ids[start] != -1:\n",
        "            continue\n",
        "\n",
        "        call_stack.append((start, 0))\n",
        "        while call_stack:\n",
        "            node, nxt_idx = call_stack[-1]\n",
        "\n",
        "            if ids[node] == -1:\n",
        "                # Primeira vez visitando node\n",
        "                ids[node] = id_counter\n",
        "                low[node] = id_counter\n",
        "                id_counter += 1\n",
        "                stack.append(node)\n",
        "                on_stack[node] = True\n",
        "\n",
        "            neighbors = adj[node]\n",
        "\n",
        "            if nxt_idx < len(neighbors):\n",
        "                nbr = neighbors[nxt_idx]\n",
        "                call_stack[-1] = (node, nxt_idx + 1)\n",
        "\n",
        "                if ids[nbr] == -1:\n",
        "                    # Visit neighbor\n",
        "                    call_stack.append((nbr, 0))\n",
        "                elif on_stack[nbr]:\n",
        "                    # Atualiza low[node] com id do vizinho na pilha\n",
        "                    low[node] = min(low[node], ids[nbr])\n",
        "\n",
        "            else:\n",
        "                # Terminar o processamento de node\n",
        "                if ids[node] == low[node]:\n",
        "                    # raiz de SCC\n",
        "                    scc = []\n",
        "                    while True:\n",
        "                        w = stack.pop()\n",
        "                        on_stack[w] = False\n",
        "                        scc.append(w)\n",
        "                        if w == node:\n",
        "                            break\n",
        "                    sccs.append(scc)\n",
        "\n",
        "                call_stack.pop()\n",
        "                if call_stack:\n",
        "                    parent, parent_idx = call_stack[-1]\n",
        "                    low[parent] = min(low[parent], low[node])\n",
        "\n",
        "    return sccs\n"
      ],
      "metadata": {
        "id": "V2SJzLyYzX-p"
      },
      "execution_count": 522,
      "outputs": []
    },
    {
      "cell_type": "code",
      "source": [
        "print(tarjan(adj))\n",
        "print(tarjan(adj2))\n",
        "print(tarjan_iterativo(adj))\n",
        "print(tarjan_iterativo(adj2))"
      ],
      "metadata": {
        "colab": {
          "base_uri": "https://localhost:8080/"
        },
        "id": "A5tq5LmxytCr",
        "outputId": "a38b126f-674f-418c-dc14-c16cf95964e4"
      },
      "execution_count": 523,
      "outputs": [
        {
          "output_type": "stream",
          "name": "stdout",
          "text": [
            "[[4], [3], [1, 2, 0]]\n",
            "[[5, 4, 3], [2, 1, 0]]\n",
            "[[4], [3], [1, 2, 0]]\n",
            "[[5, 4, 3], [2, 1, 0]]\n"
          ]
        }
      ]
    },
    {
      "cell_type": "markdown",
      "source": [
        "### GRAFO BIPARTIDO"
      ],
      "metadata": {
        "id": "zrI-WIumh1cQ"
      }
    },
    {
      "cell_type": "code",
      "source": [
        "# checar se o grafo NAO DIRECIONADO é bipartido\n",
        "# checar se com a atual configuracao de arestas\n",
        "# tenho dois conjuntos disjuntos de nos\n",
        "g2.adj_un"
      ],
      "metadata": {
        "colab": {
          "base_uri": "https://localhost:8080/"
        },
        "id": "5piI3Havqc3I",
        "outputId": "fa1fe423-7761-4bac-d660-68adac2926aa"
      },
      "execution_count": 524,
      "outputs": [
        {
          "output_type": "execute_result",
          "data": {
            "text/plain": [
              "{0: [1, 2], 1: [0, 4, 2, 2], 2: [0, 3, 1, 1], 3: [2, 5], 4: [1, 5], 5: [4, 3]}"
            ]
          },
          "metadata": {},
          "execution_count": 524
        }
      ]
    },
    {
      "cell_type": "code",
      "source": [
        "# problema de coloração 2 cores\n",
        "# adjacentes precisam ter cores diferentes\n",
        "# se tem aresta, cor diferente\n",
        "\n",
        "def dfs_label(u, adj, l, labels):\n",
        "    labels[u] = l\n",
        "    for v in adj[u]:\n",
        "        if labels[v] == l:\n",
        "            return False\n",
        "        elif labels[v] == 0:\n",
        "            if not dfs_label(v, adj, -l, labels):\n",
        "                return False\n",
        "    return True\n",
        "\n",
        "def is_biparted(adj):\n",
        "    labels = [0] * len(adj)\n",
        "    for i in range(len(adj)):\n",
        "        if labels[i] == 0:\n",
        "            if not dfs_label(i, adj, 1, labels):\n",
        "                return False\n",
        "    return True\n",
        "\n",
        "def dfs_label_(u, adj, l, labels):\n",
        "    labels[u] = l\n",
        "    for v in adj[u]:\n",
        "        if v in labels:\n",
        "            if labels[v] == l:\n",
        "                return False\n",
        "        else:\n",
        "            if not dfs_label_(v, adj, -l, labels):\n",
        "                return False\n",
        "    return True\n",
        "\n",
        "def is_biparted_(adj):\n",
        "    labels = {}\n",
        "    for u in adj:\n",
        "        if u not in labels:\n",
        "            if not dfs_label_(u, adj, 1, labels):\n",
        "                return False\n",
        "    return True\n"
      ],
      "metadata": {
        "id": "6yI2Y5HlrvDk"
      },
      "execution_count": 525,
      "outputs": []
    },
    {
      "cell_type": "code",
      "source": [
        "print(is_biparted(g2.adj))\n",
        "print(is_biparted(g2.adj_un))\n",
        "print(is_biparted(reverse_adj(g2.adj)))\n",
        "\n",
        "print(is_biparted_(g1.adj))\n",
        "print(is_biparted_(g1.adj_un))\n",
        "print(is_biparted_(reverse_adj(g1.adj)))"
      ],
      "metadata": {
        "colab": {
          "base_uri": "https://localhost:8080/"
        },
        "id": "0hzYcdKwxl0b",
        "outputId": "cc377db7-01f2-4288-b502-4e5e0c9165e3"
      },
      "execution_count": 526,
      "outputs": [
        {
          "output_type": "stream",
          "name": "stdout",
          "text": [
            "False\n",
            "False\n",
            "False\n",
            "False\n",
            "False\n",
            "False\n"
          ]
        }
      ]
    },
    {
      "cell_type": "code",
      "source": [
        "g3 = {\n",
        "    0: [1, 2],\n",
        "    1: [0, 2],\n",
        "    2: [0, 1]\n",
        "}\n",
        "print(is_biparted(g3))\n",
        "g4 = {\n",
        "    0: [1, 3],\n",
        "    1: [0, 2],\n",
        "    2: [1, 3],\n",
        "    3: [0, 2]\n",
        "}\n",
        "print(is_biparted(g4))"
      ],
      "metadata": {
        "id": "CniKR-gB8pSh",
        "colab": {
          "base_uri": "https://localhost:8080/"
        },
        "outputId": "1ac399fe-f398-47bd-d135-128fbf14c61f"
      },
      "execution_count": 527,
      "outputs": [
        {
          "output_type": "stream",
          "name": "stdout",
          "text": [
            "False\n",
            "True\n"
          ]
        }
      ]
    },
    {
      "cell_type": "markdown",
      "source": [
        "### DETECTAR CICLOS"
      ],
      "metadata": {
        "id": "XNZ6UnHxm1xe"
      }
    },
    {
      "cell_type": "code",
      "source": [
        "def dfs_cycle(adj, u, visited, prev):\n",
        "    visited.add(u)\n",
        "    for v in adj[u]:\n",
        "      if v not in visited:\n",
        "        if dfs_cycle(adj, v, visited, u):\n",
        "            return True\n",
        "      elif v != prev:\n",
        "        return True\n",
        "    return False\n",
        "\n",
        "def has_cycle(adj):\n",
        "    visited = set()\n",
        "    for u in adj:\n",
        "      if u not in visited:\n",
        "        if dfs_cycle(adj, u, visited, None):\n",
        "          return True\n",
        "    return False\n"
      ],
      "metadata": {
        "id": "cEOgS7qQ9Sv8"
      },
      "execution_count": 528,
      "outputs": []
    },
    {
      "cell_type": "code",
      "source": [
        "print(has_cycle(g2.adj))\n",
        "print(has_cycle(g1.adj))"
      ],
      "metadata": {
        "id": "d9h0AAgZ-9NS",
        "colab": {
          "base_uri": "https://localhost:8080/"
        },
        "outputId": "a481323f-887b-4c74-8bec-e5a69fb059da"
      },
      "execution_count": 529,
      "outputs": [
        {
          "output_type": "stream",
          "name": "stdout",
          "text": [
            "True\n",
            "True\n"
          ]
        }
      ]
    },
    {
      "cell_type": "code",
      "source": [
        "adj = {\n",
        "    'a': ['b', 'c'],\n",
        "    'b': ['a', 'd'],\n",
        "    'c': ['a'],\n",
        "    'd': ['b']\n",
        "}\n",
        "print(has_cycle(adj))"
      ],
      "metadata": {
        "id": "2BtwYu_3m03g",
        "colab": {
          "base_uri": "https://localhost:8080/"
        },
        "outputId": "b1b11b3b-b40d-430a-934b-d990d8e18451"
      },
      "execution_count": 530,
      "outputs": [
        {
          "output_type": "stream",
          "name": "stdout",
          "text": [
            "False\n"
          ]
        }
      ]
    },
    {
      "cell_type": "code",
      "source": [
        "print(is_biparted_(adj))"
      ],
      "metadata": {
        "id": "Z50QXF1wnAJo",
        "colab": {
          "base_uri": "https://localhost:8080/"
        },
        "outputId": "ec0d63b6-c2e5-4315-d1a9-1748e6909e74"
      },
      "execution_count": 531,
      "outputs": [
        {
          "output_type": "stream",
          "name": "stdout",
          "text": [
            "True\n"
          ]
        }
      ]
    },
    {
      "cell_type": "markdown",
      "source": [
        "### ENCONTRAR PONTES e ARTICULACOES\n",
        "### PONTE\n",
        "Remover essa **aresta** aumenta o numero de componentes conexas do grafo!\n",
        "\n",
        "ex: (0-1-2-3) todas arestas sao pontes\n",
        "\n",
        "### ARTICULACAO (COTOVELO)\n",
        "Remover esse **vértice** aumenta o numero de componentes conexas do grafo\n",
        "\n",
        "ex: numa arvore, qualquer no que nao seja folha é uma **articulacao**"
      ],
      "metadata": {
        "id": "Nql_wa9w4Exj"
      }
    },
    {
      "cell_type": "markdown",
      "source": [
        "Para cada u\n",
        "calcular um LOW -> o menor pre number que pode ser alcancado a partir de u pegando **zero ou mais arestas** e no maximo **UMA back-edge**\n",
        "\n",
        "esse low[u] é o vertice MAIS ANTIGO que os descendentes podem voltar\n",
        "\n",
        "se low[u] for igual ao prenumber significa que nao existe back-edge, formam uma componente isolada"
      ],
      "metadata": {
        "id": "uE2NN9Mp60ZZ"
      }
    },
    {
      "cell_type": "code",
      "source": [
        "def pontes_articulacoes(adj):\n",
        "    V = len(adj)\n",
        "    pre = [None] * V\n",
        "    low = [None] * V\n",
        "    visitado = [False] * V\n",
        "    i = 0\n",
        "    pontes = []\n",
        "    articulacoes = set()\n",
        "\n",
        "    def dfs(u,prev=None,i=0):\n",
        "        visitado[u] = True\n",
        "        pre[u] = low[u] = i\n",
        "        i += 1\n",
        "        filhos = 0\n",
        "\n",
        "        for v in adj[u]:\n",
        "            if v == prev:\n",
        "                continue\n",
        "            if visitado[v]:\n",
        "                low[u] = min(low[u], pre[v]) # back edge\n",
        "            else:\n",
        "                dfs(v, u, i)\n",
        "                low[u] = min(low[u], low[v])\n",
        "                if low[v] > pre[u]:\n",
        "                    pontes.append((u, v))\n",
        "                if prev is not None and low[v] >= pre[u]:\n",
        "                    articulacoes.add(u)\n",
        "                filhos += 1\n",
        "\n",
        "        if prev is None and filhos > 1:\n",
        "            articulacoes.add(u)\n",
        "\n",
        "    for u in range(V):\n",
        "        if not visitado[u]:\n",
        "            dfs(u)\n",
        "\n",
        "    return pontes, articulacoes"
      ],
      "metadata": {
        "id": "8KXLNU6-46Uc"
      },
      "execution_count": 538,
      "outputs": []
    },
    {
      "cell_type": "code",
      "source": [
        "adj = [\n",
        "    [1, 3],\n",
        "    [0, 2, 4],\n",
        "    [1],\n",
        "    [0, 4],\n",
        "    [1, 3]\n",
        "]\n",
        "pontes_articulacoes(adj)"
      ],
      "metadata": {
        "colab": {
          "base_uri": "https://localhost:8080/"
        },
        "id": "0IbUWXDD7TsL",
        "outputId": "6bb73d9f-3b17-438b-c62a-1b81e28af0f1"
      },
      "execution_count": 539,
      "outputs": [
        {
          "output_type": "execute_result",
          "data": {
            "text/plain": [
              "([(1, 2)], {1})"
            ]
          },
          "metadata": {},
          "execution_count": 539
        }
      ]
    },
    {
      "cell_type": "markdown",
      "source": [
        "##BUSCA EM LARGURA\n",
        "- **FILA**\n",
        "\n",
        "- **MENORES CAMINHOS** em grafos NÃO PONDERADOS (sem pesos, apenas numero de arestas)\n",
        "\n",
        "Explora os nós a 1 aresta de distancia, a 2, e assim em diante.\n",
        "\n",
        "- Verificar **CONECTIVIDADE** (tambem posso usar pra componentes conexas)\n",
        "\n",
        "- Problemas de **FLUXO MÁXIMO**"
      ],
      "metadata": {
        "id": "xhqrbD_6YQm8"
      }
    },
    {
      "cell_type": "markdown",
      "source": [
        "### COMPONENTES CONEXAS"
      ],
      "metadata": {
        "id": "h50yKdH13Csh"
      }
    },
    {
      "cell_type": "code",
      "source": [
        "from collections import deque\n",
        "\n",
        "def bfs(adj, u=0, visitado=None):\n",
        "    if visitado is None:\n",
        "      visitado = [False] * len(adj)\n",
        "    fila = deque([u])\n",
        "    pre = []\n",
        "    visitado[u] = True\n",
        "    while fila:\n",
        "        atual = fila.popleft()\n",
        "        pre.append(atual)\n",
        "        for v in adj[atual]:\n",
        "            if not visitado[v]:\n",
        "                visitado[v] = True\n",
        "                fila.append(v)\n",
        "    return pre\n",
        "\n",
        "def bfs_(adj, u=\"s\", visitado=None):\n",
        "    if visitado is None:\n",
        "      visitado = set()\n",
        "    fila = deque([u])\n",
        "    pre = []\n",
        "    visitado.add(u)\n",
        "    while fila:\n",
        "        atual = fila.popleft()\n",
        "        pre.append(atual)\n",
        "        for v in adj[atual]:\n",
        "            if v not in visitado:\n",
        "                visitado.add(v)\n",
        "                fila.append(v)\n",
        "    return pre\n",
        "\n",
        "def componentes_conexos_bfs(adj):\n",
        "    n = len(adj)\n",
        "    visitado = [False] * n\n",
        "    componentes = []\n",
        "    for u in range(n):\n",
        "        if not visitado[u]:\n",
        "            componente = bfs(adj,u,visitado)\n",
        "            componentes.append(componente)\n",
        "    return componentes\n",
        "\n",
        "def componentes_conexos_bfs_(adj):\n",
        "    n = len(adj)\n",
        "    visitado = set()\n",
        "    componentes = []\n",
        "    for u in adj:\n",
        "        if u not in visitado:\n",
        "            componente = bfs_(adj,u,visitado)\n",
        "            componentes.append(componente)\n",
        "    return componentes"
      ],
      "metadata": {
        "id": "Ibm39R0N1e_1"
      },
      "execution_count": 532,
      "outputs": []
    },
    {
      "cell_type": "code",
      "source": [
        "adj = [[1,2], [0,3], [0], [1], [5], [4], []] # 3 ccs\n",
        "#adj2 = [[\"a\",\"b\"],[\"s\",\"c\"],[\"s\"],[\"a\"],[\"e\"],[\"d\"],[]]\n",
        "adj2 = {\n",
        "    \"s\": [\"a\",\"b\"],\n",
        "    \"a\": [\"s\",\"c\"],\n",
        "    \"b\": [\"s\"],\n",
        "    \"c\": [\"a\"],\n",
        "    \"d\": [\"e\"],\n",
        "    \"e\": [\"d\"],\n",
        "    \"f\": []\n",
        "}\n",
        "print(componentes_conexos_bfs(adj))\n",
        "print(componentes_conexos_bfs_(adj2))"
      ],
      "metadata": {
        "colab": {
          "base_uri": "https://localhost:8080/"
        },
        "id": "GnAn-uFG13D4",
        "outputId": "ea6509ae-7c4a-4217-b28c-57f76a51d836"
      },
      "execution_count": 533,
      "outputs": [
        {
          "output_type": "stream",
          "name": "stdout",
          "text": [
            "[[0, 1, 2, 3], [4, 5], [6]]\n",
            "[['s', 'a', 'b', 'c'], ['d', 'e'], ['f']]\n"
          ]
        }
      ]
    },
    {
      "cell_type": "markdown",
      "source": [
        "### GRAFO BIPARTIDO\n",
        "1. Tente pintar os nós com cores alternadas (0 e 1).\n",
        "\n",
        "2. Se encontrar um vizinho com a mesma cor, o grafo não é bipartido.\n",
        "\n",
        "3. Repita para todos os componentes (caso o grafo seja desconexo)."
      ],
      "metadata": {
        "id": "K_UOFFss3Gx2"
      }
    },
    {
      "cell_type": "code",
      "source": [
        "def is_biparted(adj):\n",
        "    n = len(adj)\n",
        "    cor = [-1] * n  # -1 = não colorido, 0 ou 1 = cores\n",
        "    for u in range(n):\n",
        "        if cor[u] == -1:\n",
        "            fila = deque([u])\n",
        "            cor[u] = 0  # Começa com a cor 0\n",
        "            while fila:\n",
        "                atual = fila.popleft()\n",
        "                for vizinho in adj[atual]:\n",
        "                    if cor[vizinho] == -1:\n",
        "                        cor[vizinho] = 1 - cor[atual]  # Cor alternada\n",
        "                        fila.append(vizinho)\n",
        "                    elif cor[vizinho] == cor[atual]:\n",
        "                        return False\n",
        "    return True"
      ],
      "metadata": {
        "id": "j5Kcmg1u3QT-"
      },
      "execution_count": null,
      "outputs": []
    },
    {
      "cell_type": "markdown",
      "source": [
        "O BFS serve pra checar BIPARTICAO (com a mesma complexidade)\n",
        "mas nao para checar CICLOS, PONTES, ARTICULACOES."
      ],
      "metadata": {
        "id": "2irZml6W3mmV"
      }
    },
    {
      "cell_type": "markdown",
      "source": [
        "## MENORES CAMINHOS COM PESOS"
      ],
      "metadata": {
        "id": "Znq62qAChqMt"
      }
    },
    {
      "cell_type": "code",
      "source": [
        "def path_to_t(t, dists, prev):\n",
        "  path = []\n",
        "  if dists[t] < float('inf'):\n",
        "    curr = t\n",
        "    while curr is not None:\n",
        "      path.append(curr)\n",
        "      curr = prev[curr]\n",
        "    path.reverse()\n",
        "  return dists[t], path"
      ],
      "metadata": {
        "id": "GSJXBz2JkUz9"
      },
      "execution_count": 534,
      "outputs": []
    },
    {
      "cell_type": "code",
      "source": [
        "# adj_w = adj[u] => (v,w)\n",
        "# edges_w = edges_w[0] => (u,v,w)\n",
        "import heapq\n",
        "\n",
        "def dijkstra(adj, s, t=None): # O( (|V|+|E|)*log|V| )\n",
        "  dists = [float('inf')] * len(adj)\n",
        "  prev = [None] * len(adj) # pra salvar o caminho no final\n",
        "  dists[s] = 0\n",
        "  Q = [(0, s)]\n",
        "  visited = [False] * len(adj)\n",
        "\n",
        "  while Q:\n",
        "    d, u = heapq.heappop(Q)\n",
        "    if visited[u]:\n",
        "      continue\n",
        "    visited[u] = True\n",
        "\n",
        "    if u == t:\n",
        "      break\n",
        "\n",
        "    for v, w in adj[u]:\n",
        "      if dists[v] > d + w:\n",
        "        dists[v] = d + w\n",
        "        prev[v] = u\n",
        "        heapq.heappush(Q, (dists[v], v))\n",
        "\n",
        "  if t is not None:\n",
        "    return path_to_t(t, dists, prev)\n",
        "\n",
        "  return dists, prev\n",
        "\n",
        "def bellman_ford(adj, s, t=None): # O(|V|*|E|) # itera sempre |V|-1 vezes\n",
        "  dists = [float('inf') for u in adj]\n",
        "  dists[s] = 0\n",
        "  prev = [None] * len(adj)\n",
        "  for _ in range(len(adj)-1): # para checar arestas negativas\n",
        "    for u in adj:\n",
        "      for v, w in adj[u]:\n",
        "        if dists[v] > dists[u] + w:\n",
        "          dists[v] = dists[u] + w\n",
        "          prev[v] = u\n",
        "\n",
        "  if t is not None:\n",
        "    return path_to_t(t,dists,prev)\n",
        "\n",
        "  for u in adj: # mais que |V|-1 vezes\n",
        "    for v, w in adj[u]:\n",
        "      if dists[v] > dists[u] + w:\n",
        "        print(\"CICLO NEGATIVO DETECTADO\")\n",
        "\n",
        "  return dists\n",
        "\n",
        "# bellman ford é mais interessante direto com a lista de edges\n",
        "def bellman_ford(V, edges, s, t=None):\n",
        "  dists = [float('inf') for _ in range(V)]\n",
        "  dists[s] = 0\n",
        "  prev = [None] * V\n",
        "  for _ in range(V-1):\n",
        "    for u,v,w in edges:\n",
        "      if dists[v] > dists[u] + w:\n",
        "        dists[v] = dists[u] + w\n",
        "\n",
        "  if t is not None:\n",
        "    return path_to_t(t,dists,prev)\n",
        "\n",
        "  for u, v, w in edges:\n",
        "    if dists[v] > dists[u] + w:\n",
        "      print(\"CICLO NEGATIVO DETECTADO\") # rodou |V| vezes e continou diminuindo\n",
        "\n",
        "  return dists"
      ],
      "metadata": {
        "id": "BGd4Akr9DFqC"
      },
      "execution_count": 535,
      "outputs": []
    },
    {
      "cell_type": "code",
      "source": [
        "def dijkstra_all(adj_w, t=None): # O(|V|log|V|*(|V|+|E|))\n",
        "  dists = []\n",
        "  for s in adj_w:\n",
        "    dists.append(dijkstra(adj_w, s, t))\n",
        "  return dists\n",
        "\n",
        "# all mas checa CICLO negativo\n",
        "def bellman_ford_all(V, edges, t=None):\n",
        "  dists = []\n",
        "  for s in range(V):\n",
        "    dists.append(bellman_ford(V, edges, s, t))\n",
        "\n",
        "def bellman_ford_all(adj_w, t=None):\n",
        "  dists = []\n",
        "  for s in adj_w:\n",
        "    dists.append(bellman_ford(adj_w, s, t))"
      ],
      "metadata": {
        "id": "JgiZl9KUUCHu"
      },
      "execution_count": 536,
      "outputs": []
    },
    {
      "cell_type": "code",
      "source": [
        "# all mas checa negativo (densos, nao checa ciclo neg)\n",
        "def floyd_warshall(V, edges): # O(|V|^3)\n",
        "  dists = [[float('inf')] * V for _ in range(V)]\n",
        "  for i in range(V):\n",
        "    dists[i][i] = 0\n",
        "  for u, v, w in edges:\n",
        "      dists[u][v] = w\n",
        "  for k in range(V):\n",
        "    for i in range(V):\n",
        "      for j in range(V):\n",
        "        if dists[i][k] + dists[k][j] < dists[i][j]:\n",
        "          dists[i][j] = dists[i][k] + dists[k][j]\n",
        "\n",
        "  return dists\n",
        "\n",
        "# all mas checa negativo (esparsos, nao checa ciclo neg)\n",
        "def johnson(V, edges, t=None): # O(log|V|*|V|^2) -> roda bellmanford 1 vez e dps djkstra\n",
        "    # 1. Adiciona vértice fictício x com arestas de peso 0 para todos\n",
        "    x = V\n",
        "    edges_x = edges + [(x, u, 0) for u in range(V)]\n",
        "\n",
        "    # 2. Bellman-Ford a partir de x\n",
        "    h = bellman_ford(edges_x, V + 1, x)  # levanta erro se houver ciclo negativo\n",
        "\n",
        "    # 3. Atualiza todos os pesos (remove negativos)\n",
        "    adj = [[] for _ in range(V)]\n",
        "    for u, v, w in edges:\n",
        "      w_new = w + h[u] - h[v]\n",
        "      adj[u].append((v, w_new))\n",
        "\n",
        "    # 4. Executa Dijkstra de cada vértice\n",
        "    if t is not None:\n",
        "      dists = [float('inf')] * V\n",
        "      for u in range(V):\n",
        "        dist_u_t = dijkstra(adj, V, u, t)\n",
        "        if dist_u_t < float('inf'):\n",
        "          dists[u] = dist_u_t - h[u] + h[t]\n",
        "      return dists\n",
        "\n",
        "    # 4. Sem destino, matriz completa\n",
        "    dists = [[float('inf')] * V for _ in range(V)]\n",
        "    for u in range(V):\n",
        "      dist_u = dijkstra(adj, V, u)\n",
        "      for v in range(V):\n",
        "        if dist_u[v] < float('inf'):\n",
        "          dists[u][v] = dist_u[v] - h[u] + h[v]\n",
        "    return dists"
      ],
      "metadata": {
        "id": "vZ5QAHoTe1Ue"
      },
      "execution_count": 537,
      "outputs": []
    },
    {
      "cell_type": "markdown",
      "source": [
        "## ARVORE GERADORA MINIMA"
      ],
      "metadata": {
        "id": "ackrnHAKYL2h"
      }
    },
    {
      "cell_type": "markdown",
      "source": [
        "## FLUXO"
      ],
      "metadata": {
        "id": "airsIZP1ldlk"
      }
    }
  ]
}